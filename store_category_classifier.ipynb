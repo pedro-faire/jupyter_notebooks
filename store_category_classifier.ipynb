{
 "cells": [
  {
   "cell_type": "markdown",
   "metadata": {},
   "source": [
    "# Classify store category based on name\n",
    "### by Pedro de Bruin"
   ]
  },
  {
   "cell_type": "code",
   "execution_count": 1,
   "metadata": {},
   "outputs": [],
   "source": [
    "import pandas as pd\n",
    "import numpy as np\n",
    "import matplotlib.pyplot as plt\n",
    "%matplotlib inline"
   ]
  },
  {
   "cell_type": "code",
   "execution_count": 2,
   "metadata": {},
   "outputs": [],
   "source": [
    "min_word_count = 4"
   ]
  },
  {
   "cell_type": "markdown",
   "metadata": {},
   "source": [
    "# About NLP"
   ]
  },
  {
   "cell_type": "code",
   "execution_count": 3,
   "metadata": {},
   "outputs": [],
   "source": [
    "import nltk"
   ]
  },
  {
   "cell_type": "markdown",
   "metadata": {},
   "source": [
    "- **tokenizing** = word tokenizers, sentence tokenizers\n",
    "- **corpora** = body of text. Examples: medical journals, presidential speeches, English languages\n",
    "- **lexicon** = basically a dictionary, words and their meanings. Important for domain-specific speech ('bull' = someone who is positive about the market in investor-speak)\n",
    "\n"
   ]
  },
  {
   "cell_type": "code",
   "execution_count": 4,
   "metadata": {},
   "outputs": [],
   "source": [
    "datapath = '/Users/pedrosalesdebruin/Downloads/production_retailers_02_06_2019.csv'"
   ]
  },
  {
   "cell_type": "code",
   "execution_count": 5,
   "metadata": {},
   "outputs": [],
   "source": [
    "df = pd.read_csv('/Users/pedrosalesdebruin/Downloads/bistra_categories.csv')"
   ]
  },
  {
   "cell_type": "code",
   "execution_count": 6,
   "metadata": {},
   "outputs": [
    {
     "name": "stderr",
     "output_type": "stream",
     "text": [
      "/Users/pedrosalesdebruin/anaconda3/lib/python3.7/site-packages/IPython/core/interactiveshell.py:3020: DtypeWarning: Columns (12,19,21,26,27,30,38,39,40,43,44,46,47,57,58,61,62,64,65,67,68,71,72,73,74,75) have mixed types. Specify dtype option on import or set low_memory=False.\n",
      "  interactivity=interactivity, compiler=compiler, result=result)\n"
     ]
    }
   ],
   "source": [
    "df_r = pd.read_csv(datapath)"
   ]
  },
  {
   "cell_type": "code",
   "execution_count": 7,
   "metadata": {},
   "outputs": [],
   "source": [
    "cols_to_keep = ['token', 'name']"
   ]
  },
  {
   "cell_type": "markdown",
   "metadata": {},
   "source": [
    "# Begin with an EDA"
   ]
  },
  {
   "cell_type": "code",
   "execution_count": 8,
   "metadata": {},
   "outputs": [
    {
     "data": {
      "text/html": [
       "<div>\n",
       "<style scoped>\n",
       "    .dataframe tbody tr th:only-of-type {\n",
       "        vertical-align: middle;\n",
       "    }\n",
       "\n",
       "    .dataframe tbody tr th {\n",
       "        vertical-align: top;\n",
       "    }\n",
       "\n",
       "    .dataframe thead th {\n",
       "        text-align: right;\n",
       "    }\n",
       "</style>\n",
       "<table border=\"1\" class=\"dataframe\">\n",
       "  <thead>\n",
       "    <tr style=\"text-align: right;\">\n",
       "      <th></th>\n",
       "      <th>retailer_token</th>\n",
       "      <th>category</th>\n",
       "    </tr>\n",
       "  </thead>\n",
       "  <tbody>\n",
       "    <tr>\n",
       "      <th>0</th>\n",
       "      <td>r_4akfeq4w</td>\n",
       "      <td>Beauty</td>\n",
       "    </tr>\n",
       "    <tr>\n",
       "      <th>1</th>\n",
       "      <td>r_1uldypnv</td>\n",
       "      <td>Beauty</td>\n",
       "    </tr>\n",
       "    <tr>\n",
       "      <th>2</th>\n",
       "      <td>r_55nswjg3</td>\n",
       "      <td>Beauty</td>\n",
       "    </tr>\n",
       "    <tr>\n",
       "      <th>3</th>\n",
       "      <td>r_7p9366ct</td>\n",
       "      <td>Beauty</td>\n",
       "    </tr>\n",
       "    <tr>\n",
       "      <th>4</th>\n",
       "      <td>r_aiedk15w</td>\n",
       "      <td>Beauty</td>\n",
       "    </tr>\n",
       "  </tbody>\n",
       "</table>\n",
       "</div>"
      ],
      "text/plain": [
       "  retailer_token category\n",
       "0     r_4akfeq4w   Beauty\n",
       "1     r_1uldypnv   Beauty\n",
       "2     r_55nswjg3   Beauty\n",
       "3     r_7p9366ct   Beauty\n",
       "4     r_aiedk15w   Beauty"
      ]
     },
     "execution_count": 8,
     "metadata": {},
     "output_type": "execute_result"
    }
   ],
   "source": [
    "df.head()"
   ]
  },
  {
   "cell_type": "code",
   "execution_count": 9,
   "metadata": {},
   "outputs": [
    {
     "name": "stdout",
     "output_type": "stream",
     "text": [
      "<class 'pandas.core.frame.DataFrame'>\n",
      "RangeIndex: 174554 entries, 0 to 174553\n",
      "Data columns (total 2 columns):\n",
      "retailer_token    174554 non-null object\n",
      "category          174554 non-null object\n",
      "dtypes: object(2)\n",
      "memory usage: 2.7+ MB\n"
     ]
    }
   ],
   "source": [
    "df.info()"
   ]
  },
  {
   "cell_type": "code",
   "execution_count": 10,
   "metadata": {},
   "outputs": [],
   "source": [
    "df = pd.concat([df, pd.get_dummies(df['category'])], axis=1)"
   ]
  },
  {
   "cell_type": "code",
   "execution_count": 11,
   "metadata": {},
   "outputs": [],
   "source": [
    "df = df.groupby('retailer_token').max()\n",
    "df = df.reset_index()"
   ]
  },
  {
   "cell_type": "code",
   "execution_count": 12,
   "metadata": {},
   "outputs": [
    {
     "name": "stdout",
     "output_type": "stream",
     "text": [
      "Office Supply\n"
     ]
    }
   ],
   "source": [
    "low_pop_classes = df['category'].value_counts()<2\n",
    "print(low_pop_classes[low_pop_classes].index[0])"
   ]
  },
  {
   "cell_type": "code",
   "execution_count": 13,
   "metadata": {},
   "outputs": [
    {
     "name": "stdout",
     "output_type": "stream",
     "text": [
      "<class 'pandas.core.frame.DataFrame'>\n",
      "RangeIndex: 7275 entries, 0 to 7274\n",
      "Data columns (total 28 columns):\n",
      "retailer_token              7275 non-null object\n",
      "category                    7275 non-null object\n",
      "Beauty                      7275 non-null uint8\n",
      "Bookstore                   7275 non-null uint8\n",
      "Coffee Shop                 7275 non-null uint8\n",
      "Convenience                 7275 non-null uint8\n",
      "Drug                        7275 non-null uint8\n",
      "FitnessAndYoga              7275 non-null uint8\n",
      "Furniture Store             7275 non-null uint8\n",
      "Gift                        7275 non-null uint8\n",
      "Grocery                     7275 non-null uint8\n",
      "Hardware                    7275 non-null uint8\n",
      "Home Decor                  7275 non-null uint8\n",
      "Jewelry                     7275 non-null uint8\n",
      "Kids Clothing Boutique      7275 non-null uint8\n",
      "LawnAndGarden               7275 non-null uint8\n",
      "Luggage or Bags             7275 non-null uint8\n",
      "Mens Clothing Boutique      7275 non-null uint8\n",
      "MercantileGeneral           7275 non-null uint8\n",
      "Office Supply               7275 non-null uint8\n",
      "Other                       7275 non-null uint8\n",
      "Other Foodservice           7275 non-null uint8\n",
      "Pet                         7275 non-null uint8\n",
      "SpaAndSalon                 7275 non-null uint8\n",
      "SportingGoodsAndOutdoor     7275 non-null uint8\n",
      "Stationery                  7275 non-null uint8\n",
      "Toystore                    7275 non-null uint8\n",
      "Womens Clothing Boutique    7275 non-null uint8\n",
      "dtypes: object(2), uint8(26)\n",
      "memory usage: 298.5+ KB\n"
     ]
    }
   ],
   "source": [
    "df.info()"
   ]
  },
  {
   "cell_type": "code",
   "execution_count": 14,
   "metadata": {},
   "outputs": [
    {
     "data": {
      "text/html": [
       "<div>\n",
       "<style scoped>\n",
       "    .dataframe tbody tr th:only-of-type {\n",
       "        vertical-align: middle;\n",
       "    }\n",
       "\n",
       "    .dataframe tbody tr th {\n",
       "        vertical-align: top;\n",
       "    }\n",
       "\n",
       "    .dataframe thead th {\n",
       "        text-align: right;\n",
       "    }\n",
       "</style>\n",
       "<table border=\"1\" class=\"dataframe\">\n",
       "  <thead>\n",
       "    <tr style=\"text-align: right;\">\n",
       "      <th></th>\n",
       "      <th>retailer_token</th>\n",
       "      <th>category</th>\n",
       "      <th>Beauty</th>\n",
       "      <th>Bookstore</th>\n",
       "      <th>Coffee Shop</th>\n",
       "      <th>Convenience</th>\n",
       "      <th>Drug</th>\n",
       "      <th>FitnessAndYoga</th>\n",
       "      <th>Furniture Store</th>\n",
       "      <th>Gift</th>\n",
       "      <th>...</th>\n",
       "      <th>MercantileGeneral</th>\n",
       "      <th>Office Supply</th>\n",
       "      <th>Other</th>\n",
       "      <th>Other Foodservice</th>\n",
       "      <th>Pet</th>\n",
       "      <th>SpaAndSalon</th>\n",
       "      <th>SportingGoodsAndOutdoor</th>\n",
       "      <th>Stationery</th>\n",
       "      <th>Toystore</th>\n",
       "      <th>Womens Clothing Boutique</th>\n",
       "    </tr>\n",
       "  </thead>\n",
       "  <tbody>\n",
       "    <tr>\n",
       "      <th>0</th>\n",
       "      <td>r_1016krwx</td>\n",
       "      <td>Home Decor</td>\n",
       "      <td>0</td>\n",
       "      <td>0</td>\n",
       "      <td>0</td>\n",
       "      <td>0</td>\n",
       "      <td>0</td>\n",
       "      <td>0</td>\n",
       "      <td>0</td>\n",
       "      <td>0</td>\n",
       "      <td>...</td>\n",
       "      <td>0</td>\n",
       "      <td>0</td>\n",
       "      <td>0</td>\n",
       "      <td>0</td>\n",
       "      <td>0</td>\n",
       "      <td>0</td>\n",
       "      <td>0</td>\n",
       "      <td>0</td>\n",
       "      <td>0</td>\n",
       "      <td>0</td>\n",
       "    </tr>\n",
       "    <tr>\n",
       "      <th>1</th>\n",
       "      <td>r_103ct3ic</td>\n",
       "      <td>Kids Clothing Boutique</td>\n",
       "      <td>0</td>\n",
       "      <td>0</td>\n",
       "      <td>0</td>\n",
       "      <td>0</td>\n",
       "      <td>0</td>\n",
       "      <td>0</td>\n",
       "      <td>0</td>\n",
       "      <td>0</td>\n",
       "      <td>...</td>\n",
       "      <td>0</td>\n",
       "      <td>0</td>\n",
       "      <td>0</td>\n",
       "      <td>0</td>\n",
       "      <td>0</td>\n",
       "      <td>0</td>\n",
       "      <td>0</td>\n",
       "      <td>0</td>\n",
       "      <td>0</td>\n",
       "      <td>0</td>\n",
       "    </tr>\n",
       "    <tr>\n",
       "      <th>2</th>\n",
       "      <td>r_103rh2t7</td>\n",
       "      <td>SpaAndSalon</td>\n",
       "      <td>0</td>\n",
       "      <td>0</td>\n",
       "      <td>0</td>\n",
       "      <td>0</td>\n",
       "      <td>0</td>\n",
       "      <td>0</td>\n",
       "      <td>0</td>\n",
       "      <td>0</td>\n",
       "      <td>...</td>\n",
       "      <td>0</td>\n",
       "      <td>0</td>\n",
       "      <td>0</td>\n",
       "      <td>0</td>\n",
       "      <td>0</td>\n",
       "      <td>1</td>\n",
       "      <td>0</td>\n",
       "      <td>0</td>\n",
       "      <td>0</td>\n",
       "      <td>0</td>\n",
       "    </tr>\n",
       "    <tr>\n",
       "      <th>3</th>\n",
       "      <td>r_10ffgv3q</td>\n",
       "      <td>Gift</td>\n",
       "      <td>0</td>\n",
       "      <td>0</td>\n",
       "      <td>0</td>\n",
       "      <td>0</td>\n",
       "      <td>0</td>\n",
       "      <td>0</td>\n",
       "      <td>0</td>\n",
       "      <td>1</td>\n",
       "      <td>...</td>\n",
       "      <td>0</td>\n",
       "      <td>0</td>\n",
       "      <td>0</td>\n",
       "      <td>0</td>\n",
       "      <td>0</td>\n",
       "      <td>0</td>\n",
       "      <td>0</td>\n",
       "      <td>0</td>\n",
       "      <td>0</td>\n",
       "      <td>0</td>\n",
       "    </tr>\n",
       "    <tr>\n",
       "      <th>4</th>\n",
       "      <td>r_10jid604</td>\n",
       "      <td>Other</td>\n",
       "      <td>0</td>\n",
       "      <td>0</td>\n",
       "      <td>0</td>\n",
       "      <td>0</td>\n",
       "      <td>0</td>\n",
       "      <td>0</td>\n",
       "      <td>0</td>\n",
       "      <td>0</td>\n",
       "      <td>...</td>\n",
       "      <td>0</td>\n",
       "      <td>0</td>\n",
       "      <td>1</td>\n",
       "      <td>0</td>\n",
       "      <td>0</td>\n",
       "      <td>0</td>\n",
       "      <td>0</td>\n",
       "      <td>0</td>\n",
       "      <td>0</td>\n",
       "      <td>0</td>\n",
       "    </tr>\n",
       "  </tbody>\n",
       "</table>\n",
       "<p>5 rows × 28 columns</p>\n",
       "</div>"
      ],
      "text/plain": [
       "  retailer_token                category  Beauty  Bookstore  Coffee Shop  \\\n",
       "0     r_1016krwx              Home Decor       0          0            0   \n",
       "1     r_103ct3ic  Kids Clothing Boutique       0          0            0   \n",
       "2     r_103rh2t7             SpaAndSalon       0          0            0   \n",
       "3     r_10ffgv3q                    Gift       0          0            0   \n",
       "4     r_10jid604                   Other       0          0            0   \n",
       "\n",
       "   Convenience  Drug  FitnessAndYoga  Furniture Store  Gift  \\\n",
       "0            0     0               0                0     0   \n",
       "1            0     0               0                0     0   \n",
       "2            0     0               0                0     0   \n",
       "3            0     0               0                0     1   \n",
       "4            0     0               0                0     0   \n",
       "\n",
       "             ...             MercantileGeneral  Office Supply  Other  \\\n",
       "0            ...                             0              0      0   \n",
       "1            ...                             0              0      0   \n",
       "2            ...                             0              0      0   \n",
       "3            ...                             0              0      0   \n",
       "4            ...                             0              0      1   \n",
       "\n",
       "   Other Foodservice  Pet  SpaAndSalon  SportingGoodsAndOutdoor  Stationery  \\\n",
       "0                  0    0            0                        0           0   \n",
       "1                  0    0            0                        0           0   \n",
       "2                  0    0            1                        0           0   \n",
       "3                  0    0            0                        0           0   \n",
       "4                  0    0            0                        0           0   \n",
       "\n",
       "   Toystore  Womens Clothing Boutique  \n",
       "0         0                         0  \n",
       "1         0                         0  \n",
       "2         0                         0  \n",
       "3         0                         0  \n",
       "4         0                         0  \n",
       "\n",
       "[5 rows x 28 columns]"
      ]
     },
     "execution_count": 14,
     "metadata": {},
     "output_type": "execute_result"
    }
   ],
   "source": [
    "df.head()"
   ]
  },
  {
   "cell_type": "code",
   "execution_count": 15,
   "metadata": {},
   "outputs": [
    {
     "data": {
      "text/plain": [
       "<matplotlib.axes._subplots.AxesSubplot at 0x1a19695c18>"
      ]
     },
     "execution_count": 15,
     "metadata": {},
     "output_type": "execute_result"
    },
    {
     "data": {
      "image/png": "[encoded data removed]",
      "text/plain": [
       "<Figure size 864x576 with 1 Axes>"
      ]
     },
     "metadata": {
      "needs_background": "light"
     },
     "output_type": "display_data"
    }
   ],
   "source": [
    "fig, ax = plt.subplots(figsize=(12,8))\n",
    "df['category'].value_counts().sort_values(ascending=True).plot(kind='barh', ax=ax)"
   ]
  },
  {
   "cell_type": "markdown",
   "metadata": {},
   "source": [
    "## Merging with retailers df"
   ]
  },
  {
   "cell_type": "code",
   "execution_count": 16,
   "metadata": {},
   "outputs": [
    {
     "data": {
      "text/plain": [
       "Gift Store/General Store/Home Decor/Mercantile    1428\n",
       "Women's Clothing Boutique                          496\n",
       "Spa/Beauty                                         478\n",
       "Not Found                                          378\n",
       "Florist/Garden                                     239\n",
       "Other                                              147\n",
       "Kids Store                                         133\n",
       "Fitness / Yoga                                      70\n",
       "Bookstore                                           68\n",
       "Coffee Shop                                         65\n",
       "Stationery Store                                    37\n",
       "Men's Clothing Boutique                             28\n",
       "Name: store_category, dtype: int64"
      ]
     },
     "execution_count": 16,
     "metadata": {},
     "output_type": "execute_result"
    }
   ],
   "source": [
    "df_r['store_category'].value_counts()"
   ]
  },
  {
   "cell_type": "code",
   "execution_count": 17,
   "metadata": {},
   "outputs": [
    {
     "data": {
      "text/plain": [
       "Gift                        1504\n",
       "Other                       1063\n",
       "Womens Clothing Boutique    1059\n",
       "SpaAndSalon                  818\n",
       "Home Decor                   642\n",
       "LawnAndGarden                397\n",
       "Kids Clothing Boutique       231\n",
       "Other Foodservice            227\n",
       "Furniture Store              192\n",
       "Beauty                       167\n",
       "Jewelry                      148\n",
       "FitnessAndYoga               138\n",
       "Coffee Shop                  111\n",
       "Bookstore                    102\n",
       "Pet                           75\n",
       "Stationery                    66\n",
       "MercantileGeneral             65\n",
       "Mens Clothing Boutique        61\n",
       "Grocery                       59\n",
       "Drug                          46\n",
       "Toystore                      36\n",
       "SportingGoodsAndOutdoor       33\n",
       "Luggage or Bags               14\n",
       "Convenience                   10\n",
       "Hardware                      10\n",
       "Office Supply                  1\n",
       "Name: category, dtype: int64"
      ]
     },
     "execution_count": 17,
     "metadata": {},
     "output_type": "execute_result"
    }
   ],
   "source": [
    "df['category'].value_counts()"
   ]
  },
  {
   "cell_type": "code",
   "execution_count": 18,
   "metadata": {},
   "outputs": [],
   "source": [
    "df_r['category'] = df_r['store_category']"
   ]
  },
  {
   "cell_type": "code",
   "execution_count": 19,
   "metadata": {},
   "outputs": [],
   "source": [
    "df_r.drop(columns=['store_category'], inplace=True)"
   ]
  },
  {
   "cell_type": "code",
   "execution_count": 20,
   "metadata": {},
   "outputs": [],
   "source": [
    "cat_to_cat_map = {\n",
    "    'Gift Store/General Store/Home Decor/Mercantile': 'Gift',\n",
    "    'Women\\'s Clothing Boutique': 'Womens Clothing Boutique',\n",
    "    'Spa/Beauty': 'SpaAndSalon',\n",
    "    'Not Found': 'Unknown',\n",
    "    'Florist/Garden': 'LawnAndGarden',\n",
    "    'Kids Store': 'Kids Clothing Boutique',\n",
    "    'Fitness / Yoga': 'FitnessAndYoga',\n",
    "    'Stationery Store': 'Stationery',\n",
    "    'Men\\'s Clothing Boutique': 'Mens Clothing Boutique'\n",
    "}\n",
    "df_r['category'] = df_r['category'].map(cat_to_cat_map)"
   ]
  },
  {
   "cell_type": "code",
   "execution_count": 21,
   "metadata": {},
   "outputs": [
    {
     "data": {
      "text/plain": [
       "Gift                        1428\n",
       "Womens Clothing Boutique     496\n",
       "SpaAndSalon                  478\n",
       "Unknown                      378\n",
       "LawnAndGarden                239\n",
       "Kids Clothing Boutique       133\n",
       "FitnessAndYoga                70\n",
       "Stationery                    37\n",
       "Mens Clothing Boutique        28\n",
       "Name: category, dtype: int64"
      ]
     },
     "execution_count": 21,
     "metadata": {},
     "output_type": "execute_result"
    }
   ],
   "source": [
    "df_r['category'].value_counts()"
   ]
  },
  {
   "cell_type": "code",
   "execution_count": 22,
   "metadata": {},
   "outputs": [],
   "source": [
    "df = pd.merge(df, df_r[cols_to_keep], left_on='retailer_token', right_on='token')"
   ]
  },
  {
   "cell_type": "code",
   "execution_count": 23,
   "metadata": {},
   "outputs": [
    {
     "data": {
      "text/html": [
       "<div>\n",
       "<style scoped>\n",
       "    .dataframe tbody tr th:only-of-type {\n",
       "        vertical-align: middle;\n",
       "    }\n",
       "\n",
       "    .dataframe tbody tr th {\n",
       "        vertical-align: top;\n",
       "    }\n",
       "\n",
       "    .dataframe thead th {\n",
       "        text-align: right;\n",
       "    }\n",
       "</style>\n",
       "<table border=\"1\" class=\"dataframe\">\n",
       "  <thead>\n",
       "    <tr style=\"text-align: right;\">\n",
       "      <th></th>\n",
       "      <th>retailer_token</th>\n",
       "      <th>category</th>\n",
       "      <th>Beauty</th>\n",
       "      <th>Bookstore</th>\n",
       "      <th>Coffee Shop</th>\n",
       "      <th>Convenience</th>\n",
       "      <th>Drug</th>\n",
       "      <th>FitnessAndYoga</th>\n",
       "      <th>Furniture Store</th>\n",
       "      <th>Gift</th>\n",
       "      <th>...</th>\n",
       "      <th>Other</th>\n",
       "      <th>Other Foodservice</th>\n",
       "      <th>Pet</th>\n",
       "      <th>SpaAndSalon</th>\n",
       "      <th>SportingGoodsAndOutdoor</th>\n",
       "      <th>Stationery</th>\n",
       "      <th>Toystore</th>\n",
       "      <th>Womens Clothing Boutique</th>\n",
       "      <th>token</th>\n",
       "      <th>name</th>\n",
       "    </tr>\n",
       "  </thead>\n",
       "  <tbody>\n",
       "    <tr>\n",
       "      <th>0</th>\n",
       "      <td>r_1016krwx</td>\n",
       "      <td>Home Decor</td>\n",
       "      <td>0</td>\n",
       "      <td>0</td>\n",
       "      <td>0</td>\n",
       "      <td>0</td>\n",
       "      <td>0</td>\n",
       "      <td>0</td>\n",
       "      <td>0</td>\n",
       "      <td>0</td>\n",
       "      <td>...</td>\n",
       "      <td>0</td>\n",
       "      <td>0</td>\n",
       "      <td>0</td>\n",
       "      <td>0</td>\n",
       "      <td>0</td>\n",
       "      <td>0</td>\n",
       "      <td>0</td>\n",
       "      <td>0</td>\n",
       "      <td>r_1016krwx</td>\n",
       "      <td>BLUE DOOR DESIGNS</td>\n",
       "    </tr>\n",
       "    <tr>\n",
       "      <th>1</th>\n",
       "      <td>r_103ct3ic</td>\n",
       "      <td>Kids Clothing Boutique</td>\n",
       "      <td>0</td>\n",
       "      <td>0</td>\n",
       "      <td>0</td>\n",
       "      <td>0</td>\n",
       "      <td>0</td>\n",
       "      <td>0</td>\n",
       "      <td>0</td>\n",
       "      <td>0</td>\n",
       "      <td>...</td>\n",
       "      <td>0</td>\n",
       "      <td>0</td>\n",
       "      <td>0</td>\n",
       "      <td>0</td>\n",
       "      <td>0</td>\n",
       "      <td>0</td>\n",
       "      <td>0</td>\n",
       "      <td>0</td>\n",
       "      <td>r_103ct3ic</td>\n",
       "      <td>Holy Chic Boutique</td>\n",
       "    </tr>\n",
       "    <tr>\n",
       "      <th>2</th>\n",
       "      <td>r_103rh2t7</td>\n",
       "      <td>SpaAndSalon</td>\n",
       "      <td>0</td>\n",
       "      <td>0</td>\n",
       "      <td>0</td>\n",
       "      <td>0</td>\n",
       "      <td>0</td>\n",
       "      <td>0</td>\n",
       "      <td>0</td>\n",
       "      <td>0</td>\n",
       "      <td>...</td>\n",
       "      <td>0</td>\n",
       "      <td>0</td>\n",
       "      <td>0</td>\n",
       "      <td>1</td>\n",
       "      <td>0</td>\n",
       "      <td>0</td>\n",
       "      <td>0</td>\n",
       "      <td>0</td>\n",
       "      <td>r_103rh2t7</td>\n",
       "      <td>Potion Aesthetique</td>\n",
       "    </tr>\n",
       "    <tr>\n",
       "      <th>3</th>\n",
       "      <td>r_10ffgv3q</td>\n",
       "      <td>Gift</td>\n",
       "      <td>0</td>\n",
       "      <td>0</td>\n",
       "      <td>0</td>\n",
       "      <td>0</td>\n",
       "      <td>0</td>\n",
       "      <td>0</td>\n",
       "      <td>0</td>\n",
       "      <td>1</td>\n",
       "      <td>...</td>\n",
       "      <td>0</td>\n",
       "      <td>0</td>\n",
       "      <td>0</td>\n",
       "      <td>0</td>\n",
       "      <td>0</td>\n",
       "      <td>0</td>\n",
       "      <td>0</td>\n",
       "      <td>0</td>\n",
       "      <td>r_10ffgv3q</td>\n",
       "      <td>3 cottage lane</td>\n",
       "    </tr>\n",
       "    <tr>\n",
       "      <th>4</th>\n",
       "      <td>r_10jid604</td>\n",
       "      <td>Other</td>\n",
       "      <td>0</td>\n",
       "      <td>0</td>\n",
       "      <td>0</td>\n",
       "      <td>0</td>\n",
       "      <td>0</td>\n",
       "      <td>0</td>\n",
       "      <td>0</td>\n",
       "      <td>0</td>\n",
       "      <td>...</td>\n",
       "      <td>1</td>\n",
       "      <td>0</td>\n",
       "      <td>0</td>\n",
       "      <td>0</td>\n",
       "      <td>0</td>\n",
       "      <td>0</td>\n",
       "      <td>0</td>\n",
       "      <td>0</td>\n",
       "      <td>r_10jid604</td>\n",
       "      <td>Twincreek Remodeling &amp; Woodworking Co.</td>\n",
       "    </tr>\n",
       "  </tbody>\n",
       "</table>\n",
       "<p>5 rows × 30 columns</p>\n",
       "</div>"
      ],
      "text/plain": [
       "  retailer_token                category  Beauty  Bookstore  Coffee Shop  \\\n",
       "0     r_1016krwx              Home Decor       0          0            0   \n",
       "1     r_103ct3ic  Kids Clothing Boutique       0          0            0   \n",
       "2     r_103rh2t7             SpaAndSalon       0          0            0   \n",
       "3     r_10ffgv3q                    Gift       0          0            0   \n",
       "4     r_10jid604                   Other       0          0            0   \n",
       "\n",
       "   Convenience  Drug  FitnessAndYoga  Furniture Store  Gift  \\\n",
       "0            0     0               0                0     0   \n",
       "1            0     0               0                0     0   \n",
       "2            0     0               0                0     0   \n",
       "3            0     0               0                0     1   \n",
       "4            0     0               0                0     0   \n",
       "\n",
       "                    ...                    Other  Other Foodservice  Pet  \\\n",
       "0                   ...                        0                  0    0   \n",
       "1                   ...                        0                  0    0   \n",
       "2                   ...                        0                  0    0   \n",
       "3                   ...                        0                  0    0   \n",
       "4                   ...                        1                  0    0   \n",
       "\n",
       "   SpaAndSalon  SportingGoodsAndOutdoor  Stationery  Toystore  \\\n",
       "0            0                        0           0         0   \n",
       "1            0                        0           0         0   \n",
       "2            1                        0           0         0   \n",
       "3            0                        0           0         0   \n",
       "4            0                        0           0         0   \n",
       "\n",
       "   Womens Clothing Boutique       token  \\\n",
       "0                         0  r_1016krwx   \n",
       "1                         0  r_103ct3ic   \n",
       "2                         0  r_103rh2t7   \n",
       "3                         0  r_10ffgv3q   \n",
       "4                         0  r_10jid604   \n",
       "\n",
       "                                     name  \n",
       "0                       BLUE DOOR DESIGNS  \n",
       "1                      Holy Chic Boutique  \n",
       "2                      Potion Aesthetique  \n",
       "3                          3 cottage lane  \n",
       "4  Twincreek Remodeling & Woodworking Co.  \n",
       "\n",
       "[5 rows x 30 columns]"
      ]
     },
     "execution_count": 23,
     "metadata": {},
     "output_type": "execute_result"
    }
   ],
   "source": [
    "df.head()"
   ]
  },
  {
   "cell_type": "markdown",
   "metadata": {},
   "source": [
    "## Tokenize names"
   ]
  },
  {
   "cell_type": "code",
   "execution_count": 24,
   "metadata": {},
   "outputs": [
    {
     "name": "stderr",
     "output_type": "stream",
     "text": [
      "[nltk_data] Downloading package punkt to\n",
      "[nltk_data]     /Users/pedrosalesdebruin/nltk_data...\n",
      "[nltk_data]   Package punkt is already up-to-date!\n",
      "[nltk_data] Downloading package stopwords to\n",
      "[nltk_data]     /Users/pedrosalesdebruin/nltk_data...\n",
      "[nltk_data]   Package stopwords is already up-to-date!\n"
     ]
    },
    {
     "data": {
      "text/plain": [
       "True"
      ]
     },
     "execution_count": 24,
     "metadata": {},
     "output_type": "execute_result"
    }
   ],
   "source": [
    "#Import all the dependencies\n",
    "import nltk\n",
    "nltk.download('punkt')\n",
    "from gensim.models.doc2vec import Doc2Vec, TaggedDocument\n",
    "from nltk.tokenize import word_tokenize\n",
    "from nltk.corpus import stopwords\n",
    "nltk.download('stopwords')"
   ]
  },
  {
   "cell_type": "code",
   "execution_count": 25,
   "metadata": {},
   "outputs": [
    {
     "name": "stdout",
     "output_type": "stream",
     "text": [
      "['i', 'me', 'my', 'myself', 'we', 'our', 'ours', 'ourselves', 'you', \"you're\", \"you've\", \"you'll\", \"you'd\", 'your', 'yours', 'yourself', 'yourselves', 'he', 'him', 'his', 'himself', 'she', \"she's\", 'her', 'hers', 'herself', 'it', \"it's\", 'its', 'itself', 'they', 'them', 'their', 'theirs', 'themselves', 'what', 'which', 'who', 'whom', 'this', 'that', \"that'll\", 'these', 'those', 'am', 'is', 'are', 'was', 'were', 'be', 'been', 'being', 'have', 'has', 'had', 'having', 'do', 'does', 'did', 'doing', 'a', 'an', 'the', 'and', 'but', 'if', 'or', 'because', 'as', 'until', 'while', 'of', 'at', 'by', 'for', 'with', 'about', 'against', 'between', 'into', 'through', 'during', 'before', 'after', 'above', 'below', 'to', 'from', 'up', 'down', 'in', 'out', 'on', 'off', 'over', 'under', 'again', 'further', 'then', 'once', 'here', 'there', 'when', 'where', 'why', 'how', 'all', 'any', 'both', 'each', 'few', 'more', 'most', 'other', 'some', 'such', 'no', 'nor', 'not', 'only', 'own', 'same', 'so', 'than', 'too', 'very', 's', 't', 'can', 'will', 'just', 'don', \"don't\", 'should', \"should've\", 'now', 'd', 'll', 'm', 'o', 're', 've', 'y', 'ain', 'aren', \"aren't\", 'couldn', \"couldn't\", 'didn', \"didn't\", 'doesn', \"doesn't\", 'hadn', \"hadn't\", 'hasn', \"hasn't\", 'haven', \"haven't\", 'isn', \"isn't\", 'ma', 'mightn', \"mightn't\", 'mustn', \"mustn't\", 'needn', \"needn't\", 'shan', \"shan't\", 'shouldn', \"shouldn't\", 'wasn', \"wasn't\", 'weren', \"weren't\", 'won', \"won't\", 'wouldn', \"wouldn't\"]\n"
     ]
    }
   ],
   "source": [
    "stop_words = stopwords.words('english')\n",
    "print(stop_words)"
   ]
  },
  {
   "cell_type": "code",
   "execution_count": 26,
   "metadata": {},
   "outputs": [],
   "source": [
    "number_strings = ['one', 'two', 'three', 'four', 'five', 'six', 'seven', 'eight', 'nine', \n",
    "           'ten', 'eleven', 'twelve', 'thirteen', 'fourteen', 'fifteen', 'sixteen', 'seventeen',\n",
    "           'eighteen', 'nineteen', 'twenty', 'thirty', 'forty', 'fifty' ]\n",
    "stop_words = stop_words + ['none', 'nan', 'na', 'tbd', 'tba', 'name', 'llc', 'co', 'shop', 'inc', 'ltd', 'yet'\n",
    "                           'nameyet', 'self', 'test', 'undecided', 'unknown', 'indigo', \n",
    "                           'store', 'amazon', 'applicable', 'personal'] + number_strings"
   ]
  },
  {
   "cell_type": "code",
   "execution_count": 27,
   "metadata": {},
   "outputs": [],
   "source": [
    "def word_counter(in_series):\n",
    "    counts = {}\n",
    "    \n",
    "    for x in in_series.tolist():\n",
    "        if not isinstance(x, str): continue\n",
    "        for w in x.split():\n",
    "            if w not in counts.keys():\n",
    "                counts[w]=1\n",
    "            else:\n",
    "                counts[w]+=1\n",
    "                \n",
    "    return counts"
   ]
  },
  {
   "cell_type": "markdown",
   "metadata": {},
   "source": [
    "### Clean names a bit. Remove punctuation, stopwords..."
   ]
  },
  {
   "cell_type": "code",
   "execution_count": 28,
   "metadata": {},
   "outputs": [],
   "source": [
    "def clean_name_col(df, col='name'):\n",
    "    df[col] = df[col].str.lower()\n",
    "    df[\"name\"] = df['name'].str.replace(r'[^\\w\\s]+', '')\n",
    "    # Remove single letters\n",
    "    df[\"name\"] = df['name'].str.replace(r'\\b\\w\\b','').str.replace(r'\\s+', ' ')\n",
    "    df[\"name\"] = df['name'].str.replace(r'\\b\\w\\b','').str.replace('\\d+', '')\n",
    "\n",
    "    # remove last letter s\n",
    "    df[\"name\"] = df['name'].str.rstrip('s')\n",
    "    \n",
    "    # remove stop words\n",
    "    df[\"name\"] = df['name'].apply(lambda x: ' '.join([w for w in str(x).split() if w not in stop_words]) )\n",
    "    \n",
    "    return df"
   ]
  },
  {
   "cell_type": "code",
   "execution_count": 29,
   "metadata": {},
   "outputs": [],
   "source": [
    "df = clean_name_col(df)"
   ]
  },
  {
   "cell_type": "markdown",
   "metadata": {},
   "source": [
    "## What is the min word count?"
   ]
  },
  {
   "cell_type": "code",
   "execution_count": 30,
   "metadata": {},
   "outputs": [],
   "source": [
    "word_count = dict(sorted(word_counter(df['name']).items(), key=lambda kv: kv[1], reverse=True));"
   ]
  },
  {
   "cell_type": "code",
   "execution_count": 31,
   "metadata": {},
   "outputs": [],
   "source": [
    "frequent_words = dict((k, v) for k, v in word_count.items() if v >= min_word_count)"
   ]
  },
  {
   "cell_type": "code",
   "execution_count": 32,
   "metadata": {},
   "outputs": [],
   "source": [
    "#frequent_words.keys()"
   ]
  },
  {
   "cell_type": "code",
   "execution_count": 33,
   "metadata": {},
   "outputs": [],
   "source": [
    "df['name'] = df['name'].apply(\n",
    "    lambda x: ' '.join([w for w in str(x).split() if w in frequent_words.keys()]) )"
   ]
  },
  {
   "cell_type": "markdown",
   "metadata": {},
   "source": [
    "### Now let's plot most common words:"
   ]
  },
  {
   "cell_type": "code",
   "execution_count": 34,
   "metadata": {},
   "outputs": [
    {
     "data": {
      "text/plain": [
       "(5, 3000)"
      ]
     },
     "execution_count": 34,
     "metadata": {},
     "output_type": "execute_result"
    },
    {
     "data": {
      "image/png": "[encoded data removed]",
      "text/plain": [
       "<Figure size 1440x432 with 1 Axes>"
      ]
     },
     "metadata": {
      "needs_background": "light"
     },
     "output_type": "display_data"
    }
   ],
   "source": [
    "words_to_plot = {k:v for (k,v) in frequent_words.items() if v > 50}\n",
    "\n",
    "fig, ax = plt.subplots(figsize=(20,6))\n",
    "\n",
    "plot = plt.bar(x=words_to_plot.keys(), height=words_to_plot.values())\n",
    "\n",
    "plt.xticks(fontsize=16, rotation=75);\n",
    "plt.yscale('log')\n",
    "plt.ylim(5, 3000)"
   ]
  },
  {
   "cell_type": "markdown",
   "metadata": {},
   "source": [
    "### Word2Vec classification"
   ]
  },
  {
   "cell_type": "code",
   "execution_count": 35,
   "metadata": {},
   "outputs": [],
   "source": [
    "from sklearn.model_selection import StratifiedShuffleSplit"
   ]
  },
  {
   "cell_type": "code",
   "execution_count": 36,
   "metadata": {},
   "outputs": [
    {
     "data": {
      "text/plain": [
       "0    blue door design\n",
       "1       chic boutique\n",
       "2                    \n",
       "3        cottage lane\n",
       "4                    \n",
       "Name: name, dtype: object"
      ]
     },
     "execution_count": 36,
     "metadata": {},
     "output_type": "execute_result"
    }
   ],
   "source": [
    "df['name'].head()"
   ]
  },
  {
   "cell_type": "code",
   "execution_count": 37,
   "metadata": {},
   "outputs": [],
   "source": [
    "# split the data, leave 1/4 out for testing\n",
    "df['joined_name'] = df['name'].apply(lambda x: ' '.join([w for w in x.split()]))"
   ]
  },
  {
   "cell_type": "code",
   "execution_count": 38,
   "metadata": {},
   "outputs": [
    {
     "data": {
      "text/plain": [
       "0    blue door design\n",
       "1       chic boutique\n",
       "2                    \n",
       "3        cottage lane\n",
       "4                    \n",
       "Name: joined_name, dtype: object"
      ]
     },
     "execution_count": 38,
     "metadata": {},
     "output_type": "execute_result"
    }
   ],
   "source": [
    "df['joined_name'].head()"
   ]
  },
  {
   "cell_type": "code",
   "execution_count": 39,
   "metadata": {},
   "outputs": [
    {
     "data": {
      "text/plain": [
       "Gift                        1504\n",
       "Other                       1063\n",
       "Womens Clothing Boutique    1059\n",
       "SpaAndSalon                  818\n",
       "Home Decor                   642\n",
       "LawnAndGarden                397\n",
       "Kids Clothing Boutique       231\n",
       "Other Foodservice            227\n",
       "Furniture Store              192\n",
       "Beauty                       167\n",
       "Jewelry                      148\n",
       "FitnessAndYoga               138\n",
       "Coffee Shop                  111\n",
       "Bookstore                    102\n",
       "Pet                           75\n",
       "Stationery                    66\n",
       "MercantileGeneral             65\n",
       "Mens Clothing Boutique        61\n",
       "Grocery                       59\n",
       "Drug                          46\n",
       "Toystore                      36\n",
       "SportingGoodsAndOutdoor       33\n",
       "Luggage or Bags               14\n",
       "Convenience                   10\n",
       "Hardware                      10\n",
       "Office Supply                  1\n",
       "Name: category, dtype: int64"
      ]
     },
     "execution_count": 39,
     "metadata": {},
     "output_type": "execute_result"
    }
   ],
   "source": [
    "df['category'].value_counts()"
   ]
  },
  {
   "cell_type": "code",
   "execution_count": 40,
   "metadata": {},
   "outputs": [],
   "source": [
    "df = df.loc[df['category']!='Office Supply', :]"
   ]
  },
  {
   "cell_type": "code",
   "execution_count": 41,
   "metadata": {},
   "outputs": [
    {
     "name": "stderr",
     "output_type": "stream",
     "text": [
      "/Users/pedrosalesdebruin/anaconda3/lib/python3.7/site-packages/ipykernel_launcher.py:1: FutureWarning: Method .as_matrix will be removed in a future version. Use .values instead.\n",
      "  \"\"\"Entry point for launching an IPython kernel.\n",
      "/Users/pedrosalesdebruin/anaconda3/lib/python3.7/site-packages/ipykernel_launcher.py:2: FutureWarning: Method .as_matrix will be removed in a future version. Use .values instead.\n",
      "  \n"
     ]
    }
   ],
   "source": [
    "data_x = df[['joined_name']].as_matrix()\n",
    "data_y = df[['category']].as_matrix()\n",
    "\n",
    "stratified_split = StratifiedShuffleSplit(n_splits=2, test_size=0.15)\n",
    "for train_index, test_index in stratified_split.split(data_x, data_y):\n",
    "    x_train, x_test = data_x[train_index], data_x[test_index]\n",
    "    y_train, y_test = data_y[train_index], data_y[test_index]"
   ]
  },
  {
   "cell_type": "code",
   "execution_count": 42,
   "metadata": {},
   "outputs": [],
   "source": [
    "# transform matrix of name into lists to pass to a TfidfVectorizer\n",
    "train_x = [x[0] for x in x_train.tolist()]\n",
    "test_x = [x[0] for x in x_test.tolist()]"
   ]
  },
  {
   "cell_type": "code",
   "execution_count": 43,
   "metadata": {},
   "outputs": [],
   "source": [
    "train_y = [y[0] for y in y_train.tolist()]\n",
    "test_y = [y[0] for y in y_test.tolist()]"
   ]
  },
  {
   "cell_type": "code",
   "execution_count": 44,
   "metadata": {},
   "outputs": [
    {
     "data": {
      "text/plain": [
       "['childrens boutique', '', 'reserve']"
      ]
     },
     "execution_count": 44,
     "metadata": {},
     "output_type": "execute_result"
    }
   ],
   "source": [
    "train_x[:3]"
   ]
  },
  {
   "cell_type": "code",
   "execution_count": 45,
   "metadata": {},
   "outputs": [
    {
     "data": {
      "text/plain": [
       "['Kids Clothing Boutique', 'Coffee Shop', 'Other Foodservice']"
      ]
     },
     "execution_count": 45,
     "metadata": {},
     "output_type": "execute_result"
    }
   ],
   "source": [
    "train_y[:3]"
   ]
  },
  {
   "cell_type": "markdown",
   "metadata": {},
   "source": [
    "## Training the classifier"
   ]
  },
  {
   "cell_type": "code",
   "execution_count": 46,
   "metadata": {},
   "outputs": [],
   "source": [
    "from sklearn.pipeline import Pipeline\n",
    "from sklearn.feature_extraction.text import TfidfVectorizer\n",
    "from sklearn.multiclass import OneVsRestClassifier, OneVsOneClassifier"
   ]
  },
  {
   "cell_type": "markdown",
   "metadata": {},
   "source": [
    "## Logistic Regression"
   ]
  },
  {
   "cell_type": "code",
   "execution_count": 47,
   "metadata": {},
   "outputs": [],
   "source": [
    "from sklearn.linear_model import LogisticRegression"
   ]
  },
  {
   "cell_type": "code",
   "execution_count": 48,
   "metadata": {},
   "outputs": [],
   "source": [
    "pipeline = Pipeline([\n",
    "    ('tfidf', TfidfVectorizer(stop_words='english')),\n",
    "    ('clf', OneVsRestClassifier(LogisticRegression(solver='sag'))),\n",
    "#     ('clf', OneVsOneClassifier(LogisticRegression(solver='sag'))),\n",
    "])\n",
    "parameters = {\n",
    "    'tfidf__max_df': (0.25, 0.5, 0.75),\n",
    "    'tfidf__ngram_range': [(1, 1), (1, 2), (1, 3)],\n",
    "    \"clf__estimator__C\": [0.01, 0.1, 1],\n",
    "    \"clf__estimator__class_weight\": ['balanced', None],\n",
    "\n",
    "}"
   ]
  },
  {
   "cell_type": "markdown",
   "metadata": {},
   "source": [
    "### Tune hyperparameters"
   ]
  },
  {
   "cell_type": "code",
   "execution_count": 49,
   "metadata": {},
   "outputs": [],
   "source": [
    "from sklearn.model_selection import GridSearchCV"
   ]
  },
  {
   "cell_type": "code",
   "execution_count": 50,
   "metadata": {},
   "outputs": [
    {
     "name": "stdout",
     "output_type": "stream",
     "text": [
      "Fitting 2 folds for each of 54 candidates, totalling 108 fits\n"
     ]
    },
    {
     "name": "stderr",
     "output_type": "stream",
     "text": [
      "[Parallel(n_jobs=2)]: Using backend LokyBackend with 2 concurrent workers.\n",
      "[Parallel(n_jobs=2)]: Done  28 tasks      | elapsed:    6.6s\n",
      "[Parallel(n_jobs=2)]: Done 108 out of 108 | elapsed:   29.7s finished\n",
      "/Users/pedrosalesdebruin/anaconda3/lib/python3.7/site-packages/sklearn/model_selection/_search.py:841: DeprecationWarning: The default of the `iid` parameter will change from True to False in version 0.22 and will be removed in 0.24. This will change numeric results when test-set sizes are unequal.\n",
      "  DeprecationWarning)\n"
     ]
    },
    {
     "data": {
      "text/plain": [
       "GridSearchCV(cv=2, error_score='raise-deprecating',\n",
       "       estimator=Pipeline(memory=None,\n",
       "     steps=[('tfidf', TfidfVectorizer(analyzer='word', binary=False, decode_error='strict',\n",
       "        dtype=<class 'numpy.float64'>, encoding='utf-8', input='content',\n",
       "        lowercase=True, max_df=1.0, max_features=None, min_df=1,\n",
       "        ngram_range=(1, 1), norm='l2', preprocessor=None, smooth_idf=True,...ate=None, solver='sag',\n",
       "          tol=0.0001, verbose=0, warm_start=False),\n",
       "          n_jobs=None))]),\n",
       "       fit_params=None, iid='warn', n_jobs=2,\n",
       "       param_grid={'tfidf__max_df': (0.25, 0.5, 0.75), 'tfidf__ngram_range': [(1, 1), (1, 2), (1, 3)], 'clf__estimator__C': [0.01, 0.1, 1], 'clf__estimator__class_weight': ['balanced', None]},\n",
       "       pre_dispatch='2*n_jobs', refit=True, return_train_score='warn',\n",
       "       scoring=None, verbose=3)"
      ]
     },
     "execution_count": 50,
     "metadata": {},
     "output_type": "execute_result"
    }
   ],
   "source": [
    "grid_search_tune = GridSearchCV(pipeline, parameters, cv=2, n_jobs=2, verbose=3)\n",
    "grid_search_tune.fit(train_x, train_y)"
   ]
  },
  {
   "cell_type": "code",
   "execution_count": 51,
   "metadata": {},
   "outputs": [
    {
     "name": "stdout",
     "output_type": "stream",
     "text": [
      "\n",
      "Best parameters set:\n",
      "[('tfidf', TfidfVectorizer(analyzer='word', binary=False, decode_error='strict',\n",
      "        dtype=<class 'numpy.float64'>, encoding='utf-8', input='content',\n",
      "        lowercase=True, max_df=0.25, max_features=None, min_df=1,\n",
      "        ngram_range=(1, 1), norm='l2', preprocessor=None, smooth_idf=True,\n",
      "        stop_words='english', strip_accents=None, sublinear_tf=False,\n",
      "        token_pattern='(?u)\\\\b\\\\w\\\\w+\\\\b', tokenizer=None, use_idf=True,\n",
      "        vocabulary=None)), ('clf', OneVsRestClassifier(estimator=LogisticRegression(C=1, class_weight=None, dual=False, fit_intercept=True,\n",
      "          intercept_scaling=1, max_iter=100, multi_class='warn',\n",
      "          n_jobs=None, penalty='l2', random_state=None, solver='sag',\n",
      "          tol=0.0001, verbose=0, warm_start=False),\n",
      "          n_jobs=None))]\n",
      "\n"
     ]
    }
   ],
   "source": [
    "print(\"\\nBest parameters set:\")\n",
    "print(grid_search_tune.best_estimator_.steps)\n",
    "print()"
   ]
  },
  {
   "cell_type": "code",
   "execution_count": 52,
   "metadata": {},
   "outputs": [
    {
     "name": "stdout",
     "output_type": "stream",
     "text": [
      "Applying best classifier on test data:\n",
      "Pipeline(memory=None,\n",
      "     steps=[('tfidf', TfidfVectorizer(analyzer='word', binary=False, decode_error='strict',\n",
      "        dtype=<class 'numpy.float64'>, encoding='utf-8', input='content',\n",
      "        lowercase=True, max_df=0.25, max_features=None, min_df=1,\n",
      "        ngram_range=(1, 1), norm='l2', preprocessor=None, smooth_idf=True...ate=None, solver='sag',\n",
      "          tol=0.0001, verbose=0, warm_start=False),\n",
      "          n_jobs=None))])\n"
     ]
    }
   ],
   "source": [
    "# measuring performance on test set\n",
    "print(\"Applying best classifier on test data:\")\n",
    "best_clf = grid_search_tune.best_estimator_\n",
    "predictions = best_clf.predict(test_x)\n",
    "print(best_clf)"
   ]
  },
  {
   "cell_type": "code",
   "execution_count": 53,
   "metadata": {},
   "outputs": [],
   "source": [
    "from sklearn.metrics import classification_report"
   ]
  },
  {
   "cell_type": "code",
   "execution_count": 54,
   "metadata": {},
   "outputs": [
    {
     "name": "stdout",
     "output_type": "stream",
     "text": [
      "                          precision    recall  f1-score   support\n",
      "\n",
      "                  Beauty       0.75      0.12      0.21        25\n",
      "               Bookstore       0.82      0.60      0.69        15\n",
      "             Coffee Shop       0.64      0.53      0.58        17\n",
      "             Convenience       0.00      0.00      0.00         1\n",
      "                    Drug       1.00      1.00      1.00         7\n",
      "          FitnessAndYoga       1.00      0.67      0.80        21\n",
      "         Furniture Store       0.33      0.03      0.06        29\n",
      "                    Gift       0.27      0.70      0.39       226\n",
      "                 Grocery       1.00      0.11      0.20         9\n",
      "                Hardware       0.00      0.00      0.00         1\n",
      "              Home Decor       0.33      0.18      0.23        96\n",
      "                 Jewelry       0.60      0.14      0.22        22\n",
      "  Kids Clothing Boutique       1.00      0.20      0.33        35\n",
      "           LawnAndGarden       0.89      0.57      0.69        60\n",
      "         Luggage or Bags       0.00      0.00      0.00         2\n",
      "  Mens Clothing Boutique       0.00      0.00      0.00         9\n",
      "       MercantileGeneral       0.29      0.20      0.24        10\n",
      "                   Other       0.38      0.23      0.29       160\n",
      "       Other Foodservice       0.62      0.15      0.24        34\n",
      "                     Pet       1.00      0.36      0.53        11\n",
      "             SpaAndSalon       0.89      0.76      0.82       123\n",
      " SportingGoodsAndOutdoor       0.00      0.00      0.00         5\n",
      "              Stationery       0.25      0.10      0.14        10\n",
      "                Toystore       0.00      0.00      0.00         5\n",
      "Womens Clothing Boutique       0.51      0.43      0.47       159\n",
      "\n",
      "               micro avg       0.43      0.43      0.43      1092\n",
      "               macro avg       0.50      0.28      0.33      1092\n",
      "            weighted avg       0.52      0.43      0.42      1092\n",
      "\n"
     ]
    },
    {
     "name": "stderr",
     "output_type": "stream",
     "text": [
      "/Users/pedrosalesdebruin/anaconda3/lib/python3.7/site-packages/sklearn/metrics/classification.py:1143: UndefinedMetricWarning: Precision and F-score are ill-defined and being set to 0.0 in labels with no predicted samples.\n",
      "  'precision', 'predicted', average, warn_for)\n"
     ]
    }
   ],
   "source": [
    "print(classification_report(test_y, predictions))"
   ]
  },
  {
   "cell_type": "markdown",
   "metadata": {},
   "source": [
    "## Naive Bayes"
   ]
  },
  {
   "cell_type": "code",
   "execution_count": 55,
   "metadata": {},
   "outputs": [],
   "source": [
    "from sklearn.naive_bayes import MultinomialNB"
   ]
  },
  {
   "cell_type": "code",
   "execution_count": 56,
   "metadata": {},
   "outputs": [],
   "source": [
    "pipelineNB = Pipeline([\n",
    "    ('tfidf', TfidfVectorizer(stop_words='english')),\n",
    "    ('clf', OneVsRestClassifier(MultinomialNB(\n",
    "#     ('clf', OneVsOneClassifier(MultinomialNB(\n",
    "        fit_prior=True, class_prior=None))),\n",
    "])\n",
    "parametersNB = {\n",
    "    'tfidf__max_df': (0.25, 0.5, 0.75),\n",
    "    'tfidf__ngram_range': [(1, 1), (1, 2), (1, 3)],\n",
    "    'clf__estimator__alpha': (1e-2, 1e-3)\n",
    "}"
   ]
  },
  {
   "cell_type": "code",
   "execution_count": 57,
   "metadata": {},
   "outputs": [
    {
     "name": "stdout",
     "output_type": "stream",
     "text": [
      "Fitting 2 folds for each of 18 candidates, totalling 36 fits\n"
     ]
    },
    {
     "name": "stderr",
     "output_type": "stream",
     "text": [
      "[Parallel(n_jobs=2)]: Using backend LokyBackend with 2 concurrent workers.\n",
      "[Parallel(n_jobs=2)]: Done  36 out of  36 | elapsed:    1.9s finished\n"
     ]
    },
    {
     "data": {
      "text/plain": [
       "GridSearchCV(cv=2, error_score='raise-deprecating',\n",
       "       estimator=Pipeline(memory=None,\n",
       "     steps=[('tfidf', TfidfVectorizer(analyzer='word', binary=False, decode_error='strict',\n",
       "        dtype=<class 'numpy.float64'>, encoding='utf-8', input='content',\n",
       "        lowercase=True, max_df=1.0, max_features=None, min_df=1,\n",
       "        ngram_range=(1, 1), norm='l2', preprocessor=None, smooth_idf=True,...ifier(estimator=MultinomialNB(alpha=1.0, class_prior=None, fit_prior=True),\n",
       "          n_jobs=None))]),\n",
       "       fit_params=None, iid='warn', n_jobs=2,\n",
       "       param_grid={'tfidf__max_df': (0.25, 0.5, 0.75), 'tfidf__ngram_range': [(1, 1), (1, 2), (1, 3)], 'clf__estimator__alpha': (0.01, 0.001)},\n",
       "       pre_dispatch='2*n_jobs', refit=True, return_train_score='warn',\n",
       "       scoring=None, verbose=3)"
      ]
     },
     "execution_count": 57,
     "metadata": {},
     "output_type": "execute_result"
    }
   ],
   "source": [
    "grid_search_tune = GridSearchCV(pipelineNB, parametersNB, cv=2, n_jobs=2, verbose=3)\n",
    "grid_search_tune.fit(train_x, train_y)"
   ]
  },
  {
   "cell_type": "code",
   "execution_count": 58,
   "metadata": {},
   "outputs": [
    {
     "name": "stdout",
     "output_type": "stream",
     "text": [
      "\n",
      "Best parameters set:\n",
      "[('tfidf', TfidfVectorizer(analyzer='word', binary=False, decode_error='strict',\n",
      "        dtype=<class 'numpy.float64'>, encoding='utf-8', input='content',\n",
      "        lowercase=True, max_df=0.25, max_features=None, min_df=1,\n",
      "        ngram_range=(1, 3), norm='l2', preprocessor=None, smooth_idf=True,\n",
      "        stop_words='english', strip_accents=None, sublinear_tf=False,\n",
      "        token_pattern='(?u)\\\\b\\\\w\\\\w+\\\\b', tokenizer=None, use_idf=True,\n",
      "        vocabulary=None)), ('clf', OneVsRestClassifier(estimator=MultinomialNB(alpha=0.01, class_prior=None, fit_prior=True),\n",
      "          n_jobs=None))]\n",
      "\n"
     ]
    }
   ],
   "source": [
    "print(\"\\nBest parameters set:\")\n",
    "print(grid_search_tune.best_estimator_.steps)\n",
    "print()"
   ]
  },
  {
   "cell_type": "code",
   "execution_count": 59,
   "metadata": {},
   "outputs": [
    {
     "name": "stdout",
     "output_type": "stream",
     "text": [
      "Applying best classifier on test data:\n",
      "Pipeline(memory=None,\n",
      "     steps=[('tfidf', TfidfVectorizer(analyzer='word', binary=False, decode_error='strict',\n",
      "        dtype=<class 'numpy.float64'>, encoding='utf-8', input='content',\n",
      "        lowercase=True, max_df=0.25, max_features=None, min_df=1,\n",
      "        ngram_range=(1, 3), norm='l2', preprocessor=None, smooth_idf=True...fier(estimator=MultinomialNB(alpha=0.01, class_prior=None, fit_prior=True),\n",
      "          n_jobs=None))])\n"
     ]
    }
   ],
   "source": [
    "# measuring performance on test set\n",
    "print(\"Applying best classifier on test data:\")\n",
    "best_clf = grid_search_tune.best_estimator_\n",
    "predictions = best_clf.predict(test_x)\n",
    "print(best_clf)"
   ]
  },
  {
   "cell_type": "code",
   "execution_count": 60,
   "metadata": {},
   "outputs": [
    {
     "name": "stdout",
     "output_type": "stream",
     "text": [
      "                          precision    recall  f1-score   support\n",
      "\n",
      "                  Beauty       0.50      0.20      0.29        25\n",
      "               Bookstore       0.67      0.67      0.67        15\n",
      "             Coffee Shop       0.55      0.35      0.43        17\n",
      "             Convenience       0.00      0.00      0.00         1\n",
      "                    Drug       1.00      1.00      1.00         7\n",
      "          FitnessAndYoga       0.82      0.67      0.74        21\n",
      "         Furniture Store       0.10      0.03      0.05        29\n",
      "                    Gift       0.29      0.62      0.39       226\n",
      "                 Grocery       0.33      0.11      0.17         9\n",
      "                Hardware       0.00      0.00      0.00         1\n",
      "              Home Decor       0.32      0.22      0.26        96\n",
      "                 Jewelry       0.30      0.14      0.19        22\n",
      "  Kids Clothing Boutique       0.71      0.29      0.41        35\n",
      "           LawnAndGarden       0.80      0.58      0.67        60\n",
      "         Luggage or Bags       0.00      0.00      0.00         2\n",
      "  Mens Clothing Boutique       0.50      0.11      0.18         9\n",
      "       MercantileGeneral       0.33      0.30      0.32        10\n",
      "                   Other       0.34      0.21      0.26       160\n",
      "       Other Foodservice       0.30      0.21      0.25        34\n",
      "                     Pet       1.00      0.36      0.53        11\n",
      "             SpaAndSalon       0.78      0.73      0.75       123\n",
      " SportingGoodsAndOutdoor       0.00      0.00      0.00         5\n",
      "              Stationery       0.43      0.30      0.35        10\n",
      "                Toystore       0.00      0.00      0.00         5\n",
      "Womens Clothing Boutique       0.46      0.40      0.43       159\n",
      "\n",
      "               micro avg       0.42      0.42      0.42      1092\n",
      "               macro avg       0.42      0.30      0.33      1092\n",
      "            weighted avg       0.45      0.42      0.41      1092\n",
      "\n"
     ]
    },
    {
     "name": "stderr",
     "output_type": "stream",
     "text": [
      "/Users/pedrosalesdebruin/anaconda3/lib/python3.7/site-packages/sklearn/metrics/classification.py:1143: UndefinedMetricWarning: Precision and F-score are ill-defined and being set to 0.0 in labels with no predicted samples.\n",
      "  'precision', 'predicted', average, warn_for)\n"
     ]
    }
   ],
   "source": [
    "print(classification_report(test_y, predictions))"
   ]
  },
  {
   "cell_type": "code",
   "execution_count": 61,
   "metadata": {},
   "outputs": [],
   "source": [
    "from sklearn.metrics import confusion_matrix"
   ]
  },
  {
   "cell_type": "code",
   "execution_count": 62,
   "metadata": {},
   "outputs": [],
   "source": [
    "cm = confusion_matrix(test_y, predictions)"
   ]
  },
  {
   "cell_type": "markdown",
   "metadata": {},
   "source": [
    "## SVM Linear"
   ]
  },
  {
   "cell_type": "code",
   "execution_count": 63,
   "metadata": {},
   "outputs": [],
   "source": [
    "from sklearn.svm import LinearSVC"
   ]
  },
  {
   "cell_type": "code",
   "execution_count": 64,
   "metadata": {},
   "outputs": [],
   "source": [
    "pipelineSVM = Pipeline([('tfidf', TfidfVectorizer(stop_words='english')),\n",
    "                     ('clf', OneVsRestClassifier(LinearSVC())),])\n",
    "#                     ('clf', OneVsOneClassifier(LinearSVC())),])\n",
    "parametersSVM = {\n",
    "    'tfidf__max_df': (0.25, 0.5, 0.75),\n",
    "    'tfidf__ngram_range': [(1, 1), (1, 2), (1, 3)],\n",
    "    \"clf__estimator__C\": [0.01, 0.1, 1],\n",
    "    \"clf__estimator__class_weight\": ['balanced', None],\n",
    "}"
   ]
  },
  {
   "cell_type": "code",
   "execution_count": 65,
   "metadata": {},
   "outputs": [
    {
     "name": "stderr",
     "output_type": "stream",
     "text": [
      "[Parallel(n_jobs=2)]: Using backend LokyBackend with 2 concurrent workers.\n"
     ]
    },
    {
     "name": "stdout",
     "output_type": "stream",
     "text": [
      "Fitting 2 folds for each of 18 candidates, totalling 36 fits\n"
     ]
    },
    {
     "name": "stderr",
     "output_type": "stream",
     "text": [
      "[Parallel(n_jobs=2)]: Done  36 out of  36 | elapsed:    1.8s finished\n"
     ]
    },
    {
     "data": {
      "text/plain": [
       "GridSearchCV(cv=2, error_score='raise-deprecating',\n",
       "       estimator=Pipeline(memory=None,\n",
       "     steps=[('tfidf', TfidfVectorizer(analyzer='word', binary=False, decode_error='strict',\n",
       "        dtype=<class 'numpy.float64'>, encoding='utf-8', input='content',\n",
       "        lowercase=True, max_df=1.0, max_features=None, min_df=1,\n",
       "        ngram_range=(1, 1), norm='l2', preprocessor=None, smooth_idf=True,...ifier(estimator=MultinomialNB(alpha=1.0, class_prior=None, fit_prior=True),\n",
       "          n_jobs=None))]),\n",
       "       fit_params=None, iid='warn', n_jobs=2,\n",
       "       param_grid={'tfidf__max_df': (0.25, 0.5, 0.75), 'tfidf__ngram_range': [(1, 1), (1, 2), (1, 3)], 'clf__estimator__alpha': (0.01, 0.001)},\n",
       "       pre_dispatch='2*n_jobs', refit=True, return_train_score='warn',\n",
       "       scoring=None, verbose=3)"
      ]
     },
     "execution_count": 65,
     "metadata": {},
     "output_type": "execute_result"
    }
   ],
   "source": [
    "grid_search_tune = GridSearchCV(pipelineNB, parametersNB, cv=2, n_jobs=2, verbose=3)\n",
    "grid_search_tune.fit(train_x, train_y)"
   ]
  },
  {
   "cell_type": "code",
   "execution_count": 66,
   "metadata": {},
   "outputs": [
    {
     "name": "stdout",
     "output_type": "stream",
     "text": [
      "\n",
      "Best parameters set:\n",
      "[('tfidf', TfidfVectorizer(analyzer='word', binary=False, decode_error='strict',\n",
      "        dtype=<class 'numpy.float64'>, encoding='utf-8', input='content',\n",
      "        lowercase=True, max_df=0.25, max_features=None, min_df=1,\n",
      "        ngram_range=(1, 3), norm='l2', preprocessor=None, smooth_idf=True,\n",
      "        stop_words='english', strip_accents=None, sublinear_tf=False,\n",
      "        token_pattern='(?u)\\\\b\\\\w\\\\w+\\\\b', tokenizer=None, use_idf=True,\n",
      "        vocabulary=None)), ('clf', OneVsRestClassifier(estimator=MultinomialNB(alpha=0.01, class_prior=None, fit_prior=True),\n",
      "          n_jobs=None))]\n",
      "\n"
     ]
    }
   ],
   "source": [
    "print(\"\\nBest parameters set:\")\n",
    "print(grid_search_tune.best_estimator_.steps)\n",
    "print()"
   ]
  },
  {
   "cell_type": "code",
   "execution_count": 67,
   "metadata": {},
   "outputs": [
    {
     "name": "stdout",
     "output_type": "stream",
     "text": [
      "Applying best classifier on test data:\n",
      "Pipeline(memory=None,\n",
      "     steps=[('tfidf', TfidfVectorizer(analyzer='word', binary=False, decode_error='strict',\n",
      "        dtype=<class 'numpy.float64'>, encoding='utf-8', input='content',\n",
      "        lowercase=True, max_df=0.25, max_features=None, min_df=1,\n",
      "        ngram_range=(1, 3), norm='l2', preprocessor=None, smooth_idf=True...fier(estimator=MultinomialNB(alpha=0.01, class_prior=None, fit_prior=True),\n",
      "          n_jobs=None))])\n"
     ]
    }
   ],
   "source": [
    "# measuring performance on test set\n",
    "print(\"Applying best classifier on test data:\")\n",
    "best_clf = grid_search_tune.best_estimator_\n",
    "predictions = best_clf.predict(test_x)\n",
    "print(best_clf)"
   ]
  },
  {
   "cell_type": "code",
   "execution_count": 68,
   "metadata": {},
   "outputs": [
    {
     "name": "stdout",
     "output_type": "stream",
     "text": [
      "                          precision    recall  f1-score   support\n",
      "\n",
      "                  Beauty       0.50      0.20      0.29        25\n",
      "               Bookstore       0.67      0.67      0.67        15\n",
      "             Coffee Shop       0.55      0.35      0.43        17\n",
      "             Convenience       0.00      0.00      0.00         1\n",
      "                    Drug       1.00      1.00      1.00         7\n",
      "          FitnessAndYoga       0.82      0.67      0.74        21\n",
      "         Furniture Store       0.10      0.03      0.05        29\n",
      "                    Gift       0.29      0.62      0.39       226\n",
      "                 Grocery       0.33      0.11      0.17         9\n",
      "                Hardware       0.00      0.00      0.00         1\n",
      "              Home Decor       0.32      0.22      0.26        96\n",
      "                 Jewelry       0.30      0.14      0.19        22\n",
      "  Kids Clothing Boutique       0.71      0.29      0.41        35\n",
      "           LawnAndGarden       0.80      0.58      0.67        60\n",
      "         Luggage or Bags       0.00      0.00      0.00         2\n",
      "  Mens Clothing Boutique       0.50      0.11      0.18         9\n",
      "       MercantileGeneral       0.33      0.30      0.32        10\n",
      "                   Other       0.34      0.21      0.26       160\n",
      "       Other Foodservice       0.30      0.21      0.25        34\n",
      "                     Pet       1.00      0.36      0.53        11\n",
      "             SpaAndSalon       0.78      0.73      0.75       123\n",
      " SportingGoodsAndOutdoor       0.00      0.00      0.00         5\n",
      "              Stationery       0.43      0.30      0.35        10\n",
      "                Toystore       0.00      0.00      0.00         5\n",
      "Womens Clothing Boutique       0.46      0.40      0.43       159\n",
      "\n",
      "               micro avg       0.42      0.42      0.42      1092\n",
      "               macro avg       0.42      0.30      0.33      1092\n",
      "            weighted avg       0.45      0.42      0.41      1092\n",
      "\n"
     ]
    },
    {
     "name": "stderr",
     "output_type": "stream",
     "text": [
      "/Users/pedrosalesdebruin/anaconda3/lib/python3.7/site-packages/sklearn/metrics/classification.py:1143: UndefinedMetricWarning: Precision and F-score are ill-defined and being set to 0.0 in labels with no predicted samples.\n",
      "  'precision', 'predicted', average, warn_for)\n"
     ]
    }
   ],
   "source": [
    "print(classification_report(test_y, predictions))"
   ]
  },
  {
   "cell_type": "markdown",
   "metadata": {},
   "source": [
    "# Use best model on new stores:"
   ]
  },
  {
   "cell_type": "code",
   "execution_count": 69,
   "metadata": {},
   "outputs": [],
   "source": [
    "pipeline = Pipeline([\n",
    "    ('tfidf', TfidfVectorizer(stop_words='english')),\n",
    "    ('clf', OneVsRestClassifier(LogisticRegression(solver='sag'))),\n",
    "#     ('clf', OneVsOneClassifier(LogisticRegression(solver='sag'))),\n",
    "])\n",
    "parameters = {\n",
    "    'tfidf__max_df': (0.25, 0.5, 0.75),\n",
    "    'tfidf__ngram_range': [(1, 1), (1, 2), (1, 3)],\n",
    "    \"clf__estimator__C\": [0.01, 0.1, 1],\n",
    "    \"clf__estimator__class_weight\": ['balanced', None],\n",
    "\n",
    "}"
   ]
  },
  {
   "cell_type": "code",
   "execution_count": 70,
   "metadata": {},
   "outputs": [
    {
     "name": "stderr",
     "output_type": "stream",
     "text": [
      "[Parallel(n_jobs=2)]: Using backend LokyBackend with 2 concurrent workers.\n"
     ]
    },
    {
     "name": "stdout",
     "output_type": "stream",
     "text": [
      "Fitting 2 folds for each of 54 candidates, totalling 108 fits\n"
     ]
    },
    {
     "name": "stderr",
     "output_type": "stream",
     "text": [
      "[Parallel(n_jobs=2)]: Done  28 tasks      | elapsed:    6.2s\n",
      "[Parallel(n_jobs=2)]: Done 108 out of 108 | elapsed:   30.5s finished\n",
      "/Users/pedrosalesdebruin/anaconda3/lib/python3.7/site-packages/sklearn/model_selection/_search.py:841: DeprecationWarning: The default of the `iid` parameter will change from True to False in version 0.22 and will be removed in 0.24. This will change numeric results when test-set sizes are unequal.\n",
      "  DeprecationWarning)\n"
     ]
    },
    {
     "data": {
      "text/plain": [
       "GridSearchCV(cv=2, error_score='raise-deprecating',\n",
       "       estimator=Pipeline(memory=None,\n",
       "     steps=[('tfidf', TfidfVectorizer(analyzer='word', binary=False, decode_error='strict',\n",
       "        dtype=<class 'numpy.float64'>, encoding='utf-8', input='content',\n",
       "        lowercase=True, max_df=1.0, max_features=None, min_df=1,\n",
       "        ngram_range=(1, 1), norm='l2', preprocessor=None, smooth_idf=True,...ate=None, solver='sag',\n",
       "          tol=0.0001, verbose=0, warm_start=False),\n",
       "          n_jobs=None))]),\n",
       "       fit_params=None, iid='warn', n_jobs=2,\n",
       "       param_grid={'tfidf__max_df': (0.25, 0.5, 0.75), 'tfidf__ngram_range': [(1, 1), (1, 2), (1, 3)], 'clf__estimator__C': [0.01, 0.1, 1], 'clf__estimator__class_weight': ['balanced', None]},\n",
       "       pre_dispatch='2*n_jobs', refit=True, return_train_score='warn',\n",
       "       scoring=None, verbose=3)"
      ]
     },
     "execution_count": 70,
     "metadata": {},
     "output_type": "execute_result"
    }
   ],
   "source": [
    "grid_search_tune = GridSearchCV(pipeline, parameters, cv=2, n_jobs=2, verbose=3)\n",
    "grid_search_tune.fit(train_x, train_y)"
   ]
  },
  {
   "cell_type": "code",
   "execution_count": 71,
   "metadata": {},
   "outputs": [
    {
     "name": "stdout",
     "output_type": "stream",
     "text": [
      "\n",
      "Best parameters set:\n",
      "[('tfidf', TfidfVectorizer(analyzer='word', binary=False, decode_error='strict',\n",
      "        dtype=<class 'numpy.float64'>, encoding='utf-8', input='content',\n",
      "        lowercase=True, max_df=0.25, max_features=None, min_df=1,\n",
      "        ngram_range=(1, 1), norm='l2', preprocessor=None, smooth_idf=True,\n",
      "        stop_words='english', strip_accents=None, sublinear_tf=False,\n",
      "        token_pattern='(?u)\\\\b\\\\w\\\\w+\\\\b', tokenizer=None, use_idf=True,\n",
      "        vocabulary=None)), ('clf', OneVsRestClassifier(estimator=LogisticRegression(C=1, class_weight=None, dual=False, fit_intercept=True,\n",
      "          intercept_scaling=1, max_iter=100, multi_class='warn',\n",
      "          n_jobs=None, penalty='l2', random_state=None, solver='sag',\n",
      "          tol=0.0001, verbose=0, warm_start=False),\n",
      "          n_jobs=None))]\n",
      "\n"
     ]
    }
   ],
   "source": [
    "print(\"\\nBest parameters set:\")\n",
    "print(grid_search_tune.best_estimator_.steps)\n",
    "print()"
   ]
  },
  {
   "cell_type": "code",
   "execution_count": 72,
   "metadata": {},
   "outputs": [
    {
     "name": "stdout",
     "output_type": "stream",
     "text": [
      "Applying best classifier on test data:\n",
      "Pipeline(memory=None,\n",
      "     steps=[('tfidf', TfidfVectorizer(analyzer='word', binary=False, decode_error='strict',\n",
      "        dtype=<class 'numpy.float64'>, encoding='utf-8', input='content',\n",
      "        lowercase=True, max_df=0.25, max_features=None, min_df=1,\n",
      "        ngram_range=(1, 1), norm='l2', preprocessor=None, smooth_idf=True...ate=None, solver='sag',\n",
      "          tol=0.0001, verbose=0, warm_start=False),\n",
      "          n_jobs=None))])\n"
     ]
    }
   ],
   "source": [
    "# measuring performance on test set\n",
    "print(\"Applying best classifier on test data:\")\n",
    "best_clf = grid_search_tune.best_estimator_\n",
    "predictions = best_clf.predict(test_x)\n",
    "print(best_clf)"
   ]
  },
  {
   "cell_type": "code",
   "execution_count": 73,
   "metadata": {},
   "outputs": [
    {
     "name": "stdout",
     "output_type": "stream",
     "text": [
      "                          precision    recall  f1-score   support\n",
      "\n",
      "                  Beauty       0.75      0.12      0.21        25\n",
      "               Bookstore       0.82      0.60      0.69        15\n",
      "             Coffee Shop       0.64      0.53      0.58        17\n",
      "             Convenience       0.00      0.00      0.00         1\n",
      "                    Drug       1.00      1.00      1.00         7\n",
      "          FitnessAndYoga       1.00      0.67      0.80        21\n",
      "         Furniture Store       0.33      0.03      0.06        29\n",
      "                    Gift       0.27      0.70      0.39       226\n",
      "                 Grocery       1.00      0.11      0.20         9\n",
      "                Hardware       0.00      0.00      0.00         1\n",
      "              Home Decor       0.33      0.18      0.23        96\n",
      "                 Jewelry       0.60      0.14      0.22        22\n",
      "  Kids Clothing Boutique       1.00      0.20      0.33        35\n",
      "           LawnAndGarden       0.89      0.57      0.69        60\n",
      "         Luggage or Bags       0.00      0.00      0.00         2\n",
      "  Mens Clothing Boutique       0.00      0.00      0.00         9\n",
      "       MercantileGeneral       0.29      0.20      0.24        10\n",
      "                   Other       0.38      0.23      0.29       160\n",
      "       Other Foodservice       0.62      0.15      0.24        34\n",
      "                     Pet       1.00      0.36      0.53        11\n",
      "             SpaAndSalon       0.89      0.76      0.82       123\n",
      " SportingGoodsAndOutdoor       0.00      0.00      0.00         5\n",
      "              Stationery       0.25      0.10      0.14        10\n",
      "                Toystore       0.00      0.00      0.00         5\n",
      "Womens Clothing Boutique       0.51      0.43      0.47       159\n",
      "\n",
      "               micro avg       0.43      0.43      0.43      1092\n",
      "               macro avg       0.50      0.28      0.33      1092\n",
      "            weighted avg       0.52      0.43      0.42      1092\n",
      "\n"
     ]
    },
    {
     "name": "stderr",
     "output_type": "stream",
     "text": [
      "/Users/pedrosalesdebruin/anaconda3/lib/python3.7/site-packages/sklearn/metrics/classification.py:1143: UndefinedMetricWarning: Precision and F-score are ill-defined and being set to 0.0 in labels with no predicted samples.\n",
      "  'precision', 'predicted', average, warn_for)\n"
     ]
    }
   ],
   "source": [
    "print(classification_report(test_y, predictions))"
   ]
  },
  {
   "cell_type": "code",
   "execution_count": 74,
   "metadata": {},
   "outputs": [
    {
     "data": {
      "text/plain": [
       "array(['Beauty', 'Bookstore', 'Coffee Shop', 'Convenience', 'Drug',\n",
       "       'FitnessAndYoga', 'Furniture Store', 'Gift', 'Grocery', 'Hardware',\n",
       "       'Home Decor', 'Jewelry', 'Kids Clothing Boutique', 'LawnAndGarden',\n",
       "       'Luggage or Bags', 'Mens Clothing Boutique', 'MercantileGeneral',\n",
       "       'Other', 'Other Foodservice', 'Pet', 'SpaAndSalon',\n",
       "       'SportingGoodsAndOutdoor', 'Stationery', 'Toystore',\n",
       "       'Womens Clothing Boutique'], dtype='<U24')"
      ]
     },
     "execution_count": 74,
     "metadata": {},
     "output_type": "execute_result"
    }
   ],
   "source": [
    "best_clf.classes_"
   ]
  },
  {
   "cell_type": "code",
   "execution_count": 75,
   "metadata": {},
   "outputs": [],
   "source": [
    "proba_predictions = best_clf.predict_proba(test_x)"
   ]
  },
  {
   "cell_type": "markdown",
   "metadata": {},
   "source": [
    "## Clean new dataset the same way"
   ]
  },
  {
   "cell_type": "code",
   "execution_count": 76,
   "metadata": {},
   "outputs": [],
   "source": [
    "df_r = clean_name_col(df_r)"
   ]
  },
  {
   "cell_type": "code",
   "execution_count": 77,
   "metadata": {},
   "outputs": [],
   "source": [
    "df_r['name'] = df_r['name'].apply(\n",
    "    lambda x: ' '.join([w for w in str(x).split() if w in frequent_words.keys()]) )"
   ]
  },
  {
   "cell_type": "code",
   "execution_count": 78,
   "metadata": {},
   "outputs": [],
   "source": [
    "# split the data, leave 1/4 out for testing\n",
    "df_r['joined_name'] = df_r['name'].apply(lambda x: \", \".join([w for w in x.split()]))"
   ]
  },
  {
   "cell_type": "code",
   "execution_count": 79,
   "metadata": {},
   "outputs": [
    {
     "name": "stderr",
     "output_type": "stream",
     "text": [
      "/Users/pedrosalesdebruin/anaconda3/lib/python3.7/site-packages/ipykernel_launcher.py:1: FutureWarning: Method .as_matrix will be removed in a future version. Use .values instead.\n",
      "  \"\"\"Entry point for launching an IPython kernel.\n",
      "/Users/pedrosalesdebruin/anaconda3/lib/python3.7/site-packages/ipykernel_launcher.py:2: FutureWarning: Method .as_matrix will be removed in a future version. Use .values instead.\n",
      "  \n"
     ]
    }
   ],
   "source": [
    "data_x = df_r[['joined_name']].as_matrix()\n",
    "data_y = df_r[['category']].as_matrix()"
   ]
  },
  {
   "cell_type": "code",
   "execution_count": 80,
   "metadata": {},
   "outputs": [],
   "source": [
    "# transform matrix of name into lists to pass to a TfidfVectorizer\n",
    "x_data = [x[0] for x in data_x.tolist()]"
   ]
  },
  {
   "cell_type": "code",
   "execution_count": 81,
   "metadata": {},
   "outputs": [],
   "source": [
    "y_data = [y[0] for y in data_y.tolist()]"
   ]
  },
  {
   "cell_type": "code",
   "execution_count": 82,
   "metadata": {},
   "outputs": [],
   "source": [
    "predictions = best_clf.predict(x_data)\n",
    "proba_predictions = best_clf.predict_proba(x_data)"
   ]
  },
  {
   "cell_type": "code",
   "execution_count": 83,
   "metadata": {},
   "outputs": [
    {
     "data": {
      "text/plain": [
       "(102866, 25)"
      ]
     },
     "execution_count": 83,
     "metadata": {},
     "output_type": "execute_result"
    }
   ],
   "source": [
    "proba_predictions.shape"
   ]
  },
  {
   "cell_type": "code",
   "execution_count": 84,
   "metadata": {},
   "outputs": [
    {
     "data": {
      "text/plain": [
       "(102866, 78)"
      ]
     },
     "execution_count": 84,
     "metadata": {},
     "output_type": "execute_result"
    }
   ],
   "source": [
    "df_r.shape"
   ]
  },
  {
   "cell_type": "code",
   "execution_count": 85,
   "metadata": {},
   "outputs": [],
   "source": [
    "df_r['category_prediction_tfidf'] = predictions"
   ]
  },
  {
   "cell_type": "code",
   "execution_count": 86,
   "metadata": {},
   "outputs": [],
   "source": [
    "df_r.loc[df_r['joined_name']=='', 'category_prediction_tfidf'] = 'Name too unique to guess'"
   ]
  },
  {
   "cell_type": "markdown",
   "metadata": {},
   "source": [
    "# Spot check time"
   ]
  },
  {
   "cell_type": "code",
   "execution_count": 87,
   "metadata": {},
   "outputs": [
    {
     "data": {
      "text/plain": [
       "47                        stationery\n",
       "132                            paper\n",
       "164                            paper\n",
       "323                            paper\n",
       "381                            paper\n",
       "1658                           paper\n",
       "1746                           paper\n",
       "1831                           paper\n",
       "1834                           paper\n",
       "2023                      paper rock\n",
       "2044                           paper\n",
       "2050                      stationery\n",
       "2359                           paper\n",
       "2401                           paper\n",
       "2403                      stationery\n",
       "2416                           paper\n",
       "2500                      rock paper\n",
       "2594                      stationery\n",
       "2609                           paper\n",
       "2796                           paper\n",
       "2808                           paper\n",
       "2956                      stationery\n",
       "2970                           paper\n",
       "3001                           paper\n",
       "3233                           paper\n",
       "3279                           paper\n",
       "3319                           paper\n",
       "3412                           paper\n",
       "3526                           paper\n",
       "3604                           paper\n",
       "                     ...            \n",
       "84880                          paper\n",
       "85032                          paper\n",
       "85384                          paper\n",
       "85823                          paper\n",
       "88872                          paper\n",
       "89112                     stationery\n",
       "89196                     rock paper\n",
       "90014                    paper paper\n",
       "90870                          paper\n",
       "91407                          paper\n",
       "92696                    print paper\n",
       "93042                     stationery\n",
       "93048                          paper\n",
       "95531                          paper\n",
       "95785                          paper\n",
       "96632                          paper\n",
       "97529                          paper\n",
       "98520                          paper\n",
       "98525                          paper\n",
       "98531                          paper\n",
       "98557                          paper\n",
       "98623                          paper\n",
       "99062     paper luxe stationery gift\n",
       "99192                          paper\n",
       "99878                          paper\n",
       "99982                     paper rock\n",
       "100619                         paper\n",
       "101079                         paper\n",
       "101484                    paper next\n",
       "102044                         paper\n",
       "Name: name, Length: 150, dtype: object"
      ]
     },
     "execution_count": 87,
     "metadata": {},
     "output_type": "execute_result"
    }
   ],
   "source": [
    "df_r.loc[df_r['category_prediction_tfidf']=='Stationery', 'name']"
   ]
  },
  {
   "cell_type": "code",
   "execution_count": 88,
   "metadata": {},
   "outputs": [
    {
     "data": {
      "text/plain": [
       "25                    boutique\n",
       "46                          st\n",
       "65               city clothing\n",
       "92                        best\n",
       "108                   beach st\n",
       "113                       pink\n",
       "116                       wear\n",
       "123                 love child\n",
       "136         consignment shoppe\n",
       "143                         st\n",
       "181                      urban\n",
       "193                        mad\n",
       "196                    couture\n",
       "231                      queen\n",
       "237                      urban\n",
       "244                       lane\n",
       "264                   boutique\n",
       "267                      dream\n",
       "295                      dream\n",
       "311             bella boutique\n",
       "350        urban chic boutique\n",
       "364                         st\n",
       "365            golden boutique\n",
       "386            sweet lady jane\n",
       "389       city market boutique\n",
       "399                      gypsy\n",
       "428                    apparel\n",
       "457                      shine\n",
       "517             bloom boutique\n",
       "580                      black\n",
       "                  ...         \n",
       "102584                boutique\n",
       "102603                   style\n",
       "102612                boutique\n",
       "102617                   trend\n",
       "102624                boutique\n",
       "102626                    rose\n",
       "102630                boutique\n",
       "102632                   style\n",
       "102634                boutique\n",
       "102638                   grace\n",
       "102655                    plum\n",
       "102665                boutique\n",
       "102673                boutique\n",
       "102674           pink boutique\n",
       "102690                   gypsy\n",
       "102693                boutique\n",
       "102718         resale boutique\n",
       "102730                    muse\n",
       "102738                   gypsy\n",
       "102754          bloom boutique\n",
       "102769                   style\n",
       "102799                boutique\n",
       "102800                boutique\n",
       "102814                boutique\n",
       "102815                   grace\n",
       "102827                boutique\n",
       "102843                boutique\n",
       "102848       wellness boutique\n",
       "102854                    lane\n",
       "102862             uptown chic\n",
       "Name: name, Length: 11724, dtype: object"
      ]
     },
     "execution_count": 88,
     "metadata": {},
     "output_type": "execute_result"
    }
   ],
   "source": [
    "df_r.loc[df_r['category_prediction_tfidf']=='Womens Clothing Boutique', 'name']"
   ]
  },
  {
   "cell_type": "code",
   "execution_count": 89,
   "metadata": {},
   "outputs": [
    {
     "data": {
      "text/plain": [
       "64956            pet boutique\n",
       "101436              happy pet\n",
       "97634             pet spa pet\n",
       "59989                dog side\n",
       "101967                    pet\n",
       "50699      natural pet center\n",
       "68631                     dog\n",
       "75516                love pet\n",
       "92077                     paw\n",
       "7058                      pet\n",
       "86873             pet product\n",
       "20579                     dog\n",
       "66346               pet wants\n",
       "20677             pet element\n",
       "12129               pet wants\n",
       "82092                     paw\n",
       "94889              pet resort\n",
       "93907                pure pet\n",
       "77163      creek pet boutique\n",
       "66700        pet boutique bar\n",
       "80856                     dog\n",
       "69253               pet wants\n",
       "23604             pet product\n",
       "13788     dream dba pet wants\n",
       "38371                     dog\n",
       "83062           pet wants san\n",
       "14365                     paw\n",
       "77410                     pet\n",
       "14429                     pet\n",
       "83249                     dog\n",
       "Name: name, dtype: object"
      ]
     },
     "execution_count": 89,
     "metadata": {},
     "output_type": "execute_result"
    }
   ],
   "source": [
    "df_r.loc[df_r['category_prediction_tfidf']=='Pet', 'name'].sample(30)"
   ]
  },
  {
   "cell_type": "code",
   "execution_count": 90,
   "metadata": {},
   "outputs": [
    {
     "data": {
      "text/plain": [
       "92155                    hot yoga place\n",
       "101268                      yoga center\n",
       "31760                              yoga\n",
       "57877                          bay yoga\n",
       "101273                        nest yoga\n",
       "101133                      yoga center\n",
       "74738                         yoga cape\n",
       "50440                   yoga collective\n",
       "44631             nature yoga sanctuary\n",
       "88158     north yoga wellness sanctuary\n",
       "97448                              yoga\n",
       "78968                            wellne\n",
       "66292                              yoga\n",
       "7439                 yoga garage rabbit\n",
       "48856                            wellne\n",
       "27970                              yoga\n",
       "13790                        body barre\n",
       "100113                   fitness studio\n",
       "65778               south mountain yoga\n",
       "92398                       yoga wellne\n",
       "66208                            wellne\n",
       "59901                              yoga\n",
       "54938                              yoga\n",
       "99637                              yoga\n",
       "20531                              yoga\n",
       "82005                          sea yoga\n",
       "8746                 love yoga boutique\n",
       "56015            white swan yoga studio\n",
       "72958                        pure barre\n",
       "99949                            wellne\n",
       "Name: name, dtype: object"
      ]
     },
     "execution_count": 90,
     "metadata": {},
     "output_type": "execute_result"
    }
   ],
   "source": [
    "df_r.loc[df_r['category_prediction_tfidf']=='FitnessAndYoga', 'name'].sample(30)"
   ]
  },
  {
   "cell_type": "code",
   "execution_count": 91,
   "metadata": {},
   "outputs": [
    {
     "data": {
      "text/plain": [
       "76775                                 paw\n",
       "10000                        discount pet\n",
       "102181                       pet boutique\n",
       "42009                     pet wants north\n",
       "16685                           south paw\n",
       "2166                              dog toy\n",
       "67964                                 pet\n",
       "67207                                 pet\n",
       "66447                            pet food\n",
       "93552                                 paw\n",
       "65543                        red pet food\n",
       "9800                        pet wants san\n",
       "26863                                 pet\n",
       "41943                           pet wants\n",
       "94647                                 dog\n",
       "13982                                 dog\n",
       "77313                             joy pet\n",
       "102707                         pet design\n",
       "36198                        pet emporium\n",
       "20640                          pet resort\n",
       "92027     lucky dog outfitters pet supply\n",
       "97754                        pet emporium\n",
       "42080                           pet wants\n",
       "84408                      pet pet supply\n",
       "95045                                 dog\n",
       "82437                         pet apparel\n",
       "62960                           haute dog\n",
       "64813                                 dog\n",
       "39080                                 pet\n",
       "36943                                 pet\n",
       "Name: name, dtype: object"
      ]
     },
     "execution_count": 91,
     "metadata": {},
     "output_type": "execute_result"
    }
   ],
   "source": [
    "df_r.loc[df_r['category_prediction_tfidf']=='Pet', 'name'].sample(30)"
   ]
  },
  {
   "cell_type": "code",
   "execution_count": 92,
   "metadata": {},
   "outputs": [
    {
     "data": {
      "text/plain": [
       "23796     white river mercantile\n",
       "62624           white owl market\n",
       "88822                lilac honey\n",
       "62792              north gallery\n",
       "60778                       lady\n",
       "22793                      creek\n",
       "69111             desert cottage\n",
       "10819                      honey\n",
       "36090                     simple\n",
       "97363             copper company\n",
       "97869         barn door boutique\n",
       "57340                       blue\n",
       "75928                        bee\n",
       "19235                       lady\n",
       "97056                      place\n",
       "48655                       twig\n",
       "35523                        ann\n",
       "27502                      flora\n",
       "57541                 collection\n",
       "85878                   treasure\n",
       "763                         city\n",
       "100616                    street\n",
       "1036                        wood\n",
       "66303                    panache\n",
       "18525              hospital gift\n",
       "6021                      silver\n",
       "60939                hello sweet\n",
       "68642                   paradise\n",
       "86328               town country\n",
       "77783                   bath bee\n",
       "Name: name, dtype: object"
      ]
     },
     "execution_count": 92,
     "metadata": {},
     "output_type": "execute_result"
    }
   ],
   "source": [
    "df_r.loc[df_r['category_prediction_tfidf']=='Gift', 'name'].sample(30)"
   ]
  },
  {
   "cell_type": "code",
   "execution_count": 93,
   "metadata": {},
   "outputs": [],
   "source": [
    "for i, p in enumerate(best_clf.classes_):\n",
    "    df_r['proba_'+p] = proba_predictions[:, i]\n",
    "    df_r.loc[df_r['name']=='', 'proba_'+p]=0"
   ]
  },
  {
   "cell_type": "markdown",
   "metadata": {},
   "source": [
    "## Write probabilities to file"
   ]
  },
  {
   "cell_type": "code",
   "execution_count": 94,
   "metadata": {},
   "outputs": [],
   "source": [
    "df_r.to_csv('/Users/pedrosalesdebruin/Development/datascience/data/tfidf_categories.csv', index=False)"
   ]
  },
  {
   "cell_type": "markdown",
   "metadata": {},
   "source": [
    "# Value counts new vs old"
   ]
  },
  {
   "cell_type": "code",
   "execution_count": 95,
   "metadata": {},
   "outputs": [
    {
     "data": {
      "text/plain": [
       "Name too unique to guess    36667\n",
       "Gift                        24644\n",
       "Womens Clothing Boutique    11724\n",
       "Other                        9759\n",
       "SpaAndSalon                  6980\n",
       "Home Decor                   5678\n",
       "LawnAndGarden                2187\n",
       "Kids Clothing Boutique        654\n",
       "Coffee Shop                   613\n",
       "Bookstore                     550\n",
       "MercantileGeneral             507\n",
       "FitnessAndYoga                479\n",
       "Other Foodservice             445\n",
       "Jewelry                       442\n",
       "Beauty                        334\n",
       "Drug                          317\n",
       "Furniture Store               282\n",
       "Pet                           270\n",
       "Stationery                    150\n",
       "Hardware                       72\n",
       "Toystore                       59\n",
       "Grocery                        53\n",
       "Name: category_prediction_tfidf, dtype: int64"
      ]
     },
     "execution_count": 95,
     "metadata": {},
     "output_type": "execute_result"
    }
   ],
   "source": [
    "df_r['category_prediction_tfidf'].value_counts()"
   ]
  },
  {
   "cell_type": "code",
   "execution_count": 96,
   "metadata": {},
   "outputs": [
    {
     "data": {
      "text/plain": [
       "Gift                        1504\n",
       "Other                       1063\n",
       "Womens Clothing Boutique    1059\n",
       "SpaAndSalon                  818\n",
       "Home Decor                   642\n",
       "LawnAndGarden                397\n",
       "Kids Clothing Boutique       231\n",
       "Other Foodservice            227\n",
       "Furniture Store              192\n",
       "Beauty                       167\n",
       "Jewelry                      148\n",
       "FitnessAndYoga               138\n",
       "Coffee Shop                  111\n",
       "Bookstore                    102\n",
       "Pet                           75\n",
       "Stationery                    66\n",
       "MercantileGeneral             65\n",
       "Mens Clothing Boutique        61\n",
       "Grocery                       59\n",
       "Drug                          46\n",
       "Toystore                      36\n",
       "SportingGoodsAndOutdoor       33\n",
       "Luggage or Bags               14\n",
       "Convenience                   10\n",
       "Hardware                      10\n",
       "Name: category, dtype: int64"
      ]
     },
     "execution_count": 96,
     "metadata": {},
     "output_type": "execute_result"
    }
   ],
   "source": [
    "df['category'].value_counts()"
   ]
  },
  {
   "cell_type": "code",
   "execution_count": 97,
   "metadata": {},
   "outputs": [
    {
     "data": {
      "image/png": "[encoded data removed]",
      "text/plain": [
       "<Figure size 1152x864 with 1 Axes>"
      ]
     },
     "metadata": {
      "needs_background": "light"
     },
     "output_type": "display_data"
    }
   ],
   "source": [
    "new_cat_counts = df_r['category_prediction_tfidf'].value_counts()\n",
    "old_cat_counts = df['category'].value_counts()\n",
    "\n",
    "fig, ax = plt.subplots(figsize=(16, 12))\n",
    "\n",
    "ax.bar(new_cat_counts.index, new_cat_counts.values, color='b', align='center', alpha=0.8)\n",
    "ax.bar(old_cat_counts.index, old_cat_counts.values, color='r', align='center', alpha=0.8)\n",
    "\n",
    "plt.xticks(rotation=75);\n",
    "# plt.yscale('log')"
   ]
  },
  {
   "cell_type": "code",
   "execution_count": 98,
   "metadata": {},
   "outputs": [
    {
     "data": {
      "text/plain": [
       "(25,)"
      ]
     },
     "execution_count": 98,
     "metadata": {},
     "output_type": "execute_result"
    }
   ],
   "source": [
    "old_cat_counts.index.shape"
   ]
  },
  {
   "cell_type": "code",
   "execution_count": 99,
   "metadata": {},
   "outputs": [],
   "source": [
    "for missing_idx in [x for x in old_cat_counts.index.tolist() if x not in new_cat_counts.index.tolist()]:\n",
    "    new_cat_counts[missing_idx] = 0\n",
    "\n",
    "for missing_idx in [x for x in new_cat_counts.index.tolist() if x not in old_cat_counts.index.tolist()]:\n",
    "    old_cat_counts[missing_idx] = 0"
   ]
  },
  {
   "cell_type": "code",
   "execution_count": 100,
   "metadata": {},
   "outputs": [
    {
     "data": {
      "text/plain": [
       "(26,)"
      ]
     },
     "execution_count": 100,
     "metadata": {},
     "output_type": "execute_result"
    }
   ],
   "source": [
    "new_cat_counts.index.shape"
   ]
  },
  {
   "cell_type": "code",
   "execution_count": 101,
   "metadata": {},
   "outputs": [
    {
     "data": {
      "image/png": "[encoded data removed]",
      "text/plain": [
       "<Figure size 864x576 with 1 Axes>"
      ]
     },
     "metadata": {
      "needs_background": "light"
     },
     "output_type": "display_data"
    }
   ],
   "source": [
    "from matplotlib.patches import Patch\n",
    "\n",
    "def subcategorybar(X, vals, width=0.8):\n",
    "    n = len(vals)\n",
    "    _X = np.arange(len(X))\n",
    "    for i in range(n):\n",
    "        plt.bar(_X - width/2. + i/float(n)*width, vals[i], \n",
    "                width=width/float(n), align=\"edge\")   \n",
    "    plt.xticks(_X, X)\n",
    "\n",
    "\n",
    "fig, ax = plt.subplots(figsize=(12, 8))\n",
    "# plt.figure(figsize=(20, 16))\n",
    "subcategorybar(old_cat_counts.index, [new_cat_counts.values, old_cat_counts.values])\n",
    "\n",
    "plt.xticks(fontsize=16, rotation=85)\n",
    "plt.yticks(fontsize=16)\n",
    "# plt.yscale('log')\n",
    "plt.ylabel('Number of stores', fontsize=20)\n",
    "\n",
    "legend_elements = [Patch(facecolor='orange', edgecolor='r', label='Hand-labeled category'), \n",
    "                   Patch(facecolor='blue', edgecolor='b', label='Predicted category'), ]\n",
    "\n",
    "# Create the figure\n",
    "ax.legend(handles=legend_elements, loc='best', prop={'size':20})\n",
    "\n",
    "plt.grid()\n",
    "plt.show()"
   ]
  },
  {
   "cell_type": "code",
   "execution_count": 102,
   "metadata": {},
   "outputs": [
    {
     "data": {
      "image/png": "[encoded data removed]",
      "text/plain": [
       "<Figure size 864x576 with 1 Axes>"
      ]
     },
     "metadata": {
      "needs_background": "light"
     },
     "output_type": "display_data"
    }
   ],
   "source": [
    "fig, ax = plt.subplots(figsize=(12, 8))\n",
    "# plt.figure(figsize=(20, 16))\n",
    "subcategorybar(old_cat_counts.index, [new_cat_counts.values, old_cat_counts.values])\n",
    "\n",
    "plt.xticks(fontsize=16, rotation=85)\n",
    "plt.yticks(fontsize=16)\n",
    "plt.yscale('log')\n",
    "plt.ylabel('Number of stores', fontsize=20)\n",
    "\n",
    "legend_elements = [Patch(facecolor='orange', edgecolor='r', label='Hand-labeled category'), \n",
    "                   Patch(facecolor='blue', edgecolor='b', label='Predicted category'), ]\n",
    "\n",
    "# Create the figure\n",
    "ax.legend(handles=legend_elements, loc='best', prop={'size':20})\n",
    "\n",
    "plt.grid()\n",
    "plt.show()"
   ]
  },
  {
   "cell_type": "code",
   "execution_count": 103,
   "metadata": {},
   "outputs": [],
   "source": [
    "proba_cols = [x for x in df_r.columns.tolist() if 'proba_' in x]"
   ]
  },
  {
   "cell_type": "code",
   "execution_count": 104,
   "metadata": {},
   "outputs": [
    {
     "data": {
      "text/plain": [
       "575"
      ]
     },
     "execution_count": 104,
     "metadata": {},
     "output_type": "execute_result"
    }
   ],
   "source": [
    "sum('food' in x or 'market' in x or 'grocer' in x for x in df_r.loc[df_r['proba_Grocery']>0.1, 'name'].tolist())"
   ]
  },
  {
   "cell_type": "code",
   "execution_count": 105,
   "metadata": {},
   "outputs": [
    {
     "data": {
      "text/plain": [
       "25                    boutique\n",
       "46                          st\n",
       "65               city clothing\n",
       "92                        best\n",
       "108                   beach st\n",
       "113                       pink\n",
       "116                       wear\n",
       "123                 love child\n",
       "136         consignment shoppe\n",
       "143                         st\n",
       "181                      urban\n",
       "193                        mad\n",
       "196                    couture\n",
       "231                      queen\n",
       "237                      urban\n",
       "244                       lane\n",
       "264                   boutique\n",
       "267                      dream\n",
       "295                      dream\n",
       "311             bella boutique\n",
       "350        urban chic boutique\n",
       "364                         st\n",
       "365            golden boutique\n",
       "386            sweet lady jane\n",
       "389       city market boutique\n",
       "399                      gypsy\n",
       "428                    apparel\n",
       "457                      shine\n",
       "517             bloom boutique\n",
       "580                      black\n",
       "                  ...         \n",
       "102584                boutique\n",
       "102603                   style\n",
       "102612                boutique\n",
       "102617                   trend\n",
       "102624                boutique\n",
       "102626                    rose\n",
       "102630                boutique\n",
       "102632                   style\n",
       "102634                boutique\n",
       "102638                   grace\n",
       "102655                    plum\n",
       "102665                boutique\n",
       "102673                boutique\n",
       "102674           pink boutique\n",
       "102690                   gypsy\n",
       "102693                boutique\n",
       "102718         resale boutique\n",
       "102730                    muse\n",
       "102738                   gypsy\n",
       "102754          bloom boutique\n",
       "102769                   style\n",
       "102799                boutique\n",
       "102800                boutique\n",
       "102814                boutique\n",
       "102815                   grace\n",
       "102827                boutique\n",
       "102843                boutique\n",
       "102848       wellness boutique\n",
       "102854                    lane\n",
       "102862             uptown chic\n",
       "Name: name, Length: 11724, dtype: object"
      ]
     },
     "execution_count": 105,
     "metadata": {},
     "output_type": "execute_result"
    }
   ],
   "source": [
    "df_r.loc[df_r['category_prediction_tfidf']=='Womens Clothing Boutique', 'name']"
   ]
  },
  {
   "cell_type": "code",
   "execution_count": 106,
   "metadata": {},
   "outputs": [
    {
     "data": {
      "text/plain": [
       "78                         beauty shoppe\n",
       "183                               beauty\n",
       "283                               beauty\n",
       "284                               beauty\n",
       "502                           apothecary\n",
       "585                        beauty supply\n",
       "644                               beauty\n",
       "1024                       beauty supply\n",
       "1276                        bath organic\n",
       "1278                                bath\n",
       "1328                              norman\n",
       "1818                         bath beyond\n",
       "2098                         soap studio\n",
       "2286                           jane soap\n",
       "2405                           bath body\n",
       "2548                              beauty\n",
       "2583                                soap\n",
       "2794                         beauty care\n",
       "3266                          apothecary\n",
       "3325                 luxury bath product\n",
       "3330                     bloom bath body\n",
       "3350                          apothecary\n",
       "3385                         back beauty\n",
       "3584                              beauty\n",
       "3967                          apothecary\n",
       "4041                      mama bath body\n",
       "4408                        beauty gifts\n",
       "4650                              beauty\n",
       "4748                          vie beauty\n",
       "4750                              beauty\n",
       "                       ...              \n",
       "101383                        beauty bar\n",
       "101466                        apothecary\n",
       "101576                     health beauty\n",
       "101608                              body\n",
       "101636                   plum beauty bar\n",
       "101698                  urban beauty spa\n",
       "101715                  water apothecary\n",
       "101734                            beauty\n",
       "101737                beach soap company\n",
       "101884                            beauty\n",
       "101893                         bath body\n",
       "101898                            beauty\n",
       "101908                         face body\n",
       "101951                   lee beauty care\n",
       "102008                          cosmetic\n",
       "102124                              bath\n",
       "102139                            beauty\n",
       "102140                        beauty bar\n",
       "102145                            beauty\n",
       "102170                             merle\n",
       "102272                          cosmetic\n",
       "102297                 beauty spa secret\n",
       "102345                            beauty\n",
       "102384    hive natural beauty collective\n",
       "102418                bath body boutique\n",
       "102435                fresh bath company\n",
       "102567                   beauty boutique\n",
       "102658                            beauty\n",
       "102763                        beauty spa\n",
       "102786                        beauty bar\n",
       "Name: name, Length: 1456, dtype: object"
      ]
     },
     "execution_count": 106,
     "metadata": {},
     "output_type": "execute_result"
    }
   ],
   "source": [
    "df_r.loc[df_r['proba_Beauty']>0.1, 'name']"
   ]
  },
  {
   "cell_type": "code",
   "execution_count": 107,
   "metadata": {},
   "outputs": [
    {
     "data": {
      "text/plain": [
       "730"
      ]
     },
     "execution_count": 107,
     "metadata": {},
     "output_type": "execute_result"
    }
   ],
   "source": [
    "sum(['beauty' in x for x in df_r.loc[df_r['proba_Beauty']>0.1, 'name'].tolist()])"
   ]
  },
  {
   "cell_type": "code",
   "execution_count": 108,
   "metadata": {},
   "outputs": [
    {
     "data": {
      "text/plain": [
       "638"
      ]
     },
     "execution_count": 108,
     "metadata": {},
     "output_type": "execute_result"
    }
   ],
   "source": [
    "sum(['book' in x for x in df_r.loc[df_r['proba_Bookstore']>0.1, 'name'].tolist()])"
   ]
  },
  {
   "cell_type": "code",
   "execution_count": 109,
   "metadata": {},
   "outputs": [
    {
     "data": {
      "text/plain": [
       "94"
      ]
     },
     "execution_count": 109,
     "metadata": {},
     "output_type": "execute_result"
    }
   ],
   "source": [
    "sum(['drug' in x for x in df_r.loc[df_r['proba_Drug']>0.1, 'name'].tolist()])"
   ]
  },
  {
   "cell_type": "code",
   "execution_count": 110,
   "metadata": {},
   "outputs": [
    {
     "data": {
      "text/plain": [
       "2581"
      ]
     },
     "execution_count": 110,
     "metadata": {},
     "output_type": "execute_result"
    }
   ],
   "source": [
    "sum(['gift' in x for x in df_r.loc[df_r['proba_Gift']>0.1, 'name'].tolist()])"
   ]
  },
  {
   "cell_type": "code",
   "execution_count": 111,
   "metadata": {},
   "outputs": [
    {
     "data": {
      "text/plain": [
       "546"
      ]
     },
     "execution_count": 111,
     "metadata": {},
     "output_type": "execute_result"
    }
   ],
   "source": [
    "sum(['garden' in x for x in df_r.loc[df_r['proba_LawnAndGarden']>0.1, 'name'].tolist()])"
   ]
  },
  {
   "cell_type": "code",
   "execution_count": 112,
   "metadata": {},
   "outputs": [
    {
     "data": {
      "text/plain": [
       "371"
      ]
     },
     "execution_count": 112,
     "metadata": {},
     "output_type": "execute_result"
    }
   ],
   "source": [
    "sum(['yoga' in x for x in df_r.loc[df_r['proba_FitnessAndYoga']>0.1, 'name'].tolist()])"
   ]
  },
  {
   "cell_type": "code",
   "execution_count": 113,
   "metadata": {},
   "outputs": [],
   "source": [
    "#df_r['best_guess'] = "
   ]
  }
 ],
 "metadata": {
  "kernelspec": {
   "display_name": "Python 3",
   "language": "python",
   "name": "python3"
  },
  "language_info": {
   "codemirror_mode": {
    "name": "ipython",
    "version": 3
   },
   "file_extension": ".py",
   "mimetype": "text/x-python",
   "name": "python",
   "nbconvert_exporter": "python",
   "pygments_lexer": "ipython3",
   "version": "3.7.1"
  }
 },
 "nbformat": 4,
 "nbformat_minor": 2
}
