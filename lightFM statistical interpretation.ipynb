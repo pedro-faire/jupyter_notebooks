{
 "cells": [
  {
   "cell_type": "code",
   "execution_count": 18,
   "metadata": {},
   "outputs": [],
   "source": [
    "import pandas as pd\n",
    "import numpy as np\n",
    "import math\n",
    "import matplotlib.mlab as mlab\n",
    "import matplotlib.pyplot as plt\n",
    "import scipy as sp\n",
    "\n",
    "%matplotlib inline"
   ]
  },
  {
   "cell_type": "code",
   "execution_count": 3,
   "metadata": {},
   "outputs": [],
   "source": [
    "df = pd.read_csv('../datascience/data/lightfm_stat_interpretation.csv')"
   ]
  },
  {
   "cell_type": "code",
   "execution_count": 4,
   "metadata": {},
   "outputs": [
    {
     "data": {
      "text/html": [
       "<div>\n",
       "<style scoped>\n",
       "    .dataframe tbody tr th:only-of-type {\n",
       "        vertical-align: middle;\n",
       "    }\n",
       "\n",
       "    .dataframe tbody tr th {\n",
       "        vertical-align: top;\n",
       "    }\n",
       "\n",
       "    .dataframe thead th {\n",
       "        text-align: right;\n",
       "    }\n",
       "</style>\n",
       "<table border=\"1\" class=\"dataframe\">\n",
       "  <thead>\n",
       "    <tr style=\"text-align: right;\">\n",
       "      <th></th>\n",
       "      <th>bucket</th>\n",
       "      <th>retailers_bucketed</th>\n",
       "      <th>retailers_ordering</th>\n",
       "      <th>pct_retailers_ordering</th>\n",
       "      <th>avg_brands_per_order</th>\n",
       "      <th>total_order_volume</th>\n",
       "      <th>avg_order_volume</th>\n",
       "      <th>avg_order_volume_per_ordering_retailer</th>\n",
       "      <th>median_order_volume_per_ordering_retailer</th>\n",
       "    </tr>\n",
       "  </thead>\n",
       "  <tbody>\n",
       "    <tr>\n",
       "      <th>0</th>\n",
       "      <td>control</td>\n",
       "      <td>2446</td>\n",
       "      <td>405</td>\n",
       "      <td>0.165576</td>\n",
       "      <td>1.990123</td>\n",
       "      <td>246480.0</td>\n",
       "      <td>100.768602</td>\n",
       "      <td>608.592593</td>\n",
       "      <td>289.0</td>\n",
       "    </tr>\n",
       "    <tr>\n",
       "      <th>1</th>\n",
       "      <td>lightfm_feb_2019</td>\n",
       "      <td>2454</td>\n",
       "      <td>381</td>\n",
       "      <td>0.155257</td>\n",
       "      <td>1.971129</td>\n",
       "      <td>196261.0</td>\n",
       "      <td>79.975958</td>\n",
       "      <td>515.120735</td>\n",
       "      <td>300.0</td>\n",
       "    </tr>\n",
       "    <tr>\n",
       "      <th>2</th>\n",
       "      <td>impression_freshness</td>\n",
       "      <td>2520</td>\n",
       "      <td>361</td>\n",
       "      <td>0.143254</td>\n",
       "      <td>2.069252</td>\n",
       "      <td>182189.0</td>\n",
       "      <td>72.297222</td>\n",
       "      <td>504.678670</td>\n",
       "      <td>286.0</td>\n",
       "    </tr>\n",
       "  </tbody>\n",
       "</table>\n",
       "</div>"
      ],
      "text/plain": [
       "                 bucket  retailers_bucketed  retailers_ordering  \\\n",
       "0               control                2446                 405   \n",
       "1      lightfm_feb_2019                2454                 381   \n",
       "2  impression_freshness                2520                 361   \n",
       "\n",
       "   pct_retailers_ordering  avg_brands_per_order  total_order_volume  \\\n",
       "0                0.165576              1.990123            246480.0   \n",
       "1                0.155257              1.971129            196261.0   \n",
       "2                0.143254              2.069252            182189.0   \n",
       "\n",
       "   avg_order_volume  avg_order_volume_per_ordering_retailer  \\\n",
       "0        100.768602                              608.592593   \n",
       "1         79.975958                              515.120735   \n",
       "2         72.297222                              504.678670   \n",
       "\n",
       "   median_order_volume_per_ordering_retailer  \n",
       "0                                      289.0  \n",
       "1                                      300.0  \n",
       "2                                      286.0  "
      ]
     },
     "execution_count": 4,
     "metadata": {},
     "output_type": "execute_result"
    }
   ],
   "source": [
    "df.head()"
   ]
  },
  {
   "cell_type": "markdown",
   "metadata": {},
   "source": [
    "## Stat parameters"
   ]
  },
  {
   "cell_type": "markdown",
   "metadata": {},
   "source": [
    "alpha = 0.9\n",
    "beta = 0.2\n",
    "\n",
    "delta >= 5%\n",
    "\n",
    "n?"
   ]
  },
  {
   "cell_type": "markdown",
   "metadata": {},
   "source": [
    "### Let's do pairwise A/B two-tailed proportional test."
   ]
  },
  {
   "cell_type": "markdown",
   "metadata": {},
   "source": [
    "### Proportion A/B test review"
   ]
  },
  {
   "cell_type": "markdown",
   "metadata": {},
   "source": [
    "Z = (p1 - p2) / {P*(1-P)(1/n1 + 1/n2)}^1/2,\n",
    "\n",
    "P = (p1n1 + p2n2) / (n1+n2)"
   ]
  },
  {
   "cell_type": "markdown",
   "metadata": {},
   "source": [
    "## How much n do we need for 2-tailed A/B test with parameters above?"
   ]
  },
  {
   "cell_type": "markdown",
   "metadata": {},
   "source": [
    "Z < -1.96 or Z > 1.96 for alpha = 0.05"
   ]
  },
  {
   "cell_type": "markdown",
   "metadata": {},
   "source": [
    "Z < -1.28 or Z > 1.28 for alpha = 0.1"
   ]
  },
  {
   "cell_type": "markdown",
   "metadata": {},
   "source": [
    "if delta = 10% and n = (nA + nB)/2 and p(control) = 0.165576:"
   ]
  },
  {
   "cell_type": "code",
   "execution_count": 54,
   "metadata": {},
   "outputs": [],
   "source": [
    "p1 = 0.172\n",
    "delta = 0.1\n",
    "p2 = p1 + delta*p1"
   ]
  },
  {
   "cell_type": "code",
   "execution_count": 55,
   "metadata": {},
   "outputs": [
    {
     "name": "stdout",
     "output_type": "stream",
     "text": [
      "0.18059999999999998\n"
     ]
    }
   ],
   "source": [
    "P = (p1 + p2)/2\n",
    "print(P)"
   ]
  },
  {
   "cell_type": "markdown",
   "metadata": {},
   "source": [
    "### Values below are for 2-tailed tests"
   ]
  },
  {
   "cell_type": "code",
   "execution_count": 56,
   "metadata": {},
   "outputs": [],
   "source": [
    "# A/B test with alpha = 0.1\n",
    "Z = 1.64"
   ]
  },
  {
   "cell_type": "code",
   "execution_count": 57,
   "metadata": {},
   "outputs": [],
   "source": [
    "# A/B/C test with Bonferroni correction for alpha = 0.1\n",
    "Z = 1.96"
   ]
  },
  {
   "cell_type": "code",
   "execution_count": 58,
   "metadata": {},
   "outputs": [],
   "source": [
    "# A/B/C test with Bonferroni correction for alpha = 0.05\n",
    "Z = 2.24"
   ]
  },
  {
   "cell_type": "code",
   "execution_count": 59,
   "metadata": {},
   "outputs": [],
   "source": [
    "# A/B test with Bonferroni correction for alpha = 0.05\n",
    "Z = 1.96"
   ]
  },
  {
   "cell_type": "code",
   "execution_count": 60,
   "metadata": {},
   "outputs": [],
   "source": [
    "Z = 1.96\n",
    "# Z=2.24"
   ]
  },
  {
   "cell_type": "code",
   "execution_count": 61,
   "metadata": {},
   "outputs": [
    {
     "name": "stdout",
     "output_type": "stream",
     "text": [
      "7686.505562790703\n"
     ]
    }
   ],
   "source": [
    "n = (p1+p2) * (2 - p1 - p2)*pow(Z,2)/pow(p1-p2,2)\n",
    "print(n)"
   ]
  },
  {
   "cell_type": "markdown",
   "metadata": {},
   "source": [
    "## For current data (February 15th)"
   ]
  },
  {
   "cell_type": "code",
   "execution_count": 5,
   "metadata": {},
   "outputs": [],
   "source": [
    "n0 = 2446\n",
    "p0 = 0.165576\n",
    "\n",
    "n1 = 2454\n",
    "p1 = 0.155257"
   ]
  },
  {
   "cell_type": "code",
   "execution_count": 6,
   "metadata": {},
   "outputs": [],
   "source": [
    "P_01 = (n0*p0 + n1*p1) / (n0+n1)"
   ]
  },
  {
   "cell_type": "code",
   "execution_count": 12,
   "metadata": {},
   "outputs": [
    {
     "name": "stdout",
     "output_type": "stream",
     "text": [
      "-0.9841421586979032\n"
     ]
    }
   ],
   "source": [
    "Z = (p1 - p0) / math.sqrt(P_01*(1-P_01)*(1/n0 + 1/n1))\n",
    "print(Z)"
   ]
  },
  {
   "cell_type": "code",
   "execution_count": 16,
   "metadata": {},
   "outputs": [
    {
     "name": "stderr",
     "output_type": "stream",
     "text": [
      "/Users/pedrosalesdebruin/anaconda3/lib/python3.7/site-packages/ipykernel_launcher.py:5: MatplotlibDeprecationWarning: scipy.stats.norm.pdf\n",
      "  \"\"\"\n"
     ]
    },
    {
     "data": {
      "image/png": "[encoded data removed]",
      "text/plain": [
       "<Figure size 432x288 with 1 Axes>"
      ]
     },
     "metadata": {
      "needs_background": "light"
     },
     "output_type": "display_data"
    }
   ],
   "source": [
    "mu = 0\n",
    "variance = 1\n",
    "sigma = math.sqrt(variance)\n",
    "x = np.linspace(mu - 3*sigma, mu + 3*sigma, 100)\n",
    "plt.plot(x,mlab.normpdf(x, mu, sigma))\n",
    "plt.show()"
   ]
  },
  {
   "cell_type": "markdown",
   "metadata": {},
   "source": [
    "# AVG order volume Z-score"
   ]
  },
  {
   "cell_type": "code",
   "execution_count": null,
   "metadata": {},
   "outputs": [],
   "source": []
  }
 ],
 "metadata": {
  "kernelspec": {
   "display_name": "Python 3",
   "language": "python",
   "name": "python3"
  },
  "language_info": {
   "codemirror_mode": {
    "name": "ipython",
    "version": 3
   },
   "file_extension": ".py",
   "mimetype": "text/x-python",
   "name": "python",
   "nbconvert_exporter": "python",
   "pygments_lexer": "ipython3",
   "version": "3.7.1"
  }
 },
 "nbformat": 4,
 "nbformat_minor": 2
}
