{
 "cells": [
  {
   "cell_type": "markdown",
   "metadata": {},
   "source": [
    "# Queries"
   ]
  },
  {
   "cell_type": "markdown",
   "metadata": {},
   "source": [
    "# SQL ingestion"
   ]
  },
  {
   "cell_type": "markdown",
   "metadata": {},
   "source": [
    "```\n",
    "WITH queries_with_events AS \n",
    "(\n",
    "  select lower(json_extract_path_text(ir.request, 'query')) as query,\n",
    "         count(distinct ir.retailer_token)::float as retailers_searching,\n",
    "         count(distinct case when e.retailer_id is not null then ir.retailer_token end)::float as retailers_clicking,\n",
    "         retailers_clicking / retailers_searching as conversion\n",
    "  from kinesis.impression_requests ir\n",
    "  join kinesis.product_impressions pi\n",
    "  on pi.request_id = ir.request_id\n",
    "  JOIN production.products p\n",
    "  on pi.product_token = p.token\n",
    "  JOIN production.brands b\n",
    "  on p.brand_id = b.id\n",
    "  join production.retailers r\n",
    "  on r.token = ir.retailer_token\n",
    "  left join kinesis.events e\n",
    "  on e.retailer_id = r.id\n",
    "       and e.created_at between ir.created_at_timestamp and ir.created_at_timestamp + interval '120 second'\n",
    "       and ( (e.normalized_path = '/api/product/{PRODUCT}' and e.product_token = pi.product_token) )\n",
    "  where ir.created_at_timestamp < '2019-02-11'\n",
    "  and ir.path like '/api/search/query-products/from-inventory/false/%'\n",
    "  -- where ir.created_at_timestamp > GETDATE() - interval '30 day'\n",
    "  group by 1 \n",
    "  -- having retailers_searching > 10 \n",
    "  order by 4 desc\n",
    "),\n",
    "queries_brand_clicks AS \n",
    "(\n",
    "  select lower(json_extract_path_text(ir.request, 'query')) as query,\n",
    "         count(distinct ir.retailer_token)::float as retailers_searching,\n",
    "         count(distinct case when e.retailer_id is not null then ir.retailer_token end)::float as retailers_clicking,\n",
    "         retailers_clicking / retailers_searching as conversion\n",
    "  from kinesis.impression_requests ir\n",
    "  join kinesis.product_impressions pi\n",
    "  on pi.request_id = ir.request_id\n",
    "  JOIN production.products p\n",
    "  on pi.product_token = p.token\n",
    "  JOIN production.brands b\n",
    "  on p.brand_id = b.id\n",
    "  join production.retailers r\n",
    "  on r.token = ir.retailer_token\n",
    "  left join kinesis.events e\n",
    "  on e.retailer_id = r.id\n",
    "       and e.created_at between ir.created_at_timestamp and ir.created_at_timestamp + interval '120 second'\n",
    "       and e.normalized_path = '/api/brand/{BRAND}/products' and e.brand_token = b.token \n",
    "  where ir.created_at_timestamp < '2019-02-11'\n",
    "  and ir.path like '/api/search/query-products/from-inventory/false/%'\n",
    "  -- where ir.created_at_timestamp > GETDATE() - interval '30 day'\n",
    "  group by 1 \n",
    "  -- having retailers_searching > 10 \n",
    "  order by 4 desc\n",
    "),\n",
    "\n",
    "queries_with_clicks AS \n",
    "(\n",
    "select lower(json_extract_path_text(ir.request, 'query')) as query,\n",
    "       1.0*count(distinct ir.retailer_token) as retailers_searching,\n",
    "       1.0*count(distinct case when c.request_id is not null then ir.retailer_token end) as retailers_clicking,\n",
    "       1.0*retailers_clicking / retailers_searching as conversion\n",
    "from kinesis.product_impressions pi\n",
    "       join kinesis.impression_requests ir\n",
    "            on ir.request_id = pi.request_id\n",
    "       left join kinesis.clicks c\n",
    "            on c.request_id = ir.request_id\n",
    "where pi.path like '/api/search/query-products/from-inventory/false/%'\n",
    "  and ir.created_at_timestamp >= '2019-02-11'\n",
    "group by 1\n",
    "-- HAVING retailers_searching > 10\n",
    "order by conversion\n",
    ")\n",
    "\n",
    "SELECT qe.query,\n",
    "       qe.retailers_searching as qe_retailers_searching,\n",
    "       COALESCE(qc.retailers_searching, 0) as qc_retailers_searching,\n",
    "       COALESCE(qb.retailers_searching, 0) as qb_retailers_searching,\n",
    "       qe.retailers_clicking as qe_retailers_clicking,\n",
    "       COALESCE(qc.retailers_clicking, 0) as qc_retailers_clicking,\n",
    "       COALESCE(qb.retailers_clicking, 0) as qb_retailers_clicking,\n",
    "       qe.retailers_searching + qc_retailers_searching + qb_retailers_searching as total_searches,\n",
    "       qe.retailers_clicking + qc_retailers_clicking + qb_retailers_searching as total_clicks,\n",
    "       total_clicks::float / total_searches as total_conversion\n",
    "FROM queries_with_events qe\n",
    "LEFT JOIN queries_with_clicks qc\n",
    "  ON qc.query = qe.query\n",
    "  LEFT JOIN queries_brand_clicks qb\n",
    "    ON qc.query = qb.query\n",
    "-- WHERE total_conversion < 0.3\n",
    "ORDER BY 2 DESC\n",
    "```"
   ]
  },
  {
   "cell_type": "markdown",
   "metadata": {},
   "source": [
    "# Analysis"
   ]
  },
  {
   "cell_type": "code",
   "execution_count": 1,
   "metadata": {},
   "outputs": [],
   "source": [
    "import pandas as pd\n",
    "import matplotlib.pyplot as plt\n",
    "\n",
    "%matplotlib inline"
   ]
  },
  {
   "cell_type": "code",
   "execution_count": 2,
   "metadata": {},
   "outputs": [],
   "source": [
    "# df = pd.read_csv('../datascience/search-suggestions/data/search_optimization.csv')\n",
    "df = pd.read_csv('../datascience/search-suggestions/data/search_terms_Mar04_2019.csv')"
   ]
  },
  {
   "cell_type": "code",
   "execution_count": 3,
   "metadata": {},
   "outputs": [
    {
     "data": {
      "text/plain": [
       "(35923, 10)"
      ]
     },
     "execution_count": 3,
     "metadata": {},
     "output_type": "execute_result"
    }
   ],
   "source": [
    "df.shape"
   ]
  },
  {
   "cell_type": "code",
   "execution_count": 4,
   "metadata": {},
   "outputs": [],
   "source": [
    "df_untouched = df.copy()"
   ]
  },
  {
   "cell_type": "code",
   "execution_count": 5,
   "metadata": {},
   "outputs": [],
   "source": [
    "df['query'] = df['query'].str.strip()\n",
    "df['query'] = df['query'].str.rstrip()\n",
    "df['query'] = df['query'].str.lstrip()"
   ]
  },
  {
   "cell_type": "code",
   "execution_count": 6,
   "metadata": {},
   "outputs": [
    {
     "data": {
      "text/plain": [
       "35918    tie dye clothing\n",
       "35919     beauty scholars\n",
       "35920      lavender budle\n",
       "35921              us map\n",
       "35922       buffalo patch\n",
       "Name: query, dtype: object"
      ]
     },
     "execution_count": 6,
     "metadata": {},
     "output_type": "execute_result"
    }
   ],
   "source": [
    "df.loc[df['total_searches']<10, 'query'].tail()"
   ]
  },
  {
   "cell_type": "code",
   "execution_count": 7,
   "metadata": {},
   "outputs": [
    {
     "data": {
      "text/html": [
       "<div>\n",
       "<style scoped>\n",
       "    .dataframe tbody tr th:only-of-type {\n",
       "        vertical-align: middle;\n",
       "    }\n",
       "\n",
       "    .dataframe tbody tr th {\n",
       "        vertical-align: top;\n",
       "    }\n",
       "\n",
       "    .dataframe thead th {\n",
       "        text-align: right;\n",
       "    }\n",
       "</style>\n",
       "<table border=\"1\" class=\"dataframe\">\n",
       "  <thead>\n",
       "    <tr style=\"text-align: right;\">\n",
       "      <th></th>\n",
       "      <th>query</th>\n",
       "      <th>qe_retailers_searching</th>\n",
       "      <th>qc_retailers_searching</th>\n",
       "      <th>qb_retailers_searching</th>\n",
       "      <th>qe_retailers_clicking</th>\n",
       "      <th>qc_retailers_clicking</th>\n",
       "      <th>qb_retailers_clicking</th>\n",
       "      <th>total_searches</th>\n",
       "      <th>total_clicks</th>\n",
       "      <th>total_conversion</th>\n",
       "    </tr>\n",
       "  </thead>\n",
       "  <tbody>\n",
       "    <tr>\n",
       "      <th>0</th>\n",
       "      <td>candles</td>\n",
       "      <td>634.0</td>\n",
       "      <td>415.0</td>\n",
       "      <td>634.0</td>\n",
       "      <td>326.0</td>\n",
       "      <td>210.0</td>\n",
       "      <td>365.0</td>\n",
       "      <td>1683.0</td>\n",
       "      <td>1170.0</td>\n",
       "      <td>0.695187</td>\n",
       "    </tr>\n",
       "    <tr>\n",
       "      <th>1</th>\n",
       "      <td>chocolate</td>\n",
       "      <td>406.0</td>\n",
       "      <td>111.0</td>\n",
       "      <td>406.0</td>\n",
       "      <td>246.0</td>\n",
       "      <td>66.0</td>\n",
       "      <td>290.0</td>\n",
       "      <td>923.0</td>\n",
       "      <td>718.0</td>\n",
       "      <td>0.777898</td>\n",
       "    </tr>\n",
       "    <tr>\n",
       "      <th>2</th>\n",
       "      <td>tea</td>\n",
       "      <td>356.0</td>\n",
       "      <td>231.0</td>\n",
       "      <td>356.0</td>\n",
       "      <td>170.0</td>\n",
       "      <td>132.0</td>\n",
       "      <td>194.0</td>\n",
       "      <td>943.0</td>\n",
       "      <td>658.0</td>\n",
       "      <td>0.697773</td>\n",
       "    </tr>\n",
       "    <tr>\n",
       "      <th>3</th>\n",
       "      <td>candle</td>\n",
       "      <td>327.0</td>\n",
       "      <td>171.0</td>\n",
       "      <td>327.0</td>\n",
       "      <td>172.0</td>\n",
       "      <td>91.0</td>\n",
       "      <td>196.0</td>\n",
       "      <td>825.0</td>\n",
       "      <td>590.0</td>\n",
       "      <td>0.715152</td>\n",
       "    </tr>\n",
       "    <tr>\n",
       "      <th>4</th>\n",
       "      <td>soap</td>\n",
       "      <td>298.0</td>\n",
       "      <td>166.0</td>\n",
       "      <td>298.0</td>\n",
       "      <td>166.0</td>\n",
       "      <td>100.0</td>\n",
       "      <td>192.0</td>\n",
       "      <td>762.0</td>\n",
       "      <td>564.0</td>\n",
       "      <td>0.740157</td>\n",
       "    </tr>\n",
       "    <tr>\n",
       "      <th>5</th>\n",
       "      <td>socks</td>\n",
       "      <td>266.0</td>\n",
       "      <td>130.0</td>\n",
       "      <td>266.0</td>\n",
       "      <td>89.0</td>\n",
       "      <td>61.0</td>\n",
       "      <td>153.0</td>\n",
       "      <td>662.0</td>\n",
       "      <td>416.0</td>\n",
       "      <td>0.628399</td>\n",
       "    </tr>\n",
       "    <tr>\n",
       "      <th>6</th>\n",
       "      <td>bath bombs</td>\n",
       "      <td>244.0</td>\n",
       "      <td>137.0</td>\n",
       "      <td>244.0</td>\n",
       "      <td>148.0</td>\n",
       "      <td>105.0</td>\n",
       "      <td>178.0</td>\n",
       "      <td>625.0</td>\n",
       "      <td>497.0</td>\n",
       "      <td>0.795200</td>\n",
       "    </tr>\n",
       "    <tr>\n",
       "      <th>7</th>\n",
       "      <td>valentine's day</td>\n",
       "      <td>239.0</td>\n",
       "      <td>1.0</td>\n",
       "      <td>239.0</td>\n",
       "      <td>113.0</td>\n",
       "      <td>0.0</td>\n",
       "      <td>131.0</td>\n",
       "      <td>479.0</td>\n",
       "      <td>352.0</td>\n",
       "      <td>0.734864</td>\n",
       "    </tr>\n",
       "    <tr>\n",
       "      <th>8</th>\n",
       "      <td>coffee</td>\n",
       "      <td>238.0</td>\n",
       "      <td>137.0</td>\n",
       "      <td>238.0</td>\n",
       "      <td>128.0</td>\n",
       "      <td>74.0</td>\n",
       "      <td>150.0</td>\n",
       "      <td>613.0</td>\n",
       "      <td>440.0</td>\n",
       "      <td>0.717781</td>\n",
       "    </tr>\n",
       "    <tr>\n",
       "      <th>9</th>\n",
       "      <td>cbd</td>\n",
       "      <td>234.0</td>\n",
       "      <td>153.0</td>\n",
       "      <td>234.0</td>\n",
       "      <td>135.0</td>\n",
       "      <td>107.0</td>\n",
       "      <td>149.0</td>\n",
       "      <td>621.0</td>\n",
       "      <td>476.0</td>\n",
       "      <td>0.766506</td>\n",
       "    </tr>\n",
       "    <tr>\n",
       "      <th>10</th>\n",
       "      <td>undefined</td>\n",
       "      <td>234.0</td>\n",
       "      <td>187.0</td>\n",
       "      <td>234.0</td>\n",
       "      <td>4.0</td>\n",
       "      <td>12.0</td>\n",
       "      <td>7.0</td>\n",
       "      <td>655.0</td>\n",
       "      <td>250.0</td>\n",
       "      <td>0.381679</td>\n",
       "    </tr>\n",
       "    <tr>\n",
       "      <th>11</th>\n",
       "      <td>candy</td>\n",
       "      <td>220.0</td>\n",
       "      <td>94.0</td>\n",
       "      <td>220.0</td>\n",
       "      <td>69.0</td>\n",
       "      <td>33.0</td>\n",
       "      <td>91.0</td>\n",
       "      <td>534.0</td>\n",
       "      <td>322.0</td>\n",
       "      <td>0.602996</td>\n",
       "    </tr>\n",
       "    <tr>\n",
       "      <th>12</th>\n",
       "      <td>matches</td>\n",
       "      <td>219.0</td>\n",
       "      <td>104.0</td>\n",
       "      <td>219.0</td>\n",
       "      <td>142.0</td>\n",
       "      <td>87.0</td>\n",
       "      <td>165.0</td>\n",
       "      <td>542.0</td>\n",
       "      <td>448.0</td>\n",
       "      <td>0.826568</td>\n",
       "    </tr>\n",
       "    <tr>\n",
       "      <th>13</th>\n",
       "      <td>valentines</td>\n",
       "      <td>207.0</td>\n",
       "      <td>1.0</td>\n",
       "      <td>207.0</td>\n",
       "      <td>106.0</td>\n",
       "      <td>0.0</td>\n",
       "      <td>124.0</td>\n",
       "      <td>415.0</td>\n",
       "      <td>313.0</td>\n",
       "      <td>0.754217</td>\n",
       "    </tr>\n",
       "    <tr>\n",
       "      <th>14</th>\n",
       "      <td>baby</td>\n",
       "      <td>202.0</td>\n",
       "      <td>161.0</td>\n",
       "      <td>202.0</td>\n",
       "      <td>60.0</td>\n",
       "      <td>70.0</td>\n",
       "      <td>85.0</td>\n",
       "      <td>565.0</td>\n",
       "      <td>332.0</td>\n",
       "      <td>0.587611</td>\n",
       "    </tr>\n",
       "    <tr>\n",
       "      <th>15</th>\n",
       "      <td>mugs</td>\n",
       "      <td>198.0</td>\n",
       "      <td>115.0</td>\n",
       "      <td>198.0</td>\n",
       "      <td>118.0</td>\n",
       "      <td>75.0</td>\n",
       "      <td>129.0</td>\n",
       "      <td>511.0</td>\n",
       "      <td>391.0</td>\n",
       "      <td>0.765166</td>\n",
       "    </tr>\n",
       "    <tr>\n",
       "      <th>16</th>\n",
       "      <td>valentine</td>\n",
       "      <td>198.0</td>\n",
       "      <td>1.0</td>\n",
       "      <td>198.0</td>\n",
       "      <td>86.0</td>\n",
       "      <td>0.0</td>\n",
       "      <td>109.0</td>\n",
       "      <td>397.0</td>\n",
       "      <td>284.0</td>\n",
       "      <td>0.715365</td>\n",
       "    </tr>\n",
       "    <tr>\n",
       "      <th>17</th>\n",
       "      <td>cards</td>\n",
       "      <td>190.0</td>\n",
       "      <td>85.0</td>\n",
       "      <td>190.0</td>\n",
       "      <td>81.0</td>\n",
       "      <td>47.0</td>\n",
       "      <td>117.0</td>\n",
       "      <td>465.0</td>\n",
       "      <td>318.0</td>\n",
       "      <td>0.683871</td>\n",
       "    </tr>\n",
       "    <tr>\n",
       "      <th>18</th>\n",
       "      <td>valentines day</td>\n",
       "      <td>184.0</td>\n",
       "      <td>1.0</td>\n",
       "      <td>184.0</td>\n",
       "      <td>94.0</td>\n",
       "      <td>0.0</td>\n",
       "      <td>101.0</td>\n",
       "      <td>369.0</td>\n",
       "      <td>278.0</td>\n",
       "      <td>0.753388</td>\n",
       "    </tr>\n",
       "    <tr>\n",
       "      <th>19</th>\n",
       "      <td>easter</td>\n",
       "      <td>184.0</td>\n",
       "      <td>271.0</td>\n",
       "      <td>184.0</td>\n",
       "      <td>107.0</td>\n",
       "      <td>174.0</td>\n",
       "      <td>128.0</td>\n",
       "      <td>639.0</td>\n",
       "      <td>465.0</td>\n",
       "      <td>0.727700</td>\n",
       "    </tr>\n",
       "  </tbody>\n",
       "</table>\n",
       "</div>"
      ],
      "text/plain": [
       "              query  qe_retailers_searching  qc_retailers_searching  \\\n",
       "0           candles                   634.0                   415.0   \n",
       "1         chocolate                   406.0                   111.0   \n",
       "2               tea                   356.0                   231.0   \n",
       "3            candle                   327.0                   171.0   \n",
       "4              soap                   298.0                   166.0   \n",
       "5             socks                   266.0                   130.0   \n",
       "6        bath bombs                   244.0                   137.0   \n",
       "7   valentine's day                   239.0                     1.0   \n",
       "8            coffee                   238.0                   137.0   \n",
       "9               cbd                   234.0                   153.0   \n",
       "10        undefined                   234.0                   187.0   \n",
       "11            candy                   220.0                    94.0   \n",
       "12          matches                   219.0                   104.0   \n",
       "13       valentines                   207.0                     1.0   \n",
       "14             baby                   202.0                   161.0   \n",
       "15             mugs                   198.0                   115.0   \n",
       "16        valentine                   198.0                     1.0   \n",
       "17            cards                   190.0                    85.0   \n",
       "18   valentines day                   184.0                     1.0   \n",
       "19           easter                   184.0                   271.0   \n",
       "\n",
       "    qb_retailers_searching  qe_retailers_clicking  qc_retailers_clicking  \\\n",
       "0                    634.0                  326.0                  210.0   \n",
       "1                    406.0                  246.0                   66.0   \n",
       "2                    356.0                  170.0                  132.0   \n",
       "3                    327.0                  172.0                   91.0   \n",
       "4                    298.0                  166.0                  100.0   \n",
       "5                    266.0                   89.0                   61.0   \n",
       "6                    244.0                  148.0                  105.0   \n",
       "7                    239.0                  113.0                    0.0   \n",
       "8                    238.0                  128.0                   74.0   \n",
       "9                    234.0                  135.0                  107.0   \n",
       "10                   234.0                    4.0                   12.0   \n",
       "11                   220.0                   69.0                   33.0   \n",
       "12                   219.0                  142.0                   87.0   \n",
       "13                   207.0                  106.0                    0.0   \n",
       "14                   202.0                   60.0                   70.0   \n",
       "15                   198.0                  118.0                   75.0   \n",
       "16                   198.0                   86.0                    0.0   \n",
       "17                   190.0                   81.0                   47.0   \n",
       "18                   184.0                   94.0                    0.0   \n",
       "19                   184.0                  107.0                  174.0   \n",
       "\n",
       "    qb_retailers_clicking  total_searches  total_clicks  total_conversion  \n",
       "0                   365.0          1683.0        1170.0          0.695187  \n",
       "1                   290.0           923.0         718.0          0.777898  \n",
       "2                   194.0           943.0         658.0          0.697773  \n",
       "3                   196.0           825.0         590.0          0.715152  \n",
       "4                   192.0           762.0         564.0          0.740157  \n",
       "5                   153.0           662.0         416.0          0.628399  \n",
       "6                   178.0           625.0         497.0          0.795200  \n",
       "7                   131.0           479.0         352.0          0.734864  \n",
       "8                   150.0           613.0         440.0          0.717781  \n",
       "9                   149.0           621.0         476.0          0.766506  \n",
       "10                    7.0           655.0         250.0          0.381679  \n",
       "11                   91.0           534.0         322.0          0.602996  \n",
       "12                  165.0           542.0         448.0          0.826568  \n",
       "13                  124.0           415.0         313.0          0.754217  \n",
       "14                   85.0           565.0         332.0          0.587611  \n",
       "15                  129.0           511.0         391.0          0.765166  \n",
       "16                  109.0           397.0         284.0          0.715365  \n",
       "17                  117.0           465.0         318.0          0.683871  \n",
       "18                  101.0           369.0         278.0          0.753388  \n",
       "19                  128.0           639.0         465.0          0.727700  "
      ]
     },
     "execution_count": 7,
     "metadata": {},
     "output_type": "execute_result"
    }
   ],
   "source": [
    "df.head(20)"
   ]
  },
  {
   "cell_type": "code",
   "execution_count": 8,
   "metadata": {},
   "outputs": [],
   "source": [
    "def count_words(sentence):\n",
    "    return len([x for x in sentence.split()])"
   ]
  },
  {
   "cell_type": "code",
   "execution_count": 9,
   "metadata": {},
   "outputs": [
    {
     "data": {
      "text/plain": [
       "2     17862\n",
       "1      8821\n",
       "3      6637\n",
       "4      1665\n",
       "5       487\n",
       "6       209\n",
       "7       114\n",
       "8        62\n",
       "9        29\n",
       "10       18\n",
       "11       10\n",
       "12        4\n",
       "13        2\n",
       "52        1\n",
       "14        1\n",
       "0         1\n",
       "Name: query, dtype: int64"
      ]
     },
     "execution_count": 9,
     "metadata": {},
     "output_type": "execute_result"
    }
   ],
   "source": [
    "df['query'].apply(lambda x: count_words(x)).value_counts()"
   ]
  },
  {
   "cell_type": "code",
   "execution_count": 10,
   "metadata": {},
   "outputs": [
    {
     "data": {
      "text/html": [
       "<div>\n",
       "<style scoped>\n",
       "    .dataframe tbody tr th:only-of-type {\n",
       "        vertical-align: middle;\n",
       "    }\n",
       "\n",
       "    .dataframe tbody tr th {\n",
       "        vertical-align: top;\n",
       "    }\n",
       "\n",
       "    .dataframe thead th {\n",
       "        text-align: right;\n",
       "    }\n",
       "</style>\n",
       "<table border=\"1\" class=\"dataframe\">\n",
       "  <thead>\n",
       "    <tr style=\"text-align: right;\">\n",
       "      <th></th>\n",
       "      <th>query</th>\n",
       "      <th>total_searches</th>\n",
       "    </tr>\n",
       "  </thead>\n",
       "  <tbody>\n",
       "    <tr>\n",
       "      <th>0</th>\n",
       "      <td>candles</td>\n",
       "      <td>1683.0</td>\n",
       "    </tr>\n",
       "    <tr>\n",
       "      <th>2</th>\n",
       "      <td>tea</td>\n",
       "      <td>943.0</td>\n",
       "    </tr>\n",
       "    <tr>\n",
       "      <th>1</th>\n",
       "      <td>chocolate</td>\n",
       "      <td>923.0</td>\n",
       "    </tr>\n",
       "    <tr>\n",
       "      <th>3</th>\n",
       "      <td>candle</td>\n",
       "      <td>825.0</td>\n",
       "    </tr>\n",
       "    <tr>\n",
       "      <th>4</th>\n",
       "      <td>soap</td>\n",
       "      <td>762.0</td>\n",
       "    </tr>\n",
       "    <tr>\n",
       "      <th>5</th>\n",
       "      <td>socks</td>\n",
       "      <td>662.0</td>\n",
       "    </tr>\n",
       "    <tr>\n",
       "      <th>10</th>\n",
       "      <td>undefined</td>\n",
       "      <td>655.0</td>\n",
       "    </tr>\n",
       "    <tr>\n",
       "      <th>19</th>\n",
       "      <td>easter</td>\n",
       "      <td>639.0</td>\n",
       "    </tr>\n",
       "    <tr>\n",
       "      <th>6</th>\n",
       "      <td>bath bombs</td>\n",
       "      <td>625.0</td>\n",
       "    </tr>\n",
       "    <tr>\n",
       "      <th>9</th>\n",
       "      <td>cbd</td>\n",
       "      <td>621.0</td>\n",
       "    </tr>\n",
       "  </tbody>\n",
       "</table>\n",
       "</div>"
      ],
      "text/plain": [
       "         query  total_searches\n",
       "0      candles          1683.0\n",
       "2          tea           943.0\n",
       "1    chocolate           923.0\n",
       "3       candle           825.0\n",
       "4         soap           762.0\n",
       "5        socks           662.0\n",
       "10   undefined           655.0\n",
       "19      easter           639.0\n",
       "6   bath bombs           625.0\n",
       "9          cbd           621.0"
      ]
     },
     "execution_count": 10,
     "metadata": {},
     "output_type": "execute_result"
    }
   ],
   "source": [
    "df.sort_values(by='total_searches', ascending=False)[['query', 'total_searches']].head(10)"
   ]
  },
  {
   "cell_type": "code",
   "execution_count": 11,
   "metadata": {},
   "outputs": [
    {
     "data": {
      "text/html": [
       "<div>\n",
       "<style scoped>\n",
       "    .dataframe tbody tr th:only-of-type {\n",
       "        vertical-align: middle;\n",
       "    }\n",
       "\n",
       "    .dataframe tbody tr th {\n",
       "        vertical-align: top;\n",
       "    }\n",
       "\n",
       "    .dataframe thead th {\n",
       "        text-align: right;\n",
       "    }\n",
       "</style>\n",
       "<table border=\"1\" class=\"dataframe\">\n",
       "  <thead>\n",
       "    <tr style=\"text-align: right;\">\n",
       "      <th></th>\n",
       "      <th>total_searches</th>\n",
       "      <th>query</th>\n",
       "    </tr>\n",
       "  </thead>\n",
       "  <tbody>\n",
       "    <tr>\n",
       "      <th>7</th>\n",
       "      <td>479.0</td>\n",
       "      <td>valentine's day</td>\n",
       "    </tr>\n",
       "    <tr>\n",
       "      <th>1030</th>\n",
       "      <td>55.0</td>\n",
       "      <td>mother's day</td>\n",
       "    </tr>\n",
       "    <tr>\n",
       "      <th>351</th>\n",
       "      <td>30.0</td>\n",
       "      <td>valentine's</td>\n",
       "    </tr>\n",
       "    <tr>\n",
       "      <th>2082</th>\n",
       "      <td>26.0</td>\n",
       "      <td>st. patrick's day</td>\n",
       "    </tr>\n",
       "    <tr>\n",
       "      <th>1420</th>\n",
       "      <td>25.0</td>\n",
       "      <td>men's</td>\n",
       "    </tr>\n",
       "    <tr>\n",
       "      <th>3325</th>\n",
       "      <td>17.0</td>\n",
       "      <td>men's grooming</td>\n",
       "    </tr>\n",
       "    <tr>\n",
       "      <th>4253</th>\n",
       "      <td>16.0</td>\n",
       "      <td>women's clothing</td>\n",
       "    </tr>\n",
       "    <tr>\n",
       "      <th>816</th>\n",
       "      <td>15.0</td>\n",
       "      <td>valentine's day cards</td>\n",
       "    </tr>\n",
       "    <tr>\n",
       "      <th>3339</th>\n",
       "      <td>9.0</td>\n",
       "      <td>father's day</td>\n",
       "    </tr>\n",
       "    <tr>\n",
       "      <th>10033</th>\n",
       "      <td>9.0</td>\n",
       "      <td>men's gifts</td>\n",
       "    </tr>\n",
       "    <tr>\n",
       "      <th>3270</th>\n",
       "      <td>9.0</td>\n",
       "      <td>children's clothing</td>\n",
       "    </tr>\n",
       "    <tr>\n",
       "      <th>5044</th>\n",
       "      <td>8.0</td>\n",
       "      <td>men's jewelry</td>\n",
       "    </tr>\n",
       "    <tr>\n",
       "      <th>1659</th>\n",
       "      <td>8.0</td>\n",
       "      <td>valentine's day card</td>\n",
       "    </tr>\n",
       "    <tr>\n",
       "      <th>6484</th>\n",
       "      <td>7.0</td>\n",
       "      <td>men's socks</td>\n",
       "    </tr>\n",
       "    <tr>\n",
       "      <th>14727</th>\n",
       "      <td>7.0</td>\n",
       "      <td>mother's day cards</td>\n",
       "    </tr>\n",
       "    <tr>\n",
       "      <th>4858</th>\n",
       "      <td>7.0</td>\n",
       "      <td>valentine's day chocolate</td>\n",
       "    </tr>\n",
       "    <tr>\n",
       "      <th>5028</th>\n",
       "      <td>7.0</td>\n",
       "      <td>aenon's</td>\n",
       "    </tr>\n",
       "    <tr>\n",
       "      <th>1977</th>\n",
       "      <td>7.0</td>\n",
       "      <td>women's shoes</td>\n",
       "    </tr>\n",
       "    <tr>\n",
       "      <th>5317</th>\n",
       "      <td>7.0</td>\n",
       "      <td>the oyster's pearl</td>\n",
       "    </tr>\n",
       "    <tr>\n",
       "      <th>2232</th>\n",
       "      <td>6.0</td>\n",
       "      <td>valentine's cards</td>\n",
       "    </tr>\n",
       "  </tbody>\n",
       "</table>\n",
       "</div>"
      ],
      "text/plain": [
       "       total_searches                      query\n",
       "7               479.0            valentine's day\n",
       "1030             55.0               mother's day\n",
       "351              30.0                valentine's\n",
       "2082             26.0          st. patrick's day\n",
       "1420             25.0                      men's\n",
       "3325             17.0             men's grooming\n",
       "4253             16.0           women's clothing\n",
       "816              15.0      valentine's day cards\n",
       "3339              9.0               father's day\n",
       "10033             9.0                men's gifts\n",
       "3270              9.0        children's clothing\n",
       "5044              8.0              men's jewelry\n",
       "1659              8.0       valentine's day card\n",
       "6484              7.0                men's socks\n",
       "14727             7.0         mother's day cards\n",
       "4858              7.0  valentine's day chocolate\n",
       "5028              7.0                    aenon's\n",
       "1977              7.0              women's shoes\n",
       "5317              7.0         the oyster's pearl\n",
       "2232              6.0          valentine's cards"
      ]
     },
     "execution_count": 11,
     "metadata": {},
     "output_type": "execute_result"
    }
   ],
   "source": [
    "df.loc[df['query'].str.contains(\"\\'s\"), ['total_searches', 'query']].sort_values(\n",
    "    by='total_searches', ascending=False).head(20)"
   ]
  },
  {
   "cell_type": "markdown",
   "metadata": {},
   "source": [
    "# Ask for at least 5 searches"
   ]
  },
  {
   "cell_type": "code",
   "execution_count": 12,
   "metadata": {},
   "outputs": [],
   "source": [
    "df = df.loc[df['total_searches']>5, :]"
   ]
  },
  {
   "cell_type": "code",
   "execution_count": 13,
   "metadata": {},
   "outputs": [
    {
     "data": {
      "text/plain": [
       "1    2480\n",
       "2    2352\n",
       "3     329\n",
       "4      26\n",
       "5       3\n",
       "0       1\n",
       "Name: query, dtype: int64"
      ]
     },
     "execution_count": 13,
     "metadata": {},
     "output_type": "execute_result"
    }
   ],
   "source": [
    "df['query'].apply(lambda x: count_words(x)).value_counts()"
   ]
  },
  {
   "cell_type": "code",
   "execution_count": 14,
   "metadata": {},
   "outputs": [
    {
     "data": {
      "text/plain": [
       "<matplotlib.axes._subplots.AxesSubplot at 0x11e57b320>"
      ]
     },
     "execution_count": 14,
     "metadata": {},
     "output_type": "execute_result"
    },
    {
     "data": {
      "image/png": "[encoded data removed]",
      "text/plain": [
       "<Figure size 432x288 with 1 Axes>"
      ]
     },
     "metadata": {
      "needs_background": "light"
     },
     "output_type": "display_data"
    }
   ],
   "source": [
    "df.loc[df['total_searches']>5, 'total_conversion'].hist(bins=50)"
   ]
  },
  {
   "cell_type": "markdown",
   "metadata": {},
   "source": [
    "## Drop queries with less than 40% conversion"
   ]
  },
  {
   "cell_type": "code",
   "execution_count": 15,
   "metadata": {},
   "outputs": [],
   "source": [
    "df = df.loc[df['total_conversion']>0.40, :]"
   ]
  },
  {
   "cell_type": "code",
   "execution_count": 16,
   "metadata": {},
   "outputs": [
    {
     "data": {
      "text/plain": [
       "(4978, 10)"
      ]
     },
     "execution_count": 16,
     "metadata": {},
     "output_type": "execute_result"
    }
   ],
   "source": [
    "df.shape"
   ]
  },
  {
   "cell_type": "code",
   "execution_count": 17,
   "metadata": {},
   "outputs": [
    {
     "data": {
      "text/plain": [
       "<matplotlib.axes._subplots.AxesSubplot at 0x12031a0f0>"
      ]
     },
     "execution_count": 17,
     "metadata": {},
     "output_type": "execute_result"
    },
    {
     "data": {
      "image/png": "[encoded data removed]",
      "text/plain": [
       "<Figure size 432x288 with 1 Axes>"
      ]
     },
     "metadata": {
      "needs_background": "light"
     },
     "output_type": "display_data"
    }
   ],
   "source": [
    "df.loc[df['total_searches']>5, 'total_conversion'].hist(bins=50)"
   ]
  },
  {
   "cell_type": "code",
   "execution_count": 18,
   "metadata": {},
   "outputs": [
    {
     "data": {
      "text/plain": [
       "Series([], Name: query, dtype: object)"
      ]
     },
     "execution_count": 18,
     "metadata": {},
     "output_type": "execute_result"
    }
   ],
   "source": [
    "df.loc[(df['total_searches']>5) &\n",
    "       df['total_conversion'] < 0.3, 'query'].head(20)"
   ]
  },
  {
   "cell_type": "code",
   "execution_count": 19,
   "metadata": {},
   "outputs": [
    {
     "data": {
      "text/plain": [
       "1    2372\n",
       "2    2262\n",
       "3     315\n",
       "4      25\n",
       "5       3\n",
       "0       1\n",
       "Name: query, dtype: int64"
      ]
     },
     "execution_count": 19,
     "metadata": {},
     "output_type": "execute_result"
    }
   ],
   "source": [
    "df['query'].apply(lambda x: count_words(x)).value_counts()"
   ]
  },
  {
   "cell_type": "markdown",
   "metadata": {},
   "source": [
    "### People use search to find individual products"
   ]
  },
  {
   "cell_type": "code",
   "execution_count": 20,
   "metadata": {},
   "outputs": [
    {
     "data": {
      "text/plain": [
       "2000    the bee and the fox\n",
       "2132    go jump in the lake\n",
       "2260     all up in the hair\n",
       "Name: query, dtype: object"
      ]
     },
     "execution_count": 20,
     "metadata": {},
     "output_type": "execute_result"
    }
   ],
   "source": [
    "df.loc[df['query'].apply(lambda x: count_words(x))>4, 'query']"
   ]
  },
  {
   "cell_type": "markdown",
   "metadata": {},
   "source": [
    "## Collapse hyphenated words"
   ]
  },
  {
   "cell_type": "code",
   "execution_count": 21,
   "metadata": {},
   "outputs": [],
   "source": [
    "hyphen_words = df.loc[df['query'].str.contains(r'\\w-\\w'), 'query'].values.tolist()"
   ]
  },
  {
   "cell_type": "code",
   "execution_count": 22,
   "metadata": {},
   "outputs": [
    {
     "name": "stdout",
     "output_type": "stream",
     "text": [
      "['t-shirts', 't-shirt']\n"
     ]
    }
   ],
   "source": [
    "print(hyphen_words)"
   ]
  },
  {
   "cell_type": "code",
   "execution_count": 23,
   "metadata": {},
   "outputs": [],
   "source": [
    "for w in hyphen_words:\n",
    "    w_wo_hyphen = w.replace('-', ' ')\n",
    "    w_wo_hyphen2 = w.replace('-', '')\n",
    "    \n",
    "    best_word = None\n",
    "    max_searches = 0\n",
    "    \n",
    "#     print((df['query']==w).sum())\n",
    "#     print((df['query']==w_wo_hyphen).sum())\n",
    "#     prin˜t((df['query']==w_wo_hyphen2).sum())\n",
    "    \n",
    "    if df.loc[df['query']==w, 'total_searches'].values[0] >= df.loc[df['query']==w_wo_hyphen, 'total_searches'].values[0]:\n",
    "        df.loc[df['query']==w_wo_hyphen, 'query'] = w\n",
    "        max_searches = df.loc[df['query']==w, 'total_searches'].values\n",
    "    else:\n",
    "        best_word = w_wo_hyphen\n",
    "        max_searches = df.loc[df['query']==w_wo_hyphen, 'total_searches'].values\n",
    "        df.loc[df['query']==w, 'query'] = w_wo_hyphen\n",
    "    \n",
    "    if df.loc[df['query']==w_wo_hyphen2, 'total_searches'].values >= max_searches:\n",
    "        df.loc[df['query']==best_word, 'query'] = w_wo_hyphen2\n",
    "    else:\n",
    "        df.loc[df['query']==w_wo_hyphen2, 'query'] = best_word"
   ]
  },
  {
   "cell_type": "markdown",
   "metadata": {},
   "source": [
    "## Convert queries to use apostrophe when appropriate"
   ]
  },
  {
   "cell_type": "code",
   "execution_count": 24,
   "metadata": {},
   "outputs": [],
   "source": [
    "apostrophe_words = df.loc[df['query'].str.contains(\"\\'s\"), 'query'].values.tolist()"
   ]
  },
  {
   "cell_type": "code",
   "execution_count": 25,
   "metadata": {},
   "outputs": [],
   "source": [
    "apostrophe_words = [ [y for y in x.split() if \"'s\" in y ][0] for x in apostrophe_words]"
   ]
  },
  {
   "cell_type": "code",
   "execution_count": 26,
   "metadata": {},
   "outputs": [],
   "source": [
    "short_apostrophe_words = []\n",
    "for x in apostrophe_words:\n",
    "    if x not in short_apostrophe_words:\n",
    "        short_apostrophe_words.append(x)"
   ]
  },
  {
   "cell_type": "code",
   "execution_count": 27,
   "metadata": {},
   "outputs": [
    {
     "data": {
      "text/plain": [
       "[\"valentine's\",\n",
       " \"mother's\",\n",
       " \"men's\",\n",
       " \"patrick's\",\n",
       " \"children's\",\n",
       " \"father's\",\n",
       " \"women's\",\n",
       " \"aenon's\",\n",
       " \"oyster's\"]"
      ]
     },
     "execution_count": 27,
     "metadata": {},
     "output_type": "execute_result"
    }
   ],
   "source": [
    "short_apostrophe_words"
   ]
  },
  {
   "cell_type": "code",
   "execution_count": 28,
   "metadata": {},
   "outputs": [],
   "source": [
    "dict_to_change = {\n",
    "    'mens': \"men's\", \n",
    "    'womens': \"women's\", \n",
    "    'valentines': \"valentine's\", \n",
    "    'mothers': \"mother's\", \n",
    "    'patricks': \"patrick's\",\n",
    "    'st': \"st.\"\n",
    "}"
   ]
  },
  {
   "cell_type": "code",
   "execution_count": 29,
   "metadata": {},
   "outputs": [],
   "source": [
    "# df['query'] = df['query'].str.replace(\"valentine's\", \"Valentine's\")\n",
    "# df['query'] = df['query'].str.replace(\"patrick's\", \"Patrick's\")"
   ]
  },
  {
   "cell_type": "code",
   "execution_count": 30,
   "metadata": {},
   "outputs": [],
   "source": [
    "df['needs_change'] = df['query'].apply(\n",
    "    lambda x: any([y.lower() in dict_to_change.keys() for y in x.split()])\n",
    ")"
   ]
  },
  {
   "cell_type": "code",
   "execution_count": 31,
   "metadata": {},
   "outputs": [
    {
     "data": {
      "text/plain": [
       "13                valentines\n",
       "18            valentines day\n",
       "188                     mens\n",
       "405         valentines cards\n",
       "414     valentines day cards\n",
       "633              mothers day\n",
       "652          valentines card\n",
       "737          st patricks day\n",
       "1081             st patricks\n",
       "1130              st patrick\n",
       "1173            mens jewelry\n",
       "1376         womens clothing\n",
       "1663     valentines day card\n",
       "1715            womens shoes\n",
       "1829           mens grooming\n",
       "1892              mens socks\n",
       "2121           mens clothing\n",
       "2126        st patrick’s day\n",
       "2611           mens bracelet\n",
       "2914                  womens\n",
       "2955             womens tops\n",
       "3170            mens wallets\n",
       "3211             mens wallet\n",
       "3457          womens apparel\n",
       "4054        st. patricks day\n",
       "4716              mens shirt\n",
       "4909               mens ties\n",
       "5179        st patrick's day\n",
       "5280       mothers day gifts\n",
       "5381          womens clothes\n",
       "5399            st patrick’s\n",
       "5479       mothers day cards\n",
       "6943               mens hats\n",
       "Name: query, dtype: object"
      ]
     },
     "execution_count": 31,
     "metadata": {},
     "output_type": "execute_result"
    }
   ],
   "source": [
    "df.loc[df['needs_change']==1, 'query']"
   ]
  },
  {
   "cell_type": "code",
   "execution_count": 32,
   "metadata": {},
   "outputs": [],
   "source": [
    "for k,v in dict_to_change.items():\n",
    "    df.loc[df['needs_change']==1, 'query'] = df.loc[df['needs_change']==1, 'query'].apply(\n",
    "        lambda x: x.replace(k, v) )"
   ]
  },
  {
   "cell_type": "markdown",
   "metadata": {},
   "source": [
    "### Now colapse them together"
   ]
  },
  {
   "cell_type": "code",
   "execution_count": 33,
   "metadata": {},
   "outputs": [],
   "source": [
    "df = df.groupby('query').sum().reset_index().sort_values('total_searches', ascending=False)\n",
    "df['total_conversion'] = df['total_clicks'] / df['total_searches']"
   ]
  },
  {
   "cell_type": "code",
   "execution_count": 34,
   "metadata": {},
   "outputs": [],
   "source": [
    "#df['query'].apply(lambda x: x.replace(\"'s\", '') in apostrophe_words)"
   ]
  },
  {
   "cell_type": "code",
   "execution_count": 35,
   "metadata": {},
   "outputs": [
    {
     "data": {
      "text/plain": [
       "Series([], Name: query, dtype: object)"
      ]
     },
     "execution_count": 35,
     "metadata": {},
     "output_type": "execute_result"
    }
   ],
   "source": [
    "df.loc[ df['query'].apply(lambda x: x.replace(\"'s\", '') in apostrophe_words), 'query']"
   ]
  },
  {
   "cell_type": "code",
   "execution_count": 36,
   "metadata": {},
   "outputs": [
    {
     "data": {
      "text/html": [
       "<div>\n",
       "<style scoped>\n",
       "    .dataframe tbody tr th:only-of-type {\n",
       "        vertical-align: middle;\n",
       "    }\n",
       "\n",
       "    .dataframe tbody tr th {\n",
       "        vertical-align: top;\n",
       "    }\n",
       "\n",
       "    .dataframe thead th {\n",
       "        text-align: right;\n",
       "    }\n",
       "</style>\n",
       "<table border=\"1\" class=\"dataframe\">\n",
       "  <thead>\n",
       "    <tr style=\"text-align: right;\">\n",
       "      <th></th>\n",
       "      <th>total_searches</th>\n",
       "      <th>query</th>\n",
       "    </tr>\n",
       "  </thead>\n",
       "  <tbody>\n",
       "    <tr>\n",
       "      <th>4586</th>\n",
       "      <td>848.0</td>\n",
       "      <td>valentine's day</td>\n",
       "    </tr>\n",
       "    <tr>\n",
       "      <th>4583</th>\n",
       "      <td>445.0</td>\n",
       "      <td>valentine's</td>\n",
       "    </tr>\n",
       "    <tr>\n",
       "      <th>2752</th>\n",
       "      <td>141.0</td>\n",
       "      <td>men's</td>\n",
       "    </tr>\n",
       "    <tr>\n",
       "      <th>2912</th>\n",
       "      <td>140.0</td>\n",
       "      <td>mother's day</td>\n",
       "    </tr>\n",
       "    <tr>\n",
       "      <th>4067</th>\n",
       "      <td>81.0</td>\n",
       "      <td>st. patrick's day</td>\n",
       "    </tr>\n",
       "    <tr>\n",
       "      <th>4588</th>\n",
       "      <td>42.0</td>\n",
       "      <td>valentine's day cards</td>\n",
       "    </tr>\n",
       "    <tr>\n",
       "      <th>4833</th>\n",
       "      <td>41.0</td>\n",
       "      <td>women's clothing</td>\n",
       "    </tr>\n",
       "    <tr>\n",
       "      <th>2756</th>\n",
       "      <td>39.0</td>\n",
       "      <td>men's grooming</td>\n",
       "    </tr>\n",
       "    <tr>\n",
       "      <th>4066</th>\n",
       "      <td>35.0</td>\n",
       "      <td>st. patrick's</td>\n",
       "    </tr>\n",
       "    <tr>\n",
       "      <th>4585</th>\n",
       "      <td>34.0</td>\n",
       "      <td>valentine's cards</td>\n",
       "    </tr>\n",
       "    <tr>\n",
       "      <th>2758</th>\n",
       "      <td>32.0</td>\n",
       "      <td>men's jewelry</td>\n",
       "    </tr>\n",
       "    <tr>\n",
       "      <th>2760</th>\n",
       "      <td>25.0</td>\n",
       "      <td>men's socks</td>\n",
       "    </tr>\n",
       "    <tr>\n",
       "      <th>4584</th>\n",
       "      <td>18.0</td>\n",
       "      <td>valentine's card</td>\n",
       "    </tr>\n",
       "    <tr>\n",
       "      <th>4834</th>\n",
       "      <td>18.0</td>\n",
       "      <td>women's shoes</td>\n",
       "    </tr>\n",
       "    <tr>\n",
       "      <th>4587</th>\n",
       "      <td>16.0</td>\n",
       "      <td>valentine's day card</td>\n",
       "    </tr>\n",
       "    <tr>\n",
       "      <th>2754</th>\n",
       "      <td>15.0</td>\n",
       "      <td>men's clothing</td>\n",
       "    </tr>\n",
       "    <tr>\n",
       "      <th>4830</th>\n",
       "      <td>13.0</td>\n",
       "      <td>women's</td>\n",
       "    </tr>\n",
       "    <tr>\n",
       "      <th>2913</th>\n",
       "      <td>13.0</td>\n",
       "      <td>mother's day cards</td>\n",
       "    </tr>\n",
       "    <tr>\n",
       "      <th>4835</th>\n",
       "      <td>13.0</td>\n",
       "      <td>women's tops</td>\n",
       "    </tr>\n",
       "    <tr>\n",
       "      <th>4831</th>\n",
       "      <td>12.0</td>\n",
       "      <td>women's apparel</td>\n",
       "    </tr>\n",
       "  </tbody>\n",
       "</table>\n",
       "</div>"
      ],
      "text/plain": [
       "      total_searches                  query\n",
       "4586           848.0        valentine's day\n",
       "4583           445.0            valentine's\n",
       "2752           141.0                  men's\n",
       "2912           140.0           mother's day\n",
       "4067            81.0      st. patrick's day\n",
       "4588            42.0  valentine's day cards\n",
       "4833            41.0       women's clothing\n",
       "2756            39.0         men's grooming\n",
       "4066            35.0          st. patrick's\n",
       "4585            34.0      valentine's cards\n",
       "2758            32.0          men's jewelry\n",
       "2760            25.0            men's socks\n",
       "4584            18.0       valentine's card\n",
       "4834            18.0          women's shoes\n",
       "4587            16.0   valentine's day card\n",
       "2754            15.0         men's clothing\n",
       "4830            13.0                women's\n",
       "2913            13.0     mother's day cards\n",
       "4835            13.0           women's tops\n",
       "4831            12.0        women's apparel"
      ]
     },
     "execution_count": 36,
     "metadata": {},
     "output_type": "execute_result"
    }
   ],
   "source": [
    "df.loc[df['query'].str.contains(\"\\'s\"), ['total_searches', 'query']].sort_values(\n",
    "    by='total_searches', ascending=False).head(20)"
   ]
  },
  {
   "cell_type": "code",
   "execution_count": 37,
   "metadata": {},
   "outputs": [
    {
     "data": {
      "text/plain": [
       "1    2367\n",
       "2    2253\n",
       "3     309\n",
       "4      25\n",
       "5       3\n",
       "0       1\n",
       "Name: query, dtype: int64"
      ]
     },
     "execution_count": 37,
     "metadata": {},
     "output_type": "execute_result"
    }
   ],
   "source": [
    "df['query'].apply(lambda x: count_words(x)).value_counts()"
   ]
  },
  {
   "cell_type": "markdown",
   "metadata": {},
   "source": [
    "# Coalesce singular and plural by whichever has most searches"
   ]
  },
  {
   "cell_type": "code",
   "execution_count": 38,
   "metadata": {},
   "outputs": [],
   "source": [
    "words_with_s = df.loc[(df['query'].str.rstrip('s').isin(df['query']) \n",
    "                       & (df['query'].str[-1]=='s')), 'query'].values.tolist()"
   ]
  },
  {
   "cell_type": "code",
   "execution_count": 39,
   "metadata": {},
   "outputs": [
    {
     "data": {
      "text/plain": [
       "True"
      ]
     },
     "execution_count": 39,
     "metadata": {},
     "output_type": "execute_result"
    }
   ],
   "source": [
    "'bras' in words_with_s"
   ]
  },
  {
   "cell_type": "code",
   "execution_count": 40,
   "metadata": {},
   "outputs": [
    {
     "data": {
      "text/plain": [
       "['candles', 'socks', 'bath bombs', 'mugs', 'cards']"
      ]
     },
     "execution_count": 40,
     "metadata": {},
     "output_type": "execute_result"
    }
   ],
   "source": [
    "words_with_s[:5]"
   ]
  },
  {
   "cell_type": "code",
   "execution_count": 41,
   "metadata": {},
   "outputs": [
    {
     "data": {
      "text/plain": [
       "662.0"
      ]
     },
     "execution_count": 41,
     "metadata": {},
     "output_type": "execute_result"
    }
   ],
   "source": [
    "df.loc[df['query']=='socks', 'total_searches'].values[0]"
   ]
  },
  {
   "cell_type": "code",
   "execution_count": 42,
   "metadata": {},
   "outputs": [
    {
     "name": "stdout",
     "output_type": "stream",
     "text": [
      "Replacing candle with candles\n",
      "Replacing sock with socks\n",
      "Replacing bath bomb with bath bombs\n",
      "Replacing mug with mugs\n",
      "Replacing card with cards\n",
      "Replacing pillow with pillows\n",
      "Replacing crystal with crystals\n",
      "Replacing book with books\n",
      "Replacing ceramic with ceramics\n",
      "Replacing tea towel with tea towels\n",
      "Replacing essential oil with essential oils\n",
      "Replacing shoe with shoes\n",
      "Replacing hat with hats\n",
      "Replacing journals with journal\n",
      "Replacing handbag with handbags\n",
      "Replacing plant with plants\n",
      "Replacing baskets with basket\n",
      "Replacing planters with planter\n",
      "Replacing tshirt with tshirts\n",
      "Replacing greeting card with greeting cards\n",
      "Replacing earring with earrings\n",
      "Replacing bag with bags\n",
      "Replacing pen with pens\n",
      "Replacing sticker with stickers\n",
      "Replacing coffee mug with coffee mugs\n",
      "Replacing kid with kids\n",
      "Replacing tea drop with tea drops\n",
      "Replacing purses with purse\n",
      "Replacing sign with signs\n",
      "Replacing bath salt with bath salts\n",
      "Replacing coaster with coasters\n",
      "Replacing towel with towels\n",
      "Replacing seed with seeds\n",
      "Replacing blankets with blanket\n",
      "Replacing chocolates with chocolate\n",
      "Replacing rug with rugs\n",
      "Replacing soaps with soap\n",
      "Replacing flower with flowers\n",
      "Replacing napkin with napkins\n",
      "Replacing ring with rings\n",
      "Replacing notebooks with notebook\n",
      "Replacing toy with toys\n",
      "Replacing enamel pin with enamel pins\n",
      "Replacing straw with straws\n",
      "Replacing legging with leggings\n",
      "Replacing leather earring with leather earrings\n",
      "Replacing magnet with magnets\n",
      "Replacing diffusers with diffuser\n",
      "Replacing pencil with pencils\n",
      "Replacing pet with pets\n",
      "Replacing game with games\n",
      "Replacing hearts with heart\n",
      "Replacing vases with vase\n",
      "Replacing pin with pins\n",
      "Replacing tote bags with tote bag\n",
      "Replacing headband with headbands\n",
      "Replacing aprons with apron\n",
      "Replacing gift with gifts\n",
      "Replacing cookie with cookies\n",
      "Replacing stuffed animal with stuffed animals\n",
      "Replacing soy candle with soy candles\n",
      "Replacing balloon with balloons\n",
      "Replacing bracelet with bracelets\n",
      "Replacing pot with pots\n",
      "Replacing succulents with succulent\n",
      "Replacing wallets with wallet\n",
      "Replacing slipper with slippers\n",
      "Replacing samples with sample\n",
      "Replacing frame with frames\n",
      "Replacing coffee cup with coffee cups\n",
      "Replacing pajama with pajamas\n",
      "Replacing totes with tote\n",
      "Replacing cup with cups\n",
      "Replacing dogs with dog\n",
      "Replacing robes with robe\n",
      "Replacing plate with plates\n",
      "Replacing throws with throw\n",
      "Replacing tumblers with tumbler\n",
      "Replacing shirt with shirts\n",
      "Replacing gift bag with gift bags\n",
      "Replacing bow with bows\n",
      "Replacing birthday card with birthday cards\n",
      "Replacing paper plate with paper plates\n",
      "Replacing herb with herbs\n",
      "Replacing lip balms with lip balm\n",
      "Replacing wax melt with wax melts\n",
      "Replacing snack with snacks\n",
      "Replacing sandal with sandals\n",
      "Replacing dog treat with dog treats\n",
      "Replacing puzzle with puzzles\n",
      "Replacing print with prints\n",
      "Replacing cosmetic with cosmetics\n",
      "Replacing planners with planner\n",
      "Replacing necklaces with necklace\n",
      "Replacing belt with belts\n",
      "Replacing flip flop with flip flops\n",
      "Replacing cocktail napkin with cocktail napkins\n",
      "Replacing bees with bee\n",
      "Replacing keychains with keychain\n",
      "Replacing lamps with lamp\n",
      "Replacing air plants with air plant\n",
      "Replacing smudge stick with smudge sticks\n",
      "Replacing candle holders with candle holder\n",
      "Replacing water bottles with water bottle\n",
      "Replacing shower steamers with shower steamer\n",
      "Replacing scrunchies with scrunchie\n",
      "Replacing wood signs with wood sign\n",
      "Replacing metal straw with metal straws\n",
      "Replacing wooden spoon with wooden spoons\n",
      "Replacing leather bags with leather bag\n",
      "Replacing curtain with curtains\n",
      "Replacing picture frames with picture frame\n",
      "Replacing birthday candle with birthday candles\n",
      "Replacing hair ties with hair tie\n",
      "Replacing art print with art prints\n",
      "Replacing wreaths with wreath\n",
      "Replacing bib with bibs\n",
      "Replacing dryer ball with dryer balls\n",
      "Replacing boy with boys\n",
      "Replacing cutting boards with cutting board\n",
      "Replacing sugar cube with sugar cubes\n",
      "Replacing backpacks with backpack\n",
      "Replacing key chains with key chain\n",
      "Replacing tea cups with tea cup\n",
      "Replacing returns with return\n",
      "Replacing stud earring with stud earrings\n",
      "Replacing tee with tees\n",
      "Replacing kitchen towels with kitchen towel\n",
      "Replacing trays with tray\n",
      "Replacing phone case with phone cases\n",
      "Replacing hair bow with hair bows\n",
      "Replacing shower bombs with shower bomb\n",
      "Replacing cats with cat\n",
      "Replacing sheet with sheets\n",
      "Replacing tea pots with tea pot\n",
      "Replacing spice with spices\n",
      "Replacing truffle with truffles\n",
      "Replacing baby toy with baby toys\n",
      "Replacing swaddles with swaddle\n",
      "Replacing florals with floral\n",
      "Replacing tarot card with tarot cards\n",
      "Replacing wind chime with wind chimes\n",
      "Replacing bowl with bowls\n",
      "Replacing straw bag with straw bags\n",
      "Replacing valentine's day card with valentine's day cards\n",
      "Replacing placemat with placemats\n",
      "Replacing jade rollers with jade roller\n",
      "Replacing notepads with notepad\n",
      "Replacing luggage tags with luggage tag\n",
      "Replacing bathbomb with bathbombs\n",
      "Replacing reusable straw with reusable straws\n",
      "Replacing umbrellas with umbrella\n",
      "Replacing bookmark with bookmarks\n",
      "Replacing wooden toy with wooden toys\n",
      "Replacing spoons with spoon\n",
      "Replacing tee shirt with tee shirts\n",
      "Replacing beach towels with beach towel\n",
      "Replacing lotions with lotion\n",
      "Replacing dish towels with dish towel\n",
      "Replacing face masks with face mask\n",
      "Replacing onesies with onesie\n",
      "Replacing teas with tea\n",
      "Replacing stone with stones\n",
      "Replacing postcard with postcards\n",
      "Replacing makeup bags with makeup bag\n",
      "Replacing birds with bird\n",
      "Replacing scrubs with scrub\n",
      "Replacing mountains with mountain\n",
      "Replacing valentine's card with valentine's cards\n",
      "Replacing dried flower with dried flowers\n",
      "Replacing bottles with bottle\n",
      "Replacing top with tops\n",
      "Replacing cosmetic bags with cosmetic bag\n",
      "Replacing door mats with door mat\n",
      "Replacing amber necklace with amber necklaces\n",
      "Replacing baby blankets with baby blanket\n",
      "Replacing horses with horse\n",
      "Replacing chocolate bars with chocolate bar\n",
      "Replacing outdoors with outdoor\n",
      "Replacing garden tool with garden tools\n",
      "Replacing oils with oil\n",
      "Replacing silk flower with silk flowers\n",
      "Replacing facial rollers with facial roller\n",
      "Replacing thank you card with thank you cards\n",
      "Replacing leather handbag with leather handbags\n",
      "Replacing teethers with teether\n",
      "Replacing lips with lip\n",
      "Replacing mermaids with mermaid\n",
      "Replacing coffee bean with coffee beans\n",
      "Replacing kits with kit\n",
      "Replacing cocktails with cocktail\n",
      "Replacing hair clips with hair clip\n",
      "Replacing diaper bags with diaper bag\n",
      "Replacing graphic tees with graphic tee\n",
      "Replacing ceramic mugs with ceramic mug\n",
      "Replacing cat toy with cat toys\n",
      "Replacing dolls with doll\n",
      "Replacing displays with display\n",
      "Replacing dog toys with dog toy\n",
      "Replacing masks with mask\n",
      "Replacing unicorns with unicorn\n",
      "Replacing canvas bags with canvas bag\n",
      "Replacing gemstones with gemstone\n",
      "Replacing crystal candles with crystal candle\n",
      "Replacing dog collars with dog collar\n",
      "Replacing leather bracelets with leather bracelet\n",
      "Replacing scarfs with scarf\n",
      "Replacing crafts with craft\n",
      "Replacing plant pot with plant pots\n",
      "Replacing cap with caps\n",
      "Replacing travel mugs with travel mug\n",
      "Replacing bloomer with bloomers\n",
      "Replacing reusable bag with reusable bags\n",
      "Replacing cloth diaper with cloth diapers\n",
      "Replacing lanterns with lantern\n",
      "Replacing hand towel with hand towels\n",
      "Replacing boob with boobs\n",
      "Replacing valentine cards with valentine card\n",
      "Replacing clocks with clock\n",
      "Replacing bath towels with bath towel\n",
      "Replacing beach bags with beach bag\n",
      "Replacing charm with charms\n",
      "Replacing cracker with crackers\n",
      "Replacing baby gifts with baby gift\n",
      "Replacing napkin ring with napkin rings\n",
      "Replacing linens with linen\n",
      "Replacing sage bundles with sage bundle\n",
      "Replacing maps with map\n",
      "Replacing candle stick with candle sticks\n",
      "Replacing funny candle with funny candles\n",
      "Replacing wooden sign with wooden signs\n",
      "Replacing chime with chimes\n",
      "Replacing baby headband with baby headbands\n",
      "Replacing aenons with aenon\n",
      "Replacing bow ties with bow tie\n",
      "Replacing rock with rocks\n",
      "Replacing utensil with utensils\n",
      "Replacing cake toppers with cake topper\n",
      "Replacing metal sign with metal signs\n",
      "Replacing turkish towels with turkish towel\n",
      "Replacing flasks with flask\n",
      "Replacing tie with ties\n",
      "Replacing stamp with stamps\n",
      "Replacing ornament with ornaments\n",
      "Replacing mint with mints\n",
      "Replacing sweet with sweets\n",
      "Replacing tea bag with tea bags\n",
      "Replacing easter baskets with easter basket\n",
      "Replacing table runners with table runner\n",
      "Replacing pearls with pearl\n",
      "Replacing wood toy with wood toys\n",
      "Replacing taco with tacos\n",
      "Replacing yoga mats with yoga mat\n",
      "Replacing enamel mugs with enamel mug\n",
      "Replacing posters with poster\n",
      "Replacing windchime with windchimes\n",
      "Replacing transfer with transfers\n",
      "Replacing throw blankets with throw blanket\n",
      "Replacing national park with national parks\n",
      "Replacing skulls with skull\n",
      "Replacing straw hats with straw hat\n",
      "Replacing container with containers\n",
      "Replacing moccasin with moccasins\n",
      "Replacing jars with jar\n",
      "Replacing baby hats with baby hat\n",
      "Replacing flag with flags\n",
      "Replacing gem with gems\n"
     ]
    },
    {
     "name": "stdout",
     "output_type": "stream",
     "text": [
      "Replacing wax warmers with wax warmer\n",
      "Replacing shopping bag with shopping bags\n",
      "Replacing bandanas with bandana\n",
      "Replacing produce bags with produce bag\n",
      "Replacing bangle with bangles\n",
      "Replacing leather journals with leather journal\n",
      "Replacing car coaster with car coasters\n",
      "Replacing sport with sports\n",
      "Replacing recipe card with recipe cards\n",
      "Replacing letter board with letter boards\n",
      "Replacing throw pillows with throw pillow\n",
      "Replacing sugar scrubs with sugar scrub\n",
      "Replacing candels with candel\n",
      "Replacing taper candles with taper candle\n",
      "Replacing linen sheet with linen sheets\n",
      "Replacing candle warmer with candle warmers\n",
      "Replacing leather purses with leather purse\n",
      "Replacing pillar candles with pillar candle\n",
      "Replacing lights with light\n",
      "Replacing markers with marker\n",
      "Replacing salt lamps with salt lamp\n",
      "Replacing watch band with watch bands\n",
      "Replacing tank top with tank tops\n",
      "Replacing hair pins with hair pin\n",
      "Replacing diy kit with diy kits\n",
      "Replacing tassels with tassel\n",
      "Replacing wine candles with wine candle\n",
      "Replacing tea infusers with tea infuser\n",
      "Replacing shampoo bars with shampoo bar\n",
      "Replacing tattoos with tattoo\n",
      "Replacing bath robes with bath robe\n",
      "Replacing pot holder with pot holders\n",
      "Replacing rabbits with rabbit\n",
      "Replacing dog beds with dog bed\n",
      "Replacing tables with table\n",
      "Replacing trucker hats with trucker hat\n",
      "Replacing note pad with note pads\n",
      "Replacing jams with jam\n",
      "Replacing craft kit with craft kits\n",
      "Replacing botanical prints with botanical print\n",
      "Replacing cupcakes with cupcake\n",
      "Replacing sponges with sponge\n",
      "Replacing shells with shell\n",
      "Replacing travel bags with travel bag\n",
      "Replacing pf candles with pf candle\n",
      "Replacing caramels with caramel\n",
      "Replacing modern sprouts with modern sprout\n",
      "Replacing colored pencil with colored pencils\n",
      "Replacing travel candles with travel candle\n",
      "Replacing nail with nails\n",
      "Replacing market bags with market bag\n",
      "Replacing wood wick candles with wood wick candle\n",
      "Replacing gourmet foods with gourmet food\n",
      "Replacing eye pillows with eye pillow\n",
      "Replacing star with stars\n",
      "Replacing animals with animal\n",
      "Replacing hair band with hair bands\n",
      "Replacing tag with tags\n",
      "Replacing baby cards with baby card\n",
      "Replacing stencil with stencils\n",
      "Replacing baby bibs with baby bib\n",
      "Replacing cake stands with cake stand\n",
      "Replacing botanicals with botanical\n",
      "Replacing pendant with pendants\n",
      "Replacing mirrors with mirror\n",
      "Replacing pillow inserts with pillow insert\n",
      "Replacing rituals with ritual\n",
      "Replacing tapers with taper\n",
      "Replacing pretzels with pretzel\n",
      "Replacing primitives with primitive\n",
      "Replacing sweatshirts with sweatshirt\n",
      "Replacing teapots with teapot\n",
      "Replacing felt flower with felt flowers\n",
      "Replacing pottery mug with pottery mugs\n",
      "Replacing drinks with drink\n",
      "Replacing baseball cap with baseball caps\n",
      "Replacing kids hat with kids hats\n",
      "Replacing olive with olives\n",
      "Replacing crayons with crayon\n",
      "Replacing beeswax candles with beeswax candle\n",
      "Replacing cbd bath bomb with cbd bath bombs\n",
      "Replacing wine bags with wine bag\n",
      "Replacing hoodies with hoodie\n",
      "Replacing wedding gift with wedding gifts\n",
      "Replacing paintings with painting\n",
      "Replacing pillow covers with pillow cover\n",
      "Replacing real soap with real soaps\n",
      "Replacing candlesticks with candlestick\n",
      "Replacing baseball hats with baseball hat\n",
      "Replacing bookends with bookend\n",
      "Replacing eye masks with eye mask\n",
      "Replacing sleep masks with sleep mask\n",
      "Replacing sage sticks with sage stick\n",
      "Replacing bralettes with bralette\n",
      "Replacing collar with collars\n",
      "Replacing eggs with egg\n",
      "Replacing jewelry displays with jewelry display\n",
      "Replacing wood bead with wood beads\n",
      "Replacing leather totes with leather tote\n",
      "Replacing childrens with children\n",
      "Replacing trees with tree\n",
      "Replacing gift sets with gift set\n",
      "Replacing vinyl stickers with vinyl sticker\n",
      "Replacing bottle openers with bottle opener\n",
      "Replacing ball cap with ball caps\n",
      "Replacing pigs with pig\n",
      "Replacing woods with wood\n",
      "Replacing baby onesies with baby onesie\n",
      "Replacing bears with bear\n",
      "Replacing bird houses with bird house\n",
      "Replacing pickle with pickles\n",
      "Replacing bath bom with bath boms\n",
      "Replacing bobby pins with bobby pin\n",
      "Replacing pet bed with pet beds\n",
      "Replacing perfumes with perfume\n",
      "Replacing woven baskets with woven basket\n",
      "Replacing beeswax wraps with beeswax wrap\n",
      "Replacing jackets with jacket\n",
      "Replacing salts with salt\n",
      "Replacing flour sack towel with flour sack towels\n",
      "Replacing gift baskets with gift basket\n",
      "Replacing teddy bears with teddy bear\n",
      "Replacing easter card with easter cards\n",
      "Replacing dog pillow with dog pillows\n",
      "Replacing leather wallets with leather wallet\n",
      "Replacing feathers with feather\n",
      "Replacing fabrics with fabric\n",
      "Replacing essential oil candles with essential oil candle\n",
      "Replacing canvas totes with canvas tote\n",
      "Replacing glass bottles with glass bottle\n",
      "Replacing chairs with chair\n",
      "Replacing glass straws with glass straw\n",
      "Replacing massage candle with massage candles\n",
      "Replacing owls with owl\n",
      "Replacing wine bottle candle with wine bottle candles\n",
      "Replacing koozies with koozie\n",
      "Replacing tanks with tank\n",
      "Replacing swim suit with swim suits\n",
      "Replacing gnomes with gnome\n",
      "Replacing peanut with peanuts\n",
      "Replacing sister with sisters\n",
      "Replacing baby books with baby book\n",
      "Replacing airplants with airplant\n",
      "Replacing stacking rings with stacking ring\n",
      "Replacing wedding cards with wedding card\n",
      "Replacing mexican blankets with mexican blanket\n",
      "Replacing camp mug with camp mugs\n",
      "Replacing roses with rose\n",
      "Replacing mushrooms with mushroom\n",
      "Replacing make up bags with make up bag\n",
      "Replacing dog bow tie with dog bow ties\n",
      "Replacing crowns with crown\n",
      "Replacing bowties with bowtie\n",
      "Replacing leather belts with leather belt\n",
      "Replacing oil diffusers with oil diffuser\n",
      "Replacing plant stands with plant stand\n",
      "Replacing tulips with tulip\n",
      "Replacing wraps with wrap\n",
      "Replacing tunics with tunic\n",
      "Replacing tablecloths with tablecloth\n",
      "Replacing shower curtains with shower curtain\n",
      "Replacing tea mugs with tea mug\n",
      "Replacing tea sets with tea set\n",
      "Replacing teens with teen\n",
      "Replacing pop sockets with pop socket\n",
      "Replacing quilts with quilt\n",
      "Replacing sachets with sachet\n",
      "Replacing wedding favor with wedding favors\n",
      "Replacing ponchos with poncho\n",
      "Replacing hooded towels with hooded towel\n",
      "Replacing cookbooks with cookbook\n",
      "Replacing men's wallet with men's wallets\n",
      "Replacing incense burners with incense burner\n",
      "Replacing beverage with beverages\n",
      "Replacing crystal necklaces with crystal necklace\n",
      "Replacing nail files with nail file\n",
      "Replacing cover ups with cover up\n",
      "Replacing cows with cow\n",
      "Replacing lockets with locket\n",
      "Replacing cardigans with cardigan\n",
      "Replacing lollipops with lollipop\n",
      "Replacing calendars with calendar\n",
      "Replacing linen napkin with linen napkins\n",
      "Replacing brides with bride\n",
      "Replacing lunch bags with lunch bag\n",
      "Replacing ceramic pots with ceramic pot\n",
      "Replacing macaroons with macaroon\n",
      "Replacing key fobs with key fob\n",
      "Replacing body oils with body oil\n",
      "Replacing make up erasers with make up eraser\n",
      "Replacing cheese boards with cheese board\n",
      "Replacing globes with globe\n",
      "Replacing foods with food\n",
      "Replacing decals with decal\n",
      "Replacing enclosure cards with enclosure card\n",
      "Replacing party hat with party hats\n",
      "Replacing shower caps with shower cap\n",
      "Replacing seasonings with seasoning\n",
      "Replacing crib sheets with crib sheet\n",
      "Replacing diamonds with diamond\n",
      "Replacing skirts with skirt\n",
      "Replacing initials with initial\n",
      "Replacing tea balls with tea ball\n",
      "Replacing dream catchers with dream catcher\n",
      "Replacing mobiles with mobile\n",
      "Replacing bed sheet with bed sheets\n",
      "Replacing beaded bracelets with beaded bracelet\n",
      "Replacing razors with razor\n",
      "Replacing rollers with roller\n",
      "Replacing wine tumblers with wine tumbler\n",
      "Replacing african basket with african baskets\n",
      "Replacing zodiac candles with zodiac candle\n",
      "Replacing antlers with antler\n",
      "Replacing oven mitts with oven mitt\n",
      "Replacing bridesmaids with bridesmaid\n",
      "Replacing malas with mala\n",
      "Replacing dog bandanas with dog bandana\n",
      "Replacing dog bowls with dog bowl\n",
      "Replacing dinner plates with dinner plate\n",
      "Replacing wood bowls with wood bowl\n",
      "Replacing dips with dip\n",
      "Replacing campfire mugs with campfire mug\n",
      "Replacing burp cloths with burp cloth\n",
      "Replacing cake candles with cake candle\n",
      "Replacing cake plates with cake plate\n",
      "Replacing bullet journals with bullet journal\n",
      "Replacing bubbles with bubble\n",
      "Replacing angels with angel\n",
      "Replacing brooms with broom\n",
      "Replacing air fresheners with air freshener\n",
      "Replacing brows with brow\n",
      "Replacing enamel cups with enamel cup\n",
      "Replacing baby towels with baby towel\n",
      "Replacing belt buckles with belt buckle\n",
      "Replacing coffe cup with coffe cups\n",
      "Replacing book mark with book marks\n",
      "Replacing coozies with coozie\n",
      "Replacing cell phone cases with cell phone case\n",
      "Replacing ceramic cups with ceramic cup\n",
      "Replacing chickens with chicken\n",
      "Replacing waves with wave\n",
      "Replacing watering cans with watering can\n",
      "Replacing cuffs with cuff\n",
      "Replacing tutus with tutu\n",
      "Replacing bras with bra\n",
      "Replacing car scents with car scent\n",
      "Replacing cardinals with cardinal\n",
      "Replacing tweens with tween\n",
      "Replacing bead bracelets with bead bracelet\n",
      "Replacing beanies with beanie\n"
     ]
    },
    {
     "name": "stdout",
     "output_type": "stream",
     "text": [
      "Replacing whales with whale\n",
      "Replacing faux plants with faux plant\n",
      "Replacing jewelry holders with jewelry holder\n",
      "Replacing neck wraps with neck wrap\n",
      "Replacing snack bags with snack bag\n",
      "Replacing makeup erasers with makeup eraser\n",
      "Replacing leather coasters with leather coaster\n",
      "Replacing lambs with lamb\n",
      "Replacing mixing bowls with mixing bowl\n",
      "Replacing lemons with lemon\n",
      "Replacing gold ring with gold rings\n",
      "Replacing platters with platter\n",
      "Replacing paper bags with paper bag\n",
      "Replacing pitchers with pitcher\n",
      "Replacing plant hangers with plant hanger\n",
      "Replacing milestone blankets with milestone blanket\n",
      "Replacing mixers with mixer\n",
      "Replacing wish bracelets with wish bracelet\n",
      "Replacing art kits with art kit\n",
      "Replacing wine stoppers with wine stopper\n",
      "Replacing onsies with onsie\n",
      "Replacing baby teethers with baby teether\n",
      "Replacing wrap bracelets with wrap bracelet\n",
      "Replacing pool floats with pool float\n",
      "Replacing wristlets with wristlet\n",
      "Replacing anklets with anklet\n",
      "Replacing hangers with hanger\n",
      "Replacing small adventures with small adventure\n",
      "Replacing incense cones with incense cone\n",
      "Replacing smudge bundles with smudge bundle\n",
      "Replacing coolers with cooler\n",
      "Replacing corbel with corbels\n",
      "Replacing soap bags with soap bag\n",
      "Replacing glass water bottles with glass water bottle\n",
      "Replacing sun hats with sun hat\n",
      "Replacing swaddle blankets with swaddle blanket\n",
      "Replacing frogs with frog\n",
      "Replacing glass vases with glass vase\n",
      "Replacing tea spoons with tea spoon\n",
      "Replacing stone rings with stone ring\n",
      "Replacing galentines with galentine\n",
      "Replacing easter eggs with easter egg\n",
      "Replacing sea sponges with sea sponge\n",
      "Replacing burlap bags with burlap bag\n",
      "Replacing valentine chocolates with valentine chocolate\n",
      "Replacing mason jars with mason jar\n",
      "Replacing macaron with macarons\n",
      "Replacing book candles with book candle\n",
      "Replacing vow books with vow book\n",
      "Replacing initial necklaces with initial necklace\n",
      "Replacing sigikids with sigikid\n",
      "Replacing trinket trays with trinket tray\n",
      "Replacing silver rings with silver ring\n",
      "Replacing ceramic vases with ceramic vase\n",
      "Replacing lava beads with lava bead\n",
      "Replacing laces with lace\n",
      "Replacing shawls with shawl\n"
     ]
    }
   ],
   "source": [
    "queries = df['query'].unique().tolist()\n",
    "for w in words_with_s:\n",
    "    if w[-2:]=='ss':\n",
    "        continue\n",
    "    if w[:-1] in df['query'].unique().tolist():\n",
    "        if df.loc[df['query']==w, 'total_searches'].values[0] >= df.loc[df['query']==w[:-1], 'total_searches'].values[0]:\n",
    "            print('Replacing {} with {}'.format(w[:-1], w))\n",
    "            df.loc[df['query']==w[:-1], 'query'] = w\n",
    "        else:\n",
    "            print('Replacing {} with {}'.format(w, w[:-1]))\n",
    "            df.loc[df['query']==w, 'query'] = w[:-1]\n",
    "    "
   ]
  },
  {
   "cell_type": "code",
   "execution_count": 43,
   "metadata": {},
   "outputs": [],
   "source": [
    "df = df.groupby('query').sum().reset_index().sort_values('total_searches', ascending=False)\n",
    "df['total_conversion'] = df['total_clicks'] / df['total_searches']"
   ]
  },
  {
   "cell_type": "code",
   "execution_count": 44,
   "metadata": {},
   "outputs": [],
   "source": [
    "df['n_words'] = df['query'].apply(lambda x: count_words(x))"
   ]
  },
  {
   "cell_type": "code",
   "execution_count": 45,
   "metadata": {},
   "outputs": [
    {
     "data": {
      "text/plain": [
       "285          bath bombs\n",
       "4051    valentine's day\n",
       "3810         tea towels\n",
       "1290     essential oils\n",
       "2230           lip balm\n",
       "Name: query, dtype: object"
      ]
     },
     "execution_count": 45,
     "metadata": {},
     "output_type": "execute_result"
    }
   ],
   "source": [
    "df.loc[df['n_words']==2, 'query'].head()"
   ]
  },
  {
   "cell_type": "code",
   "execution_count": 46,
   "metadata": {},
   "outputs": [
    {
     "data": {
      "text/html": [
       "<div>\n",
       "<style scoped>\n",
       "    .dataframe tbody tr th:only-of-type {\n",
       "        vertical-align: middle;\n",
       "    }\n",
       "\n",
       "    .dataframe tbody tr th {\n",
       "        vertical-align: top;\n",
       "    }\n",
       "\n",
       "    .dataframe thead th {\n",
       "        text-align: right;\n",
       "    }\n",
       "</style>\n",
       "<table border=\"1\" class=\"dataframe\">\n",
       "  <thead>\n",
       "    <tr style=\"text-align: right;\">\n",
       "      <th></th>\n",
       "      <th>query</th>\n",
       "      <th>qe_retailers_searching</th>\n",
       "      <th>qc_retailers_searching</th>\n",
       "      <th>qb_retailers_searching</th>\n",
       "      <th>qe_retailers_clicking</th>\n",
       "      <th>qc_retailers_clicking</th>\n",
       "      <th>qb_retailers_clicking</th>\n",
       "      <th>total_searches</th>\n",
       "      <th>total_clicks</th>\n",
       "      <th>total_conversion</th>\n",
       "      <th>needs_change</th>\n",
       "      <th>n_words</th>\n",
       "    </tr>\n",
       "  </thead>\n",
       "  <tbody>\n",
       "    <tr>\n",
       "      <th>680</th>\n",
       "      <td>candles</td>\n",
       "      <td>961.0</td>\n",
       "      <td>586.0</td>\n",
       "      <td>961.0</td>\n",
       "      <td>498.0</td>\n",
       "      <td>301.0</td>\n",
       "      <td>561.0</td>\n",
       "      <td>2508.0</td>\n",
       "      <td>1760.0</td>\n",
       "      <td>0.701754</td>\n",
       "      <td>0.0</td>\n",
       "      <td>1</td>\n",
       "    </tr>\n",
       "    <tr>\n",
       "      <th>816</th>\n",
       "      <td>chocolate</td>\n",
       "      <td>490.0</td>\n",
       "      <td>122.0</td>\n",
       "      <td>490.0</td>\n",
       "      <td>310.0</td>\n",
       "      <td>71.0</td>\n",
       "      <td>355.0</td>\n",
       "      <td>1102.0</td>\n",
       "      <td>871.0</td>\n",
       "      <td>0.790381</td>\n",
       "      <td>0.0</td>\n",
       "      <td>1</td>\n",
       "    </tr>\n",
       "    <tr>\n",
       "      <th>285</th>\n",
       "      <td>bath bombs</td>\n",
       "      <td>407.0</td>\n",
       "      <td>212.0</td>\n",
       "      <td>407.0</td>\n",
       "      <td>246.0</td>\n",
       "      <td>152.0</td>\n",
       "      <td>298.0</td>\n",
       "      <td>1026.0</td>\n",
       "      <td>805.0</td>\n",
       "      <td>0.784600</td>\n",
       "      <td>0.0</td>\n",
       "      <td>2</td>\n",
       "    </tr>\n",
       "    <tr>\n",
       "      <th>3790</th>\n",
       "      <td>tea</td>\n",
       "      <td>370.0</td>\n",
       "      <td>239.0</td>\n",
       "      <td>370.0</td>\n",
       "      <td>173.0</td>\n",
       "      <td>135.0</td>\n",
       "      <td>201.0</td>\n",
       "      <td>979.0</td>\n",
       "      <td>678.0</td>\n",
       "      <td>0.692543</td>\n",
       "      <td>0.0</td>\n",
       "      <td>1</td>\n",
       "    </tr>\n",
       "    <tr>\n",
       "      <th>3532</th>\n",
       "      <td>soap</td>\n",
       "      <td>369.0</td>\n",
       "      <td>187.0</td>\n",
       "      <td>369.0</td>\n",
       "      <td>209.0</td>\n",
       "      <td>115.0</td>\n",
       "      <td>242.0</td>\n",
       "      <td>925.0</td>\n",
       "      <td>693.0</td>\n",
       "      <td>0.749189</td>\n",
       "      <td>0.0</td>\n",
       "      <td>1</td>\n",
       "    </tr>\n",
       "  </tbody>\n",
       "</table>\n",
       "</div>"
      ],
      "text/plain": [
       "           query  qe_retailers_searching  qc_retailers_searching  \\\n",
       "680      candles                   961.0                   586.0   \n",
       "816    chocolate                   490.0                   122.0   \n",
       "285   bath bombs                   407.0                   212.0   \n",
       "3790         tea                   370.0                   239.0   \n",
       "3532        soap                   369.0                   187.0   \n",
       "\n",
       "      qb_retailers_searching  qe_retailers_clicking  qc_retailers_clicking  \\\n",
       "680                    961.0                  498.0                  301.0   \n",
       "816                    490.0                  310.0                   71.0   \n",
       "285                    407.0                  246.0                  152.0   \n",
       "3790                   370.0                  173.0                  135.0   \n",
       "3532                   369.0                  209.0                  115.0   \n",
       "\n",
       "      qb_retailers_clicking  total_searches  total_clicks  total_conversion  \\\n",
       "680                   561.0          2508.0        1760.0          0.701754   \n",
       "816                   355.0          1102.0         871.0          0.790381   \n",
       "285                   298.0          1026.0         805.0          0.784600   \n",
       "3790                  201.0           979.0         678.0          0.692543   \n",
       "3532                  242.0           925.0         693.0          0.749189   \n",
       "\n",
       "      needs_change  n_words  \n",
       "680            0.0        1  \n",
       "816            0.0        1  \n",
       "285            0.0        2  \n",
       "3790           0.0        1  \n",
       "3532           0.0        1  "
      ]
     },
     "execution_count": 46,
     "metadata": {},
     "output_type": "execute_result"
    }
   ],
   "source": [
    "df.head()"
   ]
  },
  {
   "cell_type": "code",
   "execution_count": 47,
   "metadata": {},
   "outputs": [
    {
     "data": {
      "text/plain": [
       "True"
      ]
     },
     "execution_count": 47,
     "metadata": {},
     "output_type": "execute_result"
    }
   ],
   "source": [
    "\"women's\" in df['query'].values"
   ]
  },
  {
   "cell_type": "markdown",
   "metadata": {},
   "source": [
    "## For queries with more than 1 word, add apostrophe when it should have it"
   ]
  },
  {
   "cell_type": "code",
   "execution_count": 48,
   "metadata": {},
   "outputs": [],
   "source": [
    "add_apostrophe = ['women', 'men', 'kid', 'patrick']"
   ]
  },
  {
   "cell_type": "code",
   "execution_count": 49,
   "metadata": {},
   "outputs": [
    {
     "data": {
      "text/plain": [
       "[]"
      ]
     },
     "execution_count": 49,
     "metadata": {},
     "output_type": "execute_result"
    }
   ],
   "source": [
    "df['query'].str.split()[0]"
   ]
  },
  {
   "cell_type": "code",
   "execution_count": 50,
   "metadata": {},
   "outputs": [
    {
     "data": {
      "text/plain": [
       "women's apparel      1\n",
       "women's tops         1\n",
       "women’s hats         1\n",
       "women's clothing     1\n",
       "women accessories    1\n",
       "women's shoes        1\n",
       "women's clothes      1\n",
       "women's              1\n",
       "women clothing       1\n",
       "women                1\n",
       "women’s shoes        1\n",
       "women shoes          1\n",
       "women’s clothing     1\n",
       "Name: query, dtype: int64"
      ]
     },
     "execution_count": 50,
     "metadata": {},
     "output_type": "execute_result"
    }
   ],
   "source": [
    "df.loc[df['query'].str.contains('women'), 'query'].value_counts()"
   ]
  },
  {
   "cell_type": "code",
   "execution_count": 51,
   "metadata": {},
   "outputs": [
    {
     "data": {
      "text/plain": [
       "4275     [women's, clothing]\n",
       "4276        [women's, shoes]\n",
       "4270       [women, clothing]\n",
       "4277         [women's, tops]\n",
       "4273      [women's, apparel]\n",
       "4280        [women’s, shoes]\n",
       "4278     [women’s, clothing]\n",
       "4271          [women, shoes]\n",
       "4269    [women, accessories]\n",
       "4279         [women’s, hats]\n",
       "4274      [women's, clothes]\n",
       "Name: query, dtype: object"
      ]
     },
     "execution_count": 51,
     "metadata": {},
     "output_type": "execute_result"
    }
   ],
   "source": [
    "df.loc[(df['query'].str.contains('women')) & (df['n_words']>1), 'query'].str.split()"
   ]
  },
  {
   "cell_type": "code",
   "execution_count": 52,
   "metadata": {},
   "outputs": [
    {
     "data": {
      "text/plain": [
       "Series([], Name: query, dtype: object)"
      ]
     },
     "execution_count": 52,
     "metadata": {},
     "output_type": "execute_result"
    }
   ],
   "source": [
    "df.loc[(df['n_words']>1) & any([df['query'].str.split()[0] == w for w in add_apostrophe]), 'query']"
   ]
  },
  {
   "cell_type": "code",
   "execution_count": 53,
   "metadata": {},
   "outputs": [],
   "source": [
    "df.loc[df['n_words']>1, 'query'] = df.loc[df['n_words']>1, 'query'].apply(\n",
    "    lambda x: (x.split()[0] + \"'s \")+' '.join(x.split()[1:]) if any([x.split()[0]==w for w in add_apostrophe])\n",
    "    else x\n",
    ")"
   ]
  },
  {
   "cell_type": "code",
   "execution_count": 54,
   "metadata": {},
   "outputs": [],
   "source": [
    "df = df.groupby('query').sum().reset_index().sort_values('total_searches', ascending=False)\n",
    "df['total_conversion'] = df['total_clicks'] / df['total_searches']"
   ]
  },
  {
   "cell_type": "code",
   "execution_count": 55,
   "metadata": {},
   "outputs": [
    {
     "data": {
      "text/plain": [
       "women's apparel        1\n",
       "women's clothes        1\n",
       "women's                1\n",
       "women’s hats           1\n",
       "women's clothing       1\n",
       "women                  1\n",
       "women's shoes          1\n",
       "women's tops           1\n",
       "women’s clothing       1\n",
       "women’s shoes          1\n",
       "women's accessories    1\n",
       "Name: query, dtype: int64"
      ]
     },
     "execution_count": 55,
     "metadata": {},
     "output_type": "execute_result"
    }
   ],
   "source": [
    "df.loc[df['query'].str.contains('women'), 'query'].value_counts()"
   ]
  },
  {
   "cell_type": "code",
   "execution_count": 56,
   "metadata": {},
   "outputs": [
    {
     "data": {
      "text/plain": [
       "False"
      ]
     },
     "execution_count": 56,
     "metadata": {},
     "output_type": "execute_result"
    }
   ],
   "source": [
    "'women clothing' in df['query'].values"
   ]
  },
  {
   "cell_type": "markdown",
   "metadata": {},
   "source": [
    "## Check apostrophe terms again"
   ]
  },
  {
   "cell_type": "code",
   "execution_count": 57,
   "metadata": {},
   "outputs": [
    {
     "data": {
      "text/html": [
       "<div>\n",
       "<style scoped>\n",
       "    .dataframe tbody tr th:only-of-type {\n",
       "        vertical-align: middle;\n",
       "    }\n",
       "\n",
       "    .dataframe tbody tr th {\n",
       "        vertical-align: top;\n",
       "    }\n",
       "\n",
       "    .dataframe thead th {\n",
       "        text-align: right;\n",
       "    }\n",
       "</style>\n",
       "<table border=\"1\" class=\"dataframe\">\n",
       "  <thead>\n",
       "    <tr style=\"text-align: right;\">\n",
       "      <th></th>\n",
       "      <th>total_searches</th>\n",
       "      <th>query</th>\n",
       "    </tr>\n",
       "  </thead>\n",
       "  <tbody>\n",
       "    <tr>\n",
       "      <th>4051</th>\n",
       "      <td>848.0</td>\n",
       "      <td>valentine's day</td>\n",
       "    </tr>\n",
       "    <tr>\n",
       "      <th>4049</th>\n",
       "      <td>445.0</td>\n",
       "      <td>valentine's</td>\n",
       "    </tr>\n",
       "    <tr>\n",
       "      <th>2441</th>\n",
       "      <td>141.0</td>\n",
       "      <td>men's</td>\n",
       "    </tr>\n",
       "    <tr>\n",
       "      <th>2589</th>\n",
       "      <td>140.0</td>\n",
       "      <td>mother's day</td>\n",
       "    </tr>\n",
       "    <tr>\n",
       "      <th>3614</th>\n",
       "      <td>81.0</td>\n",
       "      <td>st. patrick's day</td>\n",
       "    </tr>\n",
       "    <tr>\n",
       "      <th>4052</th>\n",
       "      <td>58.0</td>\n",
       "      <td>valentine's day cards</td>\n",
       "    </tr>\n",
       "    <tr>\n",
       "      <th>4273</th>\n",
       "      <td>56.0</td>\n",
       "      <td>women's clothing</td>\n",
       "    </tr>\n",
       "    <tr>\n",
       "      <th>4050</th>\n",
       "      <td>52.0</td>\n",
       "      <td>valentine's cards</td>\n",
       "    </tr>\n",
       "    <tr>\n",
       "      <th>2445</th>\n",
       "      <td>39.0</td>\n",
       "      <td>men's grooming</td>\n",
       "    </tr>\n",
       "    <tr>\n",
       "      <th>3613</th>\n",
       "      <td>35.0</td>\n",
       "      <td>st. patrick's</td>\n",
       "    </tr>\n",
       "    <tr>\n",
       "      <th>2447</th>\n",
       "      <td>32.0</td>\n",
       "      <td>men's jewelry</td>\n",
       "    </tr>\n",
       "    <tr>\n",
       "      <th>4274</th>\n",
       "      <td>27.0</td>\n",
       "      <td>women's shoes</td>\n",
       "    </tr>\n",
       "    <tr>\n",
       "      <th>2450</th>\n",
       "      <td>25.0</td>\n",
       "      <td>men's socks</td>\n",
       "    </tr>\n",
       "    <tr>\n",
       "      <th>2452</th>\n",
       "      <td>18.0</td>\n",
       "      <td>men's wallets</td>\n",
       "    </tr>\n",
       "    <tr>\n",
       "      <th>2443</th>\n",
       "      <td>15.0</td>\n",
       "      <td>men's clothing</td>\n",
       "    </tr>\n",
       "    <tr>\n",
       "      <th>2590</th>\n",
       "      <td>13.0</td>\n",
       "      <td>mother's day cards</td>\n",
       "    </tr>\n",
       "    <tr>\n",
       "      <th>4275</th>\n",
       "      <td>13.0</td>\n",
       "      <td>women's tops</td>\n",
       "    </tr>\n",
       "    <tr>\n",
       "      <th>4269</th>\n",
       "      <td>13.0</td>\n",
       "      <td>women's</td>\n",
       "    </tr>\n",
       "    <tr>\n",
       "      <th>4271</th>\n",
       "      <td>12.0</td>\n",
       "      <td>women's apparel</td>\n",
       "    </tr>\n",
       "    <tr>\n",
       "      <th>2442</th>\n",
       "      <td>11.0</td>\n",
       "      <td>men's bracelet</td>\n",
       "    </tr>\n",
       "  </tbody>\n",
       "</table>\n",
       "</div>"
      ],
      "text/plain": [
       "      total_searches                  query\n",
       "4051           848.0        valentine's day\n",
       "4049           445.0            valentine's\n",
       "2441           141.0                  men's\n",
       "2589           140.0           mother's day\n",
       "3614            81.0      st. patrick's day\n",
       "4052            58.0  valentine's day cards\n",
       "4273            56.0       women's clothing\n",
       "4050            52.0      valentine's cards\n",
       "2445            39.0         men's grooming\n",
       "3613            35.0          st. patrick's\n",
       "2447            32.0          men's jewelry\n",
       "4274            27.0          women's shoes\n",
       "2450            25.0            men's socks\n",
       "2452            18.0          men's wallets\n",
       "2443            15.0         men's clothing\n",
       "2590            13.0     mother's day cards\n",
       "4275            13.0           women's tops\n",
       "4269            13.0                women's\n",
       "4271            12.0        women's apparel\n",
       "2442            11.0         men's bracelet"
      ]
     },
     "execution_count": 57,
     "metadata": {},
     "output_type": "execute_result"
    }
   ],
   "source": [
    "df.loc[df['query'].str.contains(\"\\'s\"), ['total_searches', 'query']].sort_values(\n",
    "    by='total_searches', ascending=False).head(20)"
   ]
  },
  {
   "cell_type": "code",
   "execution_count": 58,
   "metadata": {},
   "outputs": [
    {
     "data": {
      "text/plain": [
       "(0, 100)"
      ]
     },
     "execution_count": 58,
     "metadata": {},
     "output_type": "execute_result"
    },
    {
     "data": {
      "image/png": "[encoded data removed]",
      "text/plain": [
       "<Figure size 432x288 with 1 Axes>"
      ]
     },
     "metadata": {
      "needs_background": "light"
     },
     "output_type": "display_data"
    }
   ],
   "source": [
    "df['total_searches'].hist(bins=200)\n",
    "plt.xlim(0, 100)"
   ]
  },
  {
   "cell_type": "markdown",
   "metadata": {},
   "source": [
    "## Drop rows that are not in the dictionary"
   ]
  },
  {
   "cell_type": "code",
   "execution_count": 59,
   "metadata": {},
   "outputs": [
    {
     "name": "stderr",
     "output_type": "stream",
     "text": [
      "[nltk_data] Downloading package brown to\n",
      "[nltk_data]     /Users/pedrosalesdebruin/nltk_data...\n",
      "[nltk_data]   Package brown is already up-to-date!\n"
     ]
    },
    {
     "data": {
      "text/plain": [
       "True"
      ]
     },
     "execution_count": 59,
     "metadata": {},
     "output_type": "execute_result"
    }
   ],
   "source": [
    "import nltk\n",
    "from nltk.corpus import wordnet as wn\n",
    "from nltk.corpus import brown\n",
    "\n",
    "nltk.download('brown')"
   ]
  },
  {
   "cell_type": "code",
   "execution_count": 60,
   "metadata": {},
   "outputs": [
    {
     "data": {
      "text/plain": [
       "False"
      ]
     },
     "execution_count": 60,
     "metadata": {},
     "output_type": "execute_result"
    }
   ],
   "source": [
    "'keychain' in brown.words()"
   ]
  },
  {
   "cell_type": "code",
   "execution_count": 61,
   "metadata": {},
   "outputs": [
    {
     "name": "stdout",
     "output_type": "stream",
     "text": [
      "[]\n"
     ]
    }
   ],
   "source": [
    "print(wn.synsets('candel'))"
   ]
  },
  {
   "cell_type": "code",
   "execution_count": 62,
   "metadata": {},
   "outputs": [
    {
     "name": "stdout",
     "output_type": "stream",
     "text": [
      "[Synset('answer.v.01'), Synset('answer.v.02'), Synset('answer.v.03'), Synset('answer.v.04'), Synset('answer.v.05'), Synset('answer.v.06'), Synset('suffice.v.01'), Synset('answer.v.08'), Synset('answer.v.09'), Synset('answer.v.10')]\n"
     ]
    }
   ],
   "source": [
    "print(wn.synsets('answered'))"
   ]
  },
  {
   "cell_type": "code",
   "execution_count": 63,
   "metadata": {},
   "outputs": [
    {
     "name": "stdout",
     "output_type": "stream",
     "text": [
      "[]\n"
     ]
    }
   ],
   "source": [
    "print(wn.synsets('asiafhaosifh'))"
   ]
  },
  {
   "cell_type": "code",
   "execution_count": 64,
   "metadata": {},
   "outputs": [
    {
     "data": {
      "text/plain": [
       "1661"
      ]
     },
     "execution_count": 64,
     "metadata": {},
     "output_type": "execute_result"
    }
   ],
   "source": [
    "df.loc[df['n_words']==1, 'query'].apply(lambda x: len(wn.synsets(x))>0).sum()"
   ]
  },
  {
   "cell_type": "code",
   "execution_count": 65,
   "metadata": {},
   "outputs": [
    {
     "data": {
      "text/plain": [
       "(2087, 12)"
      ]
     },
     "execution_count": 65,
     "metadata": {},
     "output_type": "execute_result"
    }
   ],
   "source": [
    "df.loc[df['n_words']==1].shape"
   ]
  },
  {
   "cell_type": "code",
   "execution_count": 66,
   "metadata": {},
   "outputs": [],
   "source": [
    "df['word_in_dictionary'] = df.loc[df['n_words']==1, 'query'].apply(lambda x: len(wn.synsets(x))>0 )"
   ]
  },
  {
   "cell_type": "code",
   "execution_count": 67,
   "metadata": {},
   "outputs": [],
   "source": [
    "df.loc[df['n_words']>1, 'word_in_dictionary'] = 1"
   ]
  },
  {
   "cell_type": "code",
   "execution_count": 68,
   "metadata": {},
   "outputs": [
    {
     "data": {
      "text/html": [
       "<div>\n",
       "<style scoped>\n",
       "    .dataframe tbody tr th:only-of-type {\n",
       "        vertical-align: middle;\n",
       "    }\n",
       "\n",
       "    .dataframe tbody tr th {\n",
       "        vertical-align: top;\n",
       "    }\n",
       "\n",
       "    .dataframe thead th {\n",
       "        text-align: right;\n",
       "    }\n",
       "</style>\n",
       "<table border=\"1\" class=\"dataframe\">\n",
       "  <thead>\n",
       "    <tr style=\"text-align: right;\">\n",
       "      <th></th>\n",
       "      <th>total_searches</th>\n",
       "      <th>query</th>\n",
       "    </tr>\n",
       "  </thead>\n",
       "  <tbody>\n",
       "    <tr>\n",
       "      <th>739</th>\n",
       "      <td>621.0</td>\n",
       "      <td>cbd</td>\n",
       "    </tr>\n",
       "    <tr>\n",
       "      <th>4049</th>\n",
       "      <td>445.0</td>\n",
       "      <td>valentine's</td>\n",
       "    </tr>\n",
       "    <tr>\n",
       "      <th>3979</th>\n",
       "      <td>426.0</td>\n",
       "      <td>tshirts</td>\n",
       "    </tr>\n",
       "    <tr>\n",
       "      <th>3598</th>\n",
       "      <td>291.0</td>\n",
       "      <td>spongelle</td>\n",
       "    </tr>\n",
       "    <tr>\n",
       "      <th>494</th>\n",
       "      <td>217.0</td>\n",
       "      <td>boho</td>\n",
       "    </tr>\n",
       "    <tr>\n",
       "      <th>2034</th>\n",
       "      <td>204.0</td>\n",
       "      <td>keychain</td>\n",
       "    </tr>\n",
       "    <tr>\n",
       "      <th>3324</th>\n",
       "      <td>154.0</td>\n",
       "      <td>scrunchie</td>\n",
       "    </tr>\n",
       "    <tr>\n",
       "      <th>1396</th>\n",
       "      <td>151.0</td>\n",
       "      <td>finchberry</td>\n",
       "    </tr>\n",
       "    <tr>\n",
       "      <th>3945</th>\n",
       "      <td>150.0</td>\n",
       "      <td>transpac</td>\n",
       "    </tr>\n",
       "    <tr>\n",
       "      <th>3828</th>\n",
       "      <td>139.0</td>\n",
       "      <td>teether</td>\n",
       "    </tr>\n",
       "    <tr>\n",
       "      <th>2775</th>\n",
       "      <td>134.0</td>\n",
       "      <td>onesie</td>\n",
       "    </tr>\n",
       "    <tr>\n",
       "      <th>1207</th>\n",
       "      <td>104.0</td>\n",
       "      <td>druzy</td>\n",
       "    </tr>\n",
       "    <tr>\n",
       "      <th>4103</th>\n",
       "      <td>93.0</td>\n",
       "      <td>w&amp;p</td>\n",
       "    </tr>\n",
       "    <tr>\n",
       "      <th>2345</th>\n",
       "      <td>89.0</td>\n",
       "      <td>maika</td>\n",
       "    </tr>\n",
       "    <tr>\n",
       "      <th>777</th>\n",
       "      <td>86.0</td>\n",
       "      <td>chapstick</td>\n",
       "    </tr>\n",
       "    <tr>\n",
       "      <th>2181</th>\n",
       "      <td>86.0</td>\n",
       "      <td>leebrick</td>\n",
       "    </tr>\n",
       "    <tr>\n",
       "      <th>1967</th>\n",
       "      <td>82.0</td>\n",
       "      <td>jaxkelly</td>\n",
       "    </tr>\n",
       "    <tr>\n",
       "      <th>2428</th>\n",
       "      <td>77.0</td>\n",
       "      <td>mayana</td>\n",
       "    </tr>\n",
       "    <tr>\n",
       "      <th>4088</th>\n",
       "      <td>75.0</td>\n",
       "      <td>viski</td>\n",
       "    </tr>\n",
       "    <tr>\n",
       "      <th>3196</th>\n",
       "      <td>74.0</td>\n",
       "      <td>rewined</td>\n",
       "    </tr>\n",
       "    <tr>\n",
       "      <th>1142</th>\n",
       "      <td>74.0</td>\n",
       "      <td>diy</td>\n",
       "    </tr>\n",
       "    <tr>\n",
       "      <th>1340</th>\n",
       "      <td>73.0</td>\n",
       "      <td>faire</td>\n",
       "    </tr>\n",
       "    <tr>\n",
       "      <th>3786</th>\n",
       "      <td>72.0</td>\n",
       "      <td>tatine</td>\n",
       "    </tr>\n",
       "    <tr>\n",
       "      <th>268</th>\n",
       "      <td>72.0</td>\n",
       "      <td>barware</td>\n",
       "    </tr>\n",
       "    <tr>\n",
       "      <th>766</th>\n",
       "      <td>71.0</td>\n",
       "      <td>chakra</td>\n",
       "    </tr>\n",
       "    <tr>\n",
       "      <th>1473</th>\n",
       "      <td>71.0</td>\n",
       "      <td>frida</td>\n",
       "    </tr>\n",
       "    <tr>\n",
       "      <th>2360</th>\n",
       "      <td>71.0</td>\n",
       "      <td>mala</td>\n",
       "    </tr>\n",
       "    <tr>\n",
       "      <th>1206</th>\n",
       "      <td>69.0</td>\n",
       "      <td>drinkware</td>\n",
       "    </tr>\n",
       "    <tr>\n",
       "      <th>1315</th>\n",
       "      <td>68.0</td>\n",
       "      <td>ezpz</td>\n",
       "    </tr>\n",
       "    <tr>\n",
       "      <th>2415</th>\n",
       "      <td>61.0</td>\n",
       "      <td>matcha</td>\n",
       "    </tr>\n",
       "  </tbody>\n",
       "</table>\n",
       "</div>"
      ],
      "text/plain": [
       "      total_searches        query\n",
       "739            621.0          cbd\n",
       "4049           445.0  valentine's\n",
       "3979           426.0      tshirts\n",
       "3598           291.0    spongelle\n",
       "494            217.0         boho\n",
       "2034           204.0     keychain\n",
       "3324           154.0    scrunchie\n",
       "1396           151.0   finchberry\n",
       "3945           150.0     transpac\n",
       "3828           139.0      teether\n",
       "2775           134.0       onesie\n",
       "1207           104.0        druzy\n",
       "4103            93.0          w&p\n",
       "2345            89.0        maika\n",
       "777             86.0    chapstick\n",
       "2181            86.0     leebrick\n",
       "1967            82.0     jaxkelly\n",
       "2428            77.0       mayana\n",
       "4088            75.0        viski\n",
       "3196            74.0      rewined\n",
       "1142            74.0          diy\n",
       "1340            73.0        faire\n",
       "3786            72.0       tatine\n",
       "268             72.0      barware\n",
       "766             71.0       chakra\n",
       "1473            71.0        frida\n",
       "2360            71.0         mala\n",
       "1206            69.0    drinkware\n",
       "1315            68.0         ezpz\n",
       "2415            61.0       matcha"
      ]
     },
     "execution_count": 68,
     "metadata": {},
     "output_type": "execute_result"
    }
   ],
   "source": [
    "df.loc[df['word_in_dictionary']==0, ['total_searches', 'query']].sort_values(\n",
    "    'total_searches', ascending=False).head(30)"
   ]
  },
  {
   "cell_type": "code",
   "execution_count": 69,
   "metadata": {},
   "outputs": [
    {
     "data": {
      "text/plain": [
       "(4382, 13)"
      ]
     },
     "execution_count": 69,
     "metadata": {},
     "output_type": "execute_result"
    }
   ],
   "source": [
    "df.shape"
   ]
  },
  {
   "cell_type": "code",
   "execution_count": 70,
   "metadata": {},
   "outputs": [],
   "source": [
    "df = df.loc[(df['word_in_dictionary']==1), :]"
   ]
  },
  {
   "cell_type": "code",
   "execution_count": 71,
   "metadata": {},
   "outputs": [
    {
     "data": {
      "text/plain": [
       "(3955, 13)"
      ]
     },
     "execution_count": 71,
     "metadata": {},
     "output_type": "execute_result"
    }
   ],
   "source": [
    "df.shape"
   ]
  },
  {
   "cell_type": "code",
   "execution_count": 72,
   "metadata": {},
   "outputs": [
    {
     "data": {
      "text/html": [
       "<div>\n",
       "<style scoped>\n",
       "    .dataframe tbody tr th:only-of-type {\n",
       "        vertical-align: middle;\n",
       "    }\n",
       "\n",
       "    .dataframe tbody tr th {\n",
       "        vertical-align: top;\n",
       "    }\n",
       "\n",
       "    .dataframe thead th {\n",
       "        text-align: right;\n",
       "    }\n",
       "</style>\n",
       "<table border=\"1\" class=\"dataframe\">\n",
       "  <thead>\n",
       "    <tr style=\"text-align: right;\">\n",
       "      <th></th>\n",
       "      <th>query</th>\n",
       "      <th>total_searches</th>\n",
       "    </tr>\n",
       "  </thead>\n",
       "  <tbody>\n",
       "    <tr>\n",
       "      <th>3614</th>\n",
       "      <td>st. patrick's day</td>\n",
       "      <td>81.0</td>\n",
       "    </tr>\n",
       "    <tr>\n",
       "      <th>2315</th>\n",
       "      <td>m. bueno</td>\n",
       "      <td>44.0</td>\n",
       "    </tr>\n",
       "    <tr>\n",
       "      <th>3613</th>\n",
       "      <td>st. patrick's</td>\n",
       "      <td>35.0</td>\n",
       "    </tr>\n",
       "    <tr>\n",
       "      <th>3616</th>\n",
       "      <td>st. patrick’s day</td>\n",
       "      <td>30.0</td>\n",
       "    </tr>\n",
       "    <tr>\n",
       "      <th>3612</th>\n",
       "      <td>st. patrick</td>\n",
       "      <td>27.0</td>\n",
       "    </tr>\n",
       "    <tr>\n",
       "      <th>14</th>\n",
       "      <td>a.n other</td>\n",
       "      <td>12.0</td>\n",
       "    </tr>\n",
       "    <tr>\n",
       "      <th>3617</th>\n",
       "      <td>st.. patrick's day</td>\n",
       "      <td>10.0</td>\n",
       "    </tr>\n",
       "    <tr>\n",
       "      <th>3615</th>\n",
       "      <td>st. patrick’s</td>\n",
       "      <td>7.0</td>\n",
       "    </tr>\n",
       "    <tr>\n",
       "      <th>2332</th>\n",
       "      <td>made market co.</td>\n",
       "      <td>7.0</td>\n",
       "    </tr>\n",
       "    <tr>\n",
       "      <th>2821</th>\n",
       "      <td>p.f. candle</td>\n",
       "      <td>7.0</td>\n",
       "    </tr>\n",
       "    <tr>\n",
       "      <th>2822</th>\n",
       "      <td>p.f. candle co</td>\n",
       "      <td>7.0</td>\n",
       "    </tr>\n",
       "  </tbody>\n",
       "</table>\n",
       "</div>"
      ],
      "text/plain": [
       "                   query  total_searches\n",
       "3614   st. patrick's day            81.0\n",
       "2315            m. bueno            44.0\n",
       "3613       st. patrick's            35.0\n",
       "3616   st. patrick’s day            30.0\n",
       "3612         st. patrick            27.0\n",
       "14             a.n other            12.0\n",
       "3617  st.. patrick's day            10.0\n",
       "3615       st. patrick’s             7.0\n",
       "2332     made market co.             7.0\n",
       "2821         p.f. candle             7.0\n",
       "2822      p.f. candle co             7.0"
      ]
     },
     "execution_count": 72,
     "metadata": {},
     "output_type": "execute_result"
    }
   ],
   "source": [
    "df.loc[ df['query'].str.contains('\\.'), ['query', 'total_searches'] ].sort_values('total_searches', ascending=False)"
   ]
  },
  {
   "cell_type": "code",
   "execution_count": 73,
   "metadata": {},
   "outputs": [
    {
     "data": {
      "text/html": [
       "<div>\n",
       "<style scoped>\n",
       "    .dataframe tbody tr th:only-of-type {\n",
       "        vertical-align: middle;\n",
       "    }\n",
       "\n",
       "    .dataframe tbody tr th {\n",
       "        vertical-align: top;\n",
       "    }\n",
       "\n",
       "    .dataframe thead th {\n",
       "        text-align: right;\n",
       "    }\n",
       "</style>\n",
       "<table border=\"1\" class=\"dataframe\">\n",
       "  <thead>\n",
       "    <tr style=\"text-align: right;\">\n",
       "      <th></th>\n",
       "      <th>query</th>\n",
       "      <th>total_searches</th>\n",
       "    </tr>\n",
       "  </thead>\n",
       "  <tbody>\n",
       "    <tr>\n",
       "      <th>813</th>\n",
       "      <td>chloe &amp; lex</td>\n",
       "      <td>22.0</td>\n",
       "    </tr>\n",
       "    <tr>\n",
       "      <th>1009</th>\n",
       "      <td>crafts &amp; love</td>\n",
       "      <td>17.0</td>\n",
       "    </tr>\n",
       "    <tr>\n",
       "      <th>1459</th>\n",
       "      <td>fr &amp; co</td>\n",
       "      <td>10.0</td>\n",
       "    </tr>\n",
       "    <tr>\n",
       "      <th>4101</th>\n",
       "      <td>w &amp; p</td>\n",
       "      <td>10.0</td>\n",
       "    </tr>\n",
       "    <tr>\n",
       "      <th>2007</th>\n",
       "      <td>june &amp; december</td>\n",
       "      <td>9.0</td>\n",
       "    </tr>\n",
       "    <tr>\n",
       "      <th>4257</th>\n",
       "      <td>wit &amp; delight</td>\n",
       "      <td>8.0</td>\n",
       "    </tr>\n",
       "    <tr>\n",
       "      <th>1453</th>\n",
       "      <td>foster &amp; rye</td>\n",
       "      <td>7.0</td>\n",
       "    </tr>\n",
       "    <tr>\n",
       "      <th>2598</th>\n",
       "      <td>mr &amp; mrs</td>\n",
       "      <td>7.0</td>\n",
       "    </tr>\n",
       "    <tr>\n",
       "      <th>248</th>\n",
       "      <td>bangle &amp; babe</td>\n",
       "      <td>6.0</td>\n",
       "    </tr>\n",
       "    <tr>\n",
       "      <th>3533</th>\n",
       "      <td>soap &amp; paper factory</td>\n",
       "      <td>6.0</td>\n",
       "    </tr>\n",
       "  </tbody>\n",
       "</table>\n",
       "</div>"
      ],
      "text/plain": [
       "                     query  total_searches\n",
       "813            chloe & lex            22.0\n",
       "1009         crafts & love            17.0\n",
       "1459               fr & co            10.0\n",
       "4101                 w & p            10.0\n",
       "2007       june & december             9.0\n",
       "4257         wit & delight             8.0\n",
       "1453          foster & rye             7.0\n",
       "2598              mr & mrs             7.0\n",
       "248          bangle & babe             6.0\n",
       "3533  soap & paper factory             6.0"
      ]
     },
     "execution_count": 73,
     "metadata": {},
     "output_type": "execute_result"
    }
   ],
   "source": [
    "df.loc[ df['query'].str.contains('\\&'), ['query', 'total_searches'] ].sort_values('total_searches', ascending=False)"
   ]
  },
  {
   "cell_type": "code",
   "execution_count": 74,
   "metadata": {},
   "outputs": [
    {
     "data": {
      "text/html": [
       "<div>\n",
       "<style scoped>\n",
       "    .dataframe tbody tr th:only-of-type {\n",
       "        vertical-align: middle;\n",
       "    }\n",
       "\n",
       "    .dataframe tbody tr th {\n",
       "        vertical-align: top;\n",
       "    }\n",
       "\n",
       "    .dataframe thead th {\n",
       "        text-align: right;\n",
       "    }\n",
       "</style>\n",
       "<table border=\"1\" class=\"dataframe\">\n",
       "  <thead>\n",
       "    <tr style=\"text-align: right;\">\n",
       "      <th></th>\n",
       "      <th>query</th>\n",
       "      <th>total_searches</th>\n",
       "    </tr>\n",
       "  </thead>\n",
       "  <tbody>\n",
       "  </tbody>\n",
       "</table>\n",
       "</div>"
      ],
      "text/plain": [
       "Empty DataFrame\n",
       "Columns: [query, total_searches]\n",
       "Index: []"
      ]
     },
     "execution_count": 74,
     "metadata": {},
     "output_type": "execute_result"
    }
   ],
   "source": [
    "df.loc[ df['query'].str.contains('\\^'), ['query', 'total_searches'] ].sort_values('total_searches', ascending=False)"
   ]
  },
  {
   "cell_type": "code",
   "execution_count": 75,
   "metadata": {},
   "outputs": [
    {
     "data": {
      "text/html": [
       "<div>\n",
       "<style scoped>\n",
       "    .dataframe tbody tr th:only-of-type {\n",
       "        vertical-align: middle;\n",
       "    }\n",
       "\n",
       "    .dataframe tbody tr th {\n",
       "        vertical-align: top;\n",
       "    }\n",
       "\n",
       "    .dataframe thead th {\n",
       "        text-align: right;\n",
       "    }\n",
       "</style>\n",
       "<table border=\"1\" class=\"dataframe\">\n",
       "  <thead>\n",
       "    <tr style=\"text-align: right;\">\n",
       "      <th></th>\n",
       "      <th>query</th>\n",
       "      <th>total_searches</th>\n",
       "    </tr>\n",
       "  </thead>\n",
       "  <tbody>\n",
       "  </tbody>\n",
       "</table>\n",
       "</div>"
      ],
      "text/plain": [
       "Empty DataFrame\n",
       "Columns: [query, total_searches]\n",
       "Index: []"
      ]
     },
     "execution_count": 75,
     "metadata": {},
     "output_type": "execute_result"
    }
   ],
   "source": [
    "df.loc[ df['query'].str.contains('\\$'), ['query', 'total_searches'] ].sort_values('total_searches', ascending=False)"
   ]
  },
  {
   "cell_type": "code",
   "execution_count": 76,
   "metadata": {},
   "outputs": [
    {
     "data": {
      "text/html": [
       "<div>\n",
       "<style scoped>\n",
       "    .dataframe tbody tr th:only-of-type {\n",
       "        vertical-align: middle;\n",
       "    }\n",
       "\n",
       "    .dataframe tbody tr th {\n",
       "        vertical-align: top;\n",
       "    }\n",
       "\n",
       "    .dataframe thead th {\n",
       "        text-align: right;\n",
       "    }\n",
       "</style>\n",
       "<table border=\"1\" class=\"dataframe\">\n",
       "  <thead>\n",
       "    <tr style=\"text-align: right;\">\n",
       "      <th></th>\n",
       "      <th>query</th>\n",
       "      <th>total_searches</th>\n",
       "    </tr>\n",
       "  </thead>\n",
       "  <tbody>\n",
       "  </tbody>\n",
       "</table>\n",
       "</div>"
      ],
      "text/plain": [
       "Empty DataFrame\n",
       "Columns: [query, total_searches]\n",
       "Index: []"
      ]
     },
     "execution_count": 76,
     "metadata": {},
     "output_type": "execute_result"
    }
   ],
   "source": [
    "df.loc[ df['query'].str.contains('\\%'), ['query', 'total_searches'] ].sort_values('total_searches', ascending=False)"
   ]
  },
  {
   "cell_type": "code",
   "execution_count": 77,
   "metadata": {},
   "outputs": [
    {
     "data": {
      "text/html": [
       "<div>\n",
       "<style scoped>\n",
       "    .dataframe tbody tr th:only-of-type {\n",
       "        vertical-align: middle;\n",
       "    }\n",
       "\n",
       "    .dataframe tbody tr th {\n",
       "        vertical-align: top;\n",
       "    }\n",
       "\n",
       "    .dataframe thead th {\n",
       "        text-align: right;\n",
       "    }\n",
       "</style>\n",
       "<table border=\"1\" class=\"dataframe\">\n",
       "  <thead>\n",
       "    <tr style=\"text-align: right;\">\n",
       "      <th></th>\n",
       "      <th>query</th>\n",
       "      <th>total_searches</th>\n",
       "    </tr>\n",
       "  </thead>\n",
       "  <tbody>\n",
       "  </tbody>\n",
       "</table>\n",
       "</div>"
      ],
      "text/plain": [
       "Empty DataFrame\n",
       "Columns: [query, total_searches]\n",
       "Index: []"
      ]
     },
     "execution_count": 77,
     "metadata": {},
     "output_type": "execute_result"
    }
   ],
   "source": [
    "df.loc[ df['query'].str.contains(\"\\\"\"), ['query', 'total_searches'] ].sort_values('total_searches', ascending=False)"
   ]
  },
  {
   "cell_type": "code",
   "execution_count": 78,
   "metadata": {},
   "outputs": [
    {
     "data": {
      "text/html": [
       "<div>\n",
       "<style scoped>\n",
       "    .dataframe tbody tr th:only-of-type {\n",
       "        vertical-align: middle;\n",
       "    }\n",
       "\n",
       "    .dataframe tbody tr th {\n",
       "        vertical-align: top;\n",
       "    }\n",
       "\n",
       "    .dataframe thead th {\n",
       "        text-align: right;\n",
       "    }\n",
       "</style>\n",
       "<table border=\"1\" class=\"dataframe\">\n",
       "  <thead>\n",
       "    <tr style=\"text-align: right;\">\n",
       "      <th></th>\n",
       "      <th>query</th>\n",
       "      <th>total_searches</th>\n",
       "    </tr>\n",
       "  </thead>\n",
       "  <tbody>\n",
       "  </tbody>\n",
       "</table>\n",
       "</div>"
      ],
      "text/plain": [
       "Empty DataFrame\n",
       "Columns: [query, total_searches]\n",
       "Index: []"
      ]
     },
     "execution_count": 78,
     "metadata": {},
     "output_type": "execute_result"
    }
   ],
   "source": [
    "df.loc[ df['query'].str.contains(\"\\(\"), ['query', 'total_searches'] ].sort_values('total_searches', ascending=False)"
   ]
  },
  {
   "cell_type": "code",
   "execution_count": 79,
   "metadata": {},
   "outputs": [
    {
     "data": {
      "text/html": [
       "<div>\n",
       "<style scoped>\n",
       "    .dataframe tbody tr th:only-of-type {\n",
       "        vertical-align: middle;\n",
       "    }\n",
       "\n",
       "    .dataframe tbody tr th {\n",
       "        vertical-align: top;\n",
       "    }\n",
       "\n",
       "    .dataframe thead th {\n",
       "        text-align: right;\n",
       "    }\n",
       "</style>\n",
       "<table border=\"1\" class=\"dataframe\">\n",
       "  <thead>\n",
       "    <tr style=\"text-align: right;\">\n",
       "      <th></th>\n",
       "      <th>query</th>\n",
       "      <th>total_searches</th>\n",
       "    </tr>\n",
       "  </thead>\n",
       "  <tbody>\n",
       "  </tbody>\n",
       "</table>\n",
       "</div>"
      ],
      "text/plain": [
       "Empty DataFrame\n",
       "Columns: [query, total_searches]\n",
       "Index: []"
      ]
     },
     "execution_count": 79,
     "metadata": {},
     "output_type": "execute_result"
    }
   ],
   "source": [
    "df.loc[ df['query'].str.contains(\"\\\"\"), ['query', 'total_searches'] ].sort_values('total_searches', ascending=False)"
   ]
  },
  {
   "cell_type": "markdown",
   "metadata": {},
   "source": [
    "# Words now missing from original list sorted by total searches"
   ]
  },
  {
   "cell_type": "code",
   "execution_count": 80,
   "metadata": {},
   "outputs": [
    {
     "data": {
      "text/html": [
       "<div>\n",
       "<style scoped>\n",
       "    .dataframe tbody tr th:only-of-type {\n",
       "        vertical-align: middle;\n",
       "    }\n",
       "\n",
       "    .dataframe tbody tr th {\n",
       "        vertical-align: top;\n",
       "    }\n",
       "\n",
       "    .dataframe thead th {\n",
       "        text-align: right;\n",
       "    }\n",
       "</style>\n",
       "<table border=\"1\" class=\"dataframe\">\n",
       "  <thead>\n",
       "    <tr style=\"text-align: right;\">\n",
       "      <th></th>\n",
       "      <th>query</th>\n",
       "      <th>total_searches</th>\n",
       "      <th>total_conversion</th>\n",
       "    </tr>\n",
       "  </thead>\n",
       "  <tbody>\n",
       "    <tr>\n",
       "      <th>3</th>\n",
       "      <td>candle</td>\n",
       "      <td>825.0</td>\n",
       "      <td>0.715152</td>\n",
       "    </tr>\n",
       "    <tr>\n",
       "      <th>22</th>\n",
       "      <td>bath bomb</td>\n",
       "      <td>401.0</td>\n",
       "      <td>0.768080</td>\n",
       "    </tr>\n",
       "    <tr>\n",
       "      <th>25</th>\n",
       "      <td>mug</td>\n",
       "      <td>371.0</td>\n",
       "      <td>0.719677</td>\n",
       "    </tr>\n",
       "    <tr>\n",
       "      <th>43</th>\n",
       "      <td>pillow</td>\n",
       "      <td>323.0</td>\n",
       "      <td>0.625387</td>\n",
       "    </tr>\n",
       "    <tr>\n",
       "      <th>59</th>\n",
       "      <td>tea towel</td>\n",
       "      <td>235.0</td>\n",
       "      <td>0.685106</td>\n",
       "    </tr>\n",
       "    <tr>\n",
       "      <th>82</th>\n",
       "      <td>crystal</td>\n",
       "      <td>217.0</td>\n",
       "      <td>0.691244</td>\n",
       "    </tr>\n",
       "    <tr>\n",
       "      <th>94</th>\n",
       "      <td>ceramic</td>\n",
       "      <td>192.0</td>\n",
       "      <td>0.692708</td>\n",
       "    </tr>\n",
       "    <tr>\n",
       "      <th>95</th>\n",
       "      <td>plant</td>\n",
       "      <td>198.0</td>\n",
       "      <td>0.681818</td>\n",
       "    </tr>\n",
       "    <tr>\n",
       "      <th>98</th>\n",
       "      <td>hat</td>\n",
       "      <td>191.0</td>\n",
       "      <td>0.549738</td>\n",
       "    </tr>\n",
       "    <tr>\n",
       "      <th>101</th>\n",
       "      <td>essential oil</td>\n",
       "      <td>186.0</td>\n",
       "      <td>0.768817</td>\n",
       "    </tr>\n",
       "    <tr>\n",
       "      <th>113</th>\n",
       "      <td>bag</td>\n",
       "      <td>166.0</td>\n",
       "      <td>0.644578</td>\n",
       "    </tr>\n",
       "    <tr>\n",
       "      <th>117</th>\n",
       "      <td>book</td>\n",
       "      <td>174.0</td>\n",
       "      <td>0.614943</td>\n",
       "    </tr>\n",
       "    <tr>\n",
       "      <th>118</th>\n",
       "      <td>coffee mug</td>\n",
       "      <td>146.0</td>\n",
       "      <td>0.719178</td>\n",
       "    </tr>\n",
       "    <tr>\n",
       "      <th>134</th>\n",
       "      <td>towel</td>\n",
       "      <td>143.0</td>\n",
       "      <td>0.650350</td>\n",
       "    </tr>\n",
       "    <tr>\n",
       "      <th>169</th>\n",
       "      <td>bath salt</td>\n",
       "      <td>115.0</td>\n",
       "      <td>0.852174</td>\n",
       "    </tr>\n",
       "    <tr>\n",
       "      <th>174</th>\n",
       "      <td>straw</td>\n",
       "      <td>132.0</td>\n",
       "      <td>0.719697</td>\n",
       "    </tr>\n",
       "    <tr>\n",
       "      <th>184</th>\n",
       "      <td>rug</td>\n",
       "      <td>134.0</td>\n",
       "      <td>0.611940</td>\n",
       "    </tr>\n",
       "    <tr>\n",
       "      <th>212</th>\n",
       "      <td>pen</td>\n",
       "      <td>120.0</td>\n",
       "      <td>0.633333</td>\n",
       "    </tr>\n",
       "    <tr>\n",
       "      <th>228</th>\n",
       "      <td>pet</td>\n",
       "      <td>111.0</td>\n",
       "      <td>0.585586</td>\n",
       "    </tr>\n",
       "    <tr>\n",
       "      <th>248</th>\n",
       "      <td>sticker</td>\n",
       "      <td>91.0</td>\n",
       "      <td>0.758242</td>\n",
       "    </tr>\n",
       "    <tr>\n",
       "      <th>258</th>\n",
       "      <td>handbag</td>\n",
       "      <td>95.0</td>\n",
       "      <td>0.757895</td>\n",
       "    </tr>\n",
       "    <tr>\n",
       "      <th>265</th>\n",
       "      <td>headband</td>\n",
       "      <td>95.0</td>\n",
       "      <td>0.631579</td>\n",
       "    </tr>\n",
       "    <tr>\n",
       "      <th>273</th>\n",
       "      <td>enamel pin</td>\n",
       "      <td>84.0</td>\n",
       "      <td>0.738095</td>\n",
       "    </tr>\n",
       "    <tr>\n",
       "      <th>330</th>\n",
       "      <td>flower</td>\n",
       "      <td>76.0</td>\n",
       "      <td>0.618421</td>\n",
       "    </tr>\n",
       "    <tr>\n",
       "      <th>370</th>\n",
       "      <td>greeting card</td>\n",
       "      <td>66.0</td>\n",
       "      <td>0.757576</td>\n",
       "    </tr>\n",
       "    <tr>\n",
       "      <th>374</th>\n",
       "      <td>sign</td>\n",
       "      <td>78.0</td>\n",
       "      <td>0.666667</td>\n",
       "    </tr>\n",
       "    <tr>\n",
       "      <th>408</th>\n",
       "      <td>card</td>\n",
       "      <td>65.0</td>\n",
       "      <td>0.538462</td>\n",
       "    </tr>\n",
       "    <tr>\n",
       "      <th>416</th>\n",
       "      <td>pencil</td>\n",
       "      <td>66.0</td>\n",
       "      <td>0.772727</td>\n",
       "    </tr>\n",
       "    <tr>\n",
       "      <th>417</th>\n",
       "      <td>bracelet</td>\n",
       "      <td>65.0</td>\n",
       "      <td>0.707692</td>\n",
       "    </tr>\n",
       "    <tr>\n",
       "      <th>425</th>\n",
       "      <td>coaster</td>\n",
       "      <td>71.0</td>\n",
       "      <td>0.563380</td>\n",
       "    </tr>\n",
       "    <tr>\n",
       "      <th>464</th>\n",
       "      <td>cup</td>\n",
       "      <td>67.0</td>\n",
       "      <td>0.582090</td>\n",
       "    </tr>\n",
       "    <tr>\n",
       "      <th>474</th>\n",
       "      <td>soy candle</td>\n",
       "      <td>58.0</td>\n",
       "      <td>0.775862</td>\n",
       "    </tr>\n",
       "    <tr>\n",
       "      <th>485</th>\n",
       "      <td>coffee cup</td>\n",
       "      <td>59.0</td>\n",
       "      <td>0.644068</td>\n",
       "    </tr>\n",
       "    <tr>\n",
       "      <th>493</th>\n",
       "      <td>magnet</td>\n",
       "      <td>59.0</td>\n",
       "      <td>0.677966</td>\n",
       "    </tr>\n",
       "    <tr>\n",
       "      <th>496</th>\n",
       "      <td>shirt</td>\n",
       "      <td>60.0</td>\n",
       "      <td>0.683333</td>\n",
       "    </tr>\n",
       "    <tr>\n",
       "      <th>508</th>\n",
       "      <td>frame</td>\n",
       "      <td>53.0</td>\n",
       "      <td>0.603774</td>\n",
       "    </tr>\n",
       "    <tr>\n",
       "      <th>509</th>\n",
       "      <td>gift</td>\n",
       "      <td>64.0</td>\n",
       "      <td>0.640625</td>\n",
       "    </tr>\n",
       "    <tr>\n",
       "      <th>536</th>\n",
       "      <td>gift bag</td>\n",
       "      <td>57.0</td>\n",
       "      <td>0.684211</td>\n",
       "    </tr>\n",
       "    <tr>\n",
       "      <th>551</th>\n",
       "      <td>pot</td>\n",
       "      <td>60.0</td>\n",
       "      <td>0.583333</td>\n",
       "    </tr>\n",
       "    <tr>\n",
       "      <th>571</th>\n",
       "      <td>seed</td>\n",
       "      <td>55.0</td>\n",
       "      <td>0.581818</td>\n",
       "    </tr>\n",
       "    <tr>\n",
       "      <th>572</th>\n",
       "      <td>puzzle</td>\n",
       "      <td>55.0</td>\n",
       "      <td>0.600000</td>\n",
       "    </tr>\n",
       "    <tr>\n",
       "      <th>711</th>\n",
       "      <td>ring</td>\n",
       "      <td>53.0</td>\n",
       "      <td>0.622642</td>\n",
       "    </tr>\n",
       "  </tbody>\n",
       "</table>\n",
       "</div>"
      ],
      "text/plain": [
       "              query  total_searches  total_conversion\n",
       "3            candle           825.0          0.715152\n",
       "22        bath bomb           401.0          0.768080\n",
       "25              mug           371.0          0.719677\n",
       "43           pillow           323.0          0.625387\n",
       "59        tea towel           235.0          0.685106\n",
       "82          crystal           217.0          0.691244\n",
       "94          ceramic           192.0          0.692708\n",
       "95            plant           198.0          0.681818\n",
       "98              hat           191.0          0.549738\n",
       "101   essential oil           186.0          0.768817\n",
       "113             bag           166.0          0.644578\n",
       "117            book           174.0          0.614943\n",
       "118      coffee mug           146.0          0.719178\n",
       "134           towel           143.0          0.650350\n",
       "169      bath salt            115.0          0.852174\n",
       "174           straw           132.0          0.719697\n",
       "184             rug           134.0          0.611940\n",
       "212             pen           120.0          0.633333\n",
       "228             pet           111.0          0.585586\n",
       "248         sticker            91.0          0.758242\n",
       "258         handbag            95.0          0.757895\n",
       "265        headband            95.0          0.631579\n",
       "273      enamel pin            84.0          0.738095\n",
       "330          flower            76.0          0.618421\n",
       "370  greeting card             66.0          0.757576\n",
       "374            sign            78.0          0.666667\n",
       "408            card            65.0          0.538462\n",
       "416         pencil             66.0          0.772727\n",
       "417        bracelet            65.0          0.707692\n",
       "425         coaster            71.0          0.563380\n",
       "464             cup            67.0          0.582090\n",
       "474      soy candle            58.0          0.775862\n",
       "485      coffee cup            59.0          0.644068\n",
       "493          magnet            59.0          0.677966\n",
       "496          shirt             60.0          0.683333\n",
       "508           frame            53.0          0.603774\n",
       "509            gift            64.0          0.640625\n",
       "536        gift bag            57.0          0.684211\n",
       "551             pot            60.0          0.583333\n",
       "571            seed            55.0          0.581818\n",
       "572          puzzle            55.0          0.600000\n",
       "711            ring            53.0          0.622642"
      ]
     },
     "execution_count": 80,
     "metadata": {},
     "output_type": "execute_result"
    }
   ],
   "source": [
    "df_untouched.loc[(~df_untouched['query'].str.strip().isin(df['query']))\n",
    "                 & ((df_untouched['query'].str.strip()+'s').isin(df['query']))\n",
    "                 & (df_untouched['total_searches']>50)\n",
    "                 , ['query', 'total_searches', 'total_conversion']]"
   ]
  },
  {
   "cell_type": "code",
   "execution_count": 81,
   "metadata": {},
   "outputs": [
    {
     "data": {
      "text/plain": [
       "True"
      ]
     },
     "execution_count": 81,
     "metadata": {},
     "output_type": "execute_result"
    }
   ],
   "source": [
    "'tea towels' in df['query'].values"
   ]
  },
  {
   "cell_type": "code",
   "execution_count": 82,
   "metadata": {},
   "outputs": [
    {
     "data": {
      "text/html": [
       "<div>\n",
       "<style scoped>\n",
       "    .dataframe tbody tr th:only-of-type {\n",
       "        vertical-align: middle;\n",
       "    }\n",
       "\n",
       "    .dataframe tbody tr th {\n",
       "        vertical-align: top;\n",
       "    }\n",
       "\n",
       "    .dataframe thead th {\n",
       "        text-align: right;\n",
       "    }\n",
       "</style>\n",
       "<table border=\"1\" class=\"dataframe\">\n",
       "  <thead>\n",
       "    <tr style=\"text-align: right;\">\n",
       "      <th></th>\n",
       "      <th>query</th>\n",
       "      <th>total_searches</th>\n",
       "      <th>total_conversion</th>\n",
       "    </tr>\n",
       "  </thead>\n",
       "  <tbody>\n",
       "    <tr>\n",
       "      <th>13</th>\n",
       "      <td>valentines</td>\n",
       "      <td>415.0</td>\n",
       "      <td>0.754217</td>\n",
       "    </tr>\n",
       "    <tr>\n",
       "      <th>39</th>\n",
       "      <td>journals</td>\n",
       "      <td>297.0</td>\n",
       "      <td>0.787879</td>\n",
       "    </tr>\n",
       "    <tr>\n",
       "      <th>54</th>\n",
       "      <td>planters</td>\n",
       "      <td>252.0</td>\n",
       "      <td>0.797619</td>\n",
       "    </tr>\n",
       "    <tr>\n",
       "      <th>56</th>\n",
       "      <td>baskets</td>\n",
       "      <td>260.0</td>\n",
       "      <td>0.707692</td>\n",
       "    </tr>\n",
       "    <tr>\n",
       "      <th>79</th>\n",
       "      <td>purses</td>\n",
       "      <td>212.0</td>\n",
       "      <td>0.693396</td>\n",
       "    </tr>\n",
       "    <tr>\n",
       "      <th>81</th>\n",
       "      <td>chocolates</td>\n",
       "      <td>179.0</td>\n",
       "      <td>0.854749</td>\n",
       "    </tr>\n",
       "    <tr>\n",
       "      <th>100</th>\n",
       "      <td>blankets</td>\n",
       "      <td>181.0</td>\n",
       "      <td>0.668508</td>\n",
       "    </tr>\n",
       "    <tr>\n",
       "      <th>112</th>\n",
       "      <td>soaps</td>\n",
       "      <td>155.0</td>\n",
       "      <td>0.793548</td>\n",
       "    </tr>\n",
       "    <tr>\n",
       "      <th>119</th>\n",
       "      <td>notebooks</td>\n",
       "      <td>148.0</td>\n",
       "      <td>0.831081</td>\n",
       "    </tr>\n",
       "    <tr>\n",
       "      <th>130</th>\n",
       "      <td>hearts</td>\n",
       "      <td>120.0</td>\n",
       "      <td>0.816667</td>\n",
       "    </tr>\n",
       "    <tr>\n",
       "      <th>145</th>\n",
       "      <td>diffusers</td>\n",
       "      <td>126.0</td>\n",
       "      <td>0.730159</td>\n",
       "    </tr>\n",
       "    <tr>\n",
       "      <th>181</th>\n",
       "      <td>vases</td>\n",
       "      <td>120.0</td>\n",
       "      <td>0.766667</td>\n",
       "    </tr>\n",
       "    <tr>\n",
       "      <th>187</th>\n",
       "      <td>aprons</td>\n",
       "      <td>114.0</td>\n",
       "      <td>0.789474</td>\n",
       "    </tr>\n",
       "    <tr>\n",
       "      <th>193</th>\n",
       "      <td>wallets</td>\n",
       "      <td>103.0</td>\n",
       "      <td>0.757282</td>\n",
       "    </tr>\n",
       "    <tr>\n",
       "      <th>213</th>\n",
       "      <td>samples</td>\n",
       "      <td>99.0</td>\n",
       "      <td>0.696970</td>\n",
       "    </tr>\n",
       "    <tr>\n",
       "      <th>215</th>\n",
       "      <td>succulents</td>\n",
       "      <td>103.0</td>\n",
       "      <td>0.776699</td>\n",
       "    </tr>\n",
       "    <tr>\n",
       "      <th>216</th>\n",
       "      <td>tote bags</td>\n",
       "      <td>116.0</td>\n",
       "      <td>0.637931</td>\n",
       "    </tr>\n",
       "    <tr>\n",
       "      <th>219</th>\n",
       "      <td>dogs</td>\n",
       "      <td>95.0</td>\n",
       "      <td>0.663158</td>\n",
       "    </tr>\n",
       "    <tr>\n",
       "      <th>261</th>\n",
       "      <td>totes</td>\n",
       "      <td>97.0</td>\n",
       "      <td>0.628866</td>\n",
       "    </tr>\n",
       "    <tr>\n",
       "      <th>272</th>\n",
       "      <td>tumblers</td>\n",
       "      <td>85.0</td>\n",
       "      <td>0.776471</td>\n",
       "    </tr>\n",
       "    <tr>\n",
       "      <th>278</th>\n",
       "      <td>lip balms</td>\n",
       "      <td>73.0</td>\n",
       "      <td>0.794521</td>\n",
       "    </tr>\n",
       "    <tr>\n",
       "      <th>327</th>\n",
       "      <td>throws</td>\n",
       "      <td>85.0</td>\n",
       "      <td>0.752941</td>\n",
       "    </tr>\n",
       "    <tr>\n",
       "      <th>335</th>\n",
       "      <td>robes</td>\n",
       "      <td>88.0</td>\n",
       "      <td>0.693182</td>\n",
       "    </tr>\n",
       "    <tr>\n",
       "      <th>366</th>\n",
       "      <td>planners</td>\n",
       "      <td>69.0</td>\n",
       "      <td>0.782609</td>\n",
       "    </tr>\n",
       "    <tr>\n",
       "      <th>401</th>\n",
       "      <td>air plants</td>\n",
       "      <td>63.0</td>\n",
       "      <td>0.841270</td>\n",
       "    </tr>\n",
       "    <tr>\n",
       "      <th>438</th>\n",
       "      <td>necklaces</td>\n",
       "      <td>68.0</td>\n",
       "      <td>0.705882</td>\n",
       "    </tr>\n",
       "    <tr>\n",
       "      <th>451</th>\n",
       "      <td>shower steamers</td>\n",
       "      <td>58.0</td>\n",
       "      <td>0.793103</td>\n",
       "    </tr>\n",
       "    <tr>\n",
       "      <th>452</th>\n",
       "      <td>hair ties</td>\n",
       "      <td>54.0</td>\n",
       "      <td>0.648148</td>\n",
       "    </tr>\n",
       "    <tr>\n",
       "      <th>473</th>\n",
       "      <td>lamps</td>\n",
       "      <td>63.0</td>\n",
       "      <td>0.555556</td>\n",
       "    </tr>\n",
       "    <tr>\n",
       "      <th>476</th>\n",
       "      <td>wood signs</td>\n",
       "      <td>58.0</td>\n",
       "      <td>0.758621</td>\n",
       "    </tr>\n",
       "    <tr>\n",
       "      <th>481</th>\n",
       "      <td>candle holders</td>\n",
       "      <td>61.0</td>\n",
       "      <td>0.786885</td>\n",
       "    </tr>\n",
       "    <tr>\n",
       "      <th>504</th>\n",
       "      <td>bees</td>\n",
       "      <td>63.0</td>\n",
       "      <td>0.809524</td>\n",
       "    </tr>\n",
       "    <tr>\n",
       "      <th>511</th>\n",
       "      <td>water bottles</td>\n",
       "      <td>60.0</td>\n",
       "      <td>0.583333</td>\n",
       "    </tr>\n",
       "    <tr>\n",
       "      <th>527</th>\n",
       "      <td>picture frames</td>\n",
       "      <td>55.0</td>\n",
       "      <td>0.672727</td>\n",
       "    </tr>\n",
       "    <tr>\n",
       "      <th>557</th>\n",
       "      <td>leather bags</td>\n",
       "      <td>58.0</td>\n",
       "      <td>0.758621</td>\n",
       "    </tr>\n",
       "    <tr>\n",
       "      <th>574</th>\n",
       "      <td>cutting boards</td>\n",
       "      <td>51.0</td>\n",
       "      <td>0.764706</td>\n",
       "    </tr>\n",
       "    <tr>\n",
       "      <th>626</th>\n",
       "      <td>wreaths</td>\n",
       "      <td>53.0</td>\n",
       "      <td>0.622642</td>\n",
       "    </tr>\n",
       "  </tbody>\n",
       "</table>\n",
       "</div>"
      ],
      "text/plain": [
       "               query  total_searches  total_conversion\n",
       "13        valentines           415.0          0.754217\n",
       "39          journals           297.0          0.787879\n",
       "54          planters           252.0          0.797619\n",
       "56           baskets           260.0          0.707692\n",
       "79            purses           212.0          0.693396\n",
       "81        chocolates           179.0          0.854749\n",
       "100         blankets           181.0          0.668508\n",
       "112            soaps           155.0          0.793548\n",
       "119        notebooks           148.0          0.831081\n",
       "130           hearts           120.0          0.816667\n",
       "145        diffusers           126.0          0.730159\n",
       "181            vases           120.0          0.766667\n",
       "187           aprons           114.0          0.789474\n",
       "193          wallets           103.0          0.757282\n",
       "213          samples            99.0          0.696970\n",
       "215       succulents           103.0          0.776699\n",
       "216        tote bags           116.0          0.637931\n",
       "219             dogs            95.0          0.663158\n",
       "261            totes            97.0          0.628866\n",
       "272         tumblers            85.0          0.776471\n",
       "278        lip balms            73.0          0.794521\n",
       "327           throws            85.0          0.752941\n",
       "335            robes            88.0          0.693182\n",
       "366         planners            69.0          0.782609\n",
       "401       air plants            63.0          0.841270\n",
       "438        necklaces            68.0          0.705882\n",
       "451  shower steamers            58.0          0.793103\n",
       "452        hair ties            54.0          0.648148\n",
       "473            lamps            63.0          0.555556\n",
       "476       wood signs            58.0          0.758621\n",
       "481   candle holders            61.0          0.786885\n",
       "504             bees            63.0          0.809524\n",
       "511    water bottles            60.0          0.583333\n",
       "527   picture frames            55.0          0.672727\n",
       "557     leather bags            58.0          0.758621\n",
       "574   cutting boards            51.0          0.764706\n",
       "626          wreaths            53.0          0.622642"
      ]
     },
     "execution_count": 82,
     "metadata": {},
     "output_type": "execute_result"
    }
   ],
   "source": [
    "df_untouched.loc[~(df_untouched['query'].str.strip().isin(df['query']))\n",
    "                 & ((df_untouched['query'].str.rstrip('s')).isin(df['query']))\n",
    "                 & (df_untouched['total_searches']>50)\n",
    "                 , ['query', 'total_searches', 'total_conversion']]"
   ]
  },
  {
   "cell_type": "code",
   "execution_count": 83,
   "metadata": {},
   "outputs": [
    {
     "data": {
      "text/html": [
       "<div>\n",
       "<style scoped>\n",
       "    .dataframe tbody tr th:only-of-type {\n",
       "        vertical-align: middle;\n",
       "    }\n",
       "\n",
       "    .dataframe tbody tr th {\n",
       "        vertical-align: top;\n",
       "    }\n",
       "\n",
       "    .dataframe thead th {\n",
       "        text-align: right;\n",
       "    }\n",
       "</style>\n",
       "<table border=\"1\" class=\"dataframe\">\n",
       "  <thead>\n",
       "    <tr style=\"text-align: right;\">\n",
       "      <th></th>\n",
       "      <th>query</th>\n",
       "      <th>total_searches</th>\n",
       "      <th>total_conversion</th>\n",
       "    </tr>\n",
       "  </thead>\n",
       "  <tbody>\n",
       "    <tr>\n",
       "      <th>9</th>\n",
       "      <td>cbd</td>\n",
       "      <td>621.0</td>\n",
       "      <td>0.766506</td>\n",
       "    </tr>\n",
       "    <tr>\n",
       "      <th>10</th>\n",
       "      <td>undefined</td>\n",
       "      <td>655.0</td>\n",
       "      <td>0.381679</td>\n",
       "    </tr>\n",
       "    <tr>\n",
       "      <th>18</th>\n",
       "      <td>valentines day</td>\n",
       "      <td>369.0</td>\n",
       "      <td>0.753388</td>\n",
       "    </tr>\n",
       "    <tr>\n",
       "      <th>49</th>\n",
       "      <td>spongelle</td>\n",
       "      <td>291.0</td>\n",
       "      <td>0.766323</td>\n",
       "    </tr>\n",
       "    <tr>\n",
       "      <th>74</th>\n",
       "      <td>boho</td>\n",
       "      <td>217.0</td>\n",
       "      <td>0.764977</td>\n",
       "    </tr>\n",
       "    <tr>\n",
       "      <th>121</th>\n",
       "      <td>finchberry</td>\n",
       "      <td>151.0</td>\n",
       "      <td>0.761589</td>\n",
       "    </tr>\n",
       "    <tr>\n",
       "      <th>137</th>\n",
       "      <td>keychain</td>\n",
       "      <td>141.0</td>\n",
       "      <td>0.737589</td>\n",
       "    </tr>\n",
       "    <tr>\n",
       "      <th>149</th>\n",
       "      <td>transpac</td>\n",
       "      <td>150.0</td>\n",
       "      <td>0.746667</td>\n",
       "    </tr>\n",
       "    <tr>\n",
       "      <th>188</th>\n",
       "      <td>mens</td>\n",
       "      <td>116.0</td>\n",
       "      <td>0.741379</td>\n",
       "    </tr>\n",
       "    <tr>\n",
       "      <th>218</th>\n",
       "      <td>druzy</td>\n",
       "      <td>104.0</td>\n",
       "      <td>0.730769</td>\n",
       "    </tr>\n",
       "    <tr>\n",
       "      <th>233</th>\n",
       "      <td>teether</td>\n",
       "      <td>107.0</td>\n",
       "      <td>0.644860</td>\n",
       "    </tr>\n",
       "    <tr>\n",
       "      <th>243</th>\n",
       "      <td>tshirts</td>\n",
       "      <td>111.0</td>\n",
       "      <td>0.630631</td>\n",
       "    </tr>\n",
       "    <tr>\n",
       "      <th>276</th>\n",
       "      <td>w&amp;p</td>\n",
       "      <td>93.0</td>\n",
       "      <td>0.591398</td>\n",
       "    </tr>\n",
       "    <tr>\n",
       "      <th>277</th>\n",
       "      <td>onesie</td>\n",
       "      <td>98.0</td>\n",
       "      <td>0.683673</td>\n",
       "    </tr>\n",
       "    <tr>\n",
       "      <th>296</th>\n",
       "      <td>maika</td>\n",
       "      <td>89.0</td>\n",
       "      <td>0.707865</td>\n",
       "    </tr>\n",
       "    <tr>\n",
       "      <th>298</th>\n",
       "      <td>leebrick</td>\n",
       "      <td>86.0</td>\n",
       "      <td>0.686047</td>\n",
       "    </tr>\n",
       "    <tr>\n",
       "      <th>300</th>\n",
       "      <td>mayana</td>\n",
       "      <td>77.0</td>\n",
       "      <td>0.779221</td>\n",
       "    </tr>\n",
       "    <tr>\n",
       "      <th>312</th>\n",
       "      <td>tshirt</td>\n",
       "      <td>74.0</td>\n",
       "      <td>0.729730</td>\n",
       "    </tr>\n",
       "    <tr>\n",
       "      <th>316</th>\n",
       "      <td>t shirts</td>\n",
       "      <td>86.0</td>\n",
       "      <td>0.569767</td>\n",
       "    </tr>\n",
       "    <tr>\n",
       "      <th>318</th>\n",
       "      <td>tatine</td>\n",
       "      <td>72.0</td>\n",
       "      <td>0.750000</td>\n",
       "    </tr>\n",
       "  </tbody>\n",
       "</table>\n",
       "</div>"
      ],
      "text/plain": [
       "              query  total_searches  total_conversion\n",
       "9               cbd           621.0          0.766506\n",
       "10        undefined           655.0          0.381679\n",
       "18   valentines day           369.0          0.753388\n",
       "49        spongelle           291.0          0.766323\n",
       "74             boho           217.0          0.764977\n",
       "121      finchberry           151.0          0.761589\n",
       "137        keychain           141.0          0.737589\n",
       "149        transpac           150.0          0.746667\n",
       "188           mens            116.0          0.741379\n",
       "218           druzy           104.0          0.730769\n",
       "233         teether           107.0          0.644860\n",
       "243         tshirts           111.0          0.630631\n",
       "276             w&p            93.0          0.591398\n",
       "277          onesie            98.0          0.683673\n",
       "296           maika            89.0          0.707865\n",
       "298        leebrick            86.0          0.686047\n",
       "300          mayana            77.0          0.779221\n",
       "312          tshirt            74.0          0.729730\n",
       "316        t shirts            86.0          0.569767\n",
       "318          tatine            72.0          0.750000"
      ]
     },
     "execution_count": 83,
     "metadata": {},
     "output_type": "execute_result"
    }
   ],
   "source": [
    "df_untouched.loc[~( (df_untouched['query'].str.strip().isin(df['query']))\n",
    "                  | ((df_untouched['query'].str.strip()+'s').isin(df['query'])) \n",
    "                  | ((df_untouched['query'].str.rstrip('s')).isin(df['query'])) \n",
    "                  )\n",
    "                 & (df_untouched['total_searches']>10)\n",
    "                 , ['query', 'total_searches', 'total_conversion']].head(20)"
   ]
  },
  {
   "cell_type": "code",
   "execution_count": 84,
   "metadata": {},
   "outputs": [
    {
     "data": {
      "text/plain": [
       "True"
      ]
     },
     "execution_count": 84,
     "metadata": {},
     "output_type": "execute_result"
    }
   ],
   "source": [
    "'baby clothes' in df['query'].values"
   ]
  },
  {
   "cell_type": "code",
   "execution_count": 85,
   "metadata": {},
   "outputs": [
    {
     "data": {
      "text/plain": [
       "74"
      ]
     },
     "execution_count": 85,
     "metadata": {},
     "output_type": "execute_result"
    }
   ],
   "source": [
    "df_untouched['query'].str.contains('womens').sum()"
   ]
  },
  {
   "cell_type": "code",
   "execution_count": 86,
   "metadata": {},
   "outputs": [
    {
     "data": {
      "text/plain": [
       "0"
      ]
     },
     "execution_count": 86,
     "metadata": {},
     "output_type": "execute_result"
    }
   ],
   "source": [
    "df['query'].str.contains('womens').sum()"
   ]
  },
  {
   "cell_type": "code",
   "execution_count": 87,
   "metadata": {},
   "outputs": [
    {
     "data": {
      "text/plain": [
       "6"
      ]
     },
     "execution_count": 87,
     "metadata": {},
     "output_type": "execute_result"
    }
   ],
   "source": [
    "df['query'].str.contains(\"women's\").sum()"
   ]
  },
  {
   "cell_type": "code",
   "execution_count": 88,
   "metadata": {},
   "outputs": [
    {
     "data": {
      "text/plain": [
       "4273       women's clothing\n",
       "4268                  women\n",
       "4274          women's shoes\n",
       "4275           women's tops\n",
       "4271        women's apparel\n",
       "4278          women’s shoes\n",
       "4276       women’s clothing\n",
       "4277           women’s hats\n",
       "4272        women's clothes\n",
       "4270    women's accessories\n",
       "Name: query, dtype: object"
      ]
     },
     "execution_count": 88,
     "metadata": {},
     "output_type": "execute_result"
    }
   ],
   "source": [
    "df.loc[df['query'].str.contains('women'), 'query']"
   ]
  },
  {
   "cell_type": "code",
   "execution_count": 89,
   "metadata": {},
   "outputs": [
    {
     "data": {
      "text/plain": [
       "True"
      ]
     },
     "execution_count": 89,
     "metadata": {},
     "output_type": "execute_result"
    }
   ],
   "source": [
    "'cutting board' in df['query'].values"
   ]
  },
  {
   "cell_type": "code",
   "execution_count": 90,
   "metadata": {},
   "outputs": [
    {
     "data": {
      "text/html": [
       "<div>\n",
       "<style scoped>\n",
       "    .dataframe tbody tr th:only-of-type {\n",
       "        vertical-align: middle;\n",
       "    }\n",
       "\n",
       "    .dataframe tbody tr th {\n",
       "        vertical-align: top;\n",
       "    }\n",
       "\n",
       "    .dataframe thead th {\n",
       "        text-align: right;\n",
       "    }\n",
       "</style>\n",
       "<table border=\"1\" class=\"dataframe\">\n",
       "  <thead>\n",
       "    <tr style=\"text-align: right;\">\n",
       "      <th></th>\n",
       "      <th>query</th>\n",
       "      <th>total_searches</th>\n",
       "    </tr>\n",
       "  </thead>\n",
       "  <tbody>\n",
       "    <tr>\n",
       "      <th>1063</th>\n",
       "      <td>cutting board</td>\n",
       "      <td>209.0</td>\n",
       "    </tr>\n",
       "    <tr>\n",
       "      <th>4289</th>\n",
       "      <td>wood cutting board</td>\n",
       "      <td>8.0</td>\n",
       "    </tr>\n",
       "  </tbody>\n",
       "</table>\n",
       "</div>"
      ],
      "text/plain": [
       "                   query  total_searches\n",
       "1063       cutting board           209.0\n",
       "4289  wood cutting board             8.0"
      ]
     },
     "execution_count": 90,
     "metadata": {},
     "output_type": "execute_result"
    }
   ],
   "source": [
    "df.loc[df['query'].str.contains('cutting'), ['query', 'total_searches']]"
   ]
  },
  {
   "cell_type": "code",
   "execution_count": 91,
   "metadata": {},
   "outputs": [
    {
     "data": {
      "text/plain": [
       "(3955,)"
      ]
     },
     "execution_count": 91,
     "metadata": {},
     "output_type": "execute_result"
    }
   ],
   "source": [
    "df['query'].shape"
   ]
  },
  {
   "cell_type": "code",
   "execution_count": 92,
   "metadata": {},
   "outputs": [
    {
     "data": {
      "text/html": [
       "<div>\n",
       "<style scoped>\n",
       "    .dataframe tbody tr th:only-of-type {\n",
       "        vertical-align: middle;\n",
       "    }\n",
       "\n",
       "    .dataframe tbody tr th {\n",
       "        vertical-align: top;\n",
       "    }\n",
       "\n",
       "    .dataframe thead th {\n",
       "        text-align: right;\n",
       "    }\n",
       "</style>\n",
       "<table border=\"1\" class=\"dataframe\">\n",
       "  <thead>\n",
       "    <tr style=\"text-align: right;\">\n",
       "      <th></th>\n",
       "      <th>total_searches</th>\n",
       "      <th>query</th>\n",
       "    </tr>\n",
       "  </thead>\n",
       "  <tbody>\n",
       "    <tr>\n",
       "      <th>4051</th>\n",
       "      <td>848.0</td>\n",
       "      <td>valentine's day</td>\n",
       "    </tr>\n",
       "    <tr>\n",
       "      <th>2441</th>\n",
       "      <td>141.0</td>\n",
       "      <td>men's</td>\n",
       "    </tr>\n",
       "    <tr>\n",
       "      <th>2589</th>\n",
       "      <td>140.0</td>\n",
       "      <td>mother's day</td>\n",
       "    </tr>\n",
       "    <tr>\n",
       "      <th>3614</th>\n",
       "      <td>81.0</td>\n",
       "      <td>st. patrick's day</td>\n",
       "    </tr>\n",
       "    <tr>\n",
       "      <th>4052</th>\n",
       "      <td>58.0</td>\n",
       "      <td>valentine's day cards</td>\n",
       "    </tr>\n",
       "    <tr>\n",
       "      <th>4273</th>\n",
       "      <td>56.0</td>\n",
       "      <td>women's clothing</td>\n",
       "    </tr>\n",
       "    <tr>\n",
       "      <th>4050</th>\n",
       "      <td>52.0</td>\n",
       "      <td>valentine's cards</td>\n",
       "    </tr>\n",
       "    <tr>\n",
       "      <th>2445</th>\n",
       "      <td>39.0</td>\n",
       "      <td>men's grooming</td>\n",
       "    </tr>\n",
       "    <tr>\n",
       "      <th>3613</th>\n",
       "      <td>35.0</td>\n",
       "      <td>st. patrick's</td>\n",
       "    </tr>\n",
       "    <tr>\n",
       "      <th>2447</th>\n",
       "      <td>32.0</td>\n",
       "      <td>men's jewelry</td>\n",
       "    </tr>\n",
       "    <tr>\n",
       "      <th>4274</th>\n",
       "      <td>27.0</td>\n",
       "      <td>women's shoes</td>\n",
       "    </tr>\n",
       "    <tr>\n",
       "      <th>2450</th>\n",
       "      <td>25.0</td>\n",
       "      <td>men's socks</td>\n",
       "    </tr>\n",
       "    <tr>\n",
       "      <th>2452</th>\n",
       "      <td>18.0</td>\n",
       "      <td>men's wallets</td>\n",
       "    </tr>\n",
       "    <tr>\n",
       "      <th>2443</th>\n",
       "      <td>15.0</td>\n",
       "      <td>men's clothing</td>\n",
       "    </tr>\n",
       "    <tr>\n",
       "      <th>4275</th>\n",
       "      <td>13.0</td>\n",
       "      <td>women's tops</td>\n",
       "    </tr>\n",
       "    <tr>\n",
       "      <th>2590</th>\n",
       "      <td>13.0</td>\n",
       "      <td>mother's day cards</td>\n",
       "    </tr>\n",
       "    <tr>\n",
       "      <th>4271</th>\n",
       "      <td>12.0</td>\n",
       "      <td>women's apparel</td>\n",
       "    </tr>\n",
       "    <tr>\n",
       "      <th>2442</th>\n",
       "      <td>11.0</td>\n",
       "      <td>men's bracelet</td>\n",
       "    </tr>\n",
       "    <tr>\n",
       "      <th>3617</th>\n",
       "      <td>10.0</td>\n",
       "      <td>st.. patrick's day</td>\n",
       "    </tr>\n",
       "    <tr>\n",
       "      <th>805</th>\n",
       "      <td>9.0</td>\n",
       "      <td>children's clothing</td>\n",
       "    </tr>\n",
       "  </tbody>\n",
       "</table>\n",
       "</div>"
      ],
      "text/plain": [
       "      total_searches                  query\n",
       "4051           848.0        valentine's day\n",
       "2441           141.0                  men's\n",
       "2589           140.0           mother's day\n",
       "3614            81.0      st. patrick's day\n",
       "4052            58.0  valentine's day cards\n",
       "4273            56.0       women's clothing\n",
       "4050            52.0      valentine's cards\n",
       "2445            39.0         men's grooming\n",
       "3613            35.0          st. patrick's\n",
       "2447            32.0          men's jewelry\n",
       "4274            27.0          women's shoes\n",
       "2450            25.0            men's socks\n",
       "2452            18.0          men's wallets\n",
       "2443            15.0         men's clothing\n",
       "4275            13.0           women's tops\n",
       "2590            13.0     mother's day cards\n",
       "4271            12.0        women's apparel\n",
       "2442            11.0         men's bracelet\n",
       "3617            10.0     st.. patrick's day\n",
       "805              9.0    children's clothing"
      ]
     },
     "execution_count": 92,
     "metadata": {},
     "output_type": "execute_result"
    }
   ],
   "source": [
    "df.loc[df['query'].str.contains(\"\\'s\"), ['total_searches', 'query']].sort_values(\n",
    "    by='total_searches', ascending=False).head(20)"
   ]
  },
  {
   "cell_type": "markdown",
   "metadata": {},
   "source": [
    "## Write a final list"
   ]
  },
  {
   "cell_type": "code",
   "execution_count": 93,
   "metadata": {},
   "outputs": [
    {
     "data": {
      "text/plain": [
       "False"
      ]
     },
     "execution_count": 93,
     "metadata": {},
     "output_type": "execute_result"
    }
   ],
   "source": [
    "'hoodie' in df['query'].values"
   ]
  },
  {
   "cell_type": "code",
   "execution_count": 94,
   "metadata": {},
   "outputs": [
    {
     "data": {
      "text/plain": [
       "True"
      ]
     },
     "execution_count": 94,
     "metadata": {},
     "output_type": "execute_result"
    }
   ],
   "source": [
    "\"men's jewelry\" in df['query'].values"
   ]
  },
  {
   "cell_type": "code",
   "execution_count": 95,
   "metadata": {},
   "outputs": [
    {
     "data": {
      "text/plain": [
       "True"
      ]
     },
     "execution_count": 95,
     "metadata": {},
     "output_type": "execute_result"
    }
   ],
   "source": [
    "\"valentine's day cards\" in df['query'].values"
   ]
  },
  {
   "cell_type": "code",
   "execution_count": 96,
   "metadata": {},
   "outputs": [],
   "source": [
    "df['score1'] = df['total_searches']\n",
    "df['score2'] = df['total_searches'] * df['total_conversion']\n",
    "df['score3'] = df['total_searches'] * (1. + 0.5*df['total_conversion'])\n",
    "df['score4'] = df['total_searches'] * (1. + df['total_conversion'])"
   ]
  },
  {
   "cell_type": "code",
   "execution_count": null,
   "metadata": {},
   "outputs": [],
   "source": []
  },
  {
   "cell_type": "code",
   "execution_count": 97,
   "metadata": {},
   "outputs": [
    {
     "data": {
      "text/html": [
       "<div>\n",
       "<style scoped>\n",
       "    .dataframe tbody tr th:only-of-type {\n",
       "        vertical-align: middle;\n",
       "    }\n",
       "\n",
       "    .dataframe tbody tr th {\n",
       "        vertical-align: top;\n",
       "    }\n",
       "\n",
       "    .dataframe thead th {\n",
       "        text-align: right;\n",
       "    }\n",
       "</style>\n",
       "<table border=\"1\" class=\"dataframe\">\n",
       "  <thead>\n",
       "    <tr style=\"text-align: right;\">\n",
       "      <th></th>\n",
       "      <th>query</th>\n",
       "      <th>total_searches</th>\n",
       "      <th>score1</th>\n",
       "      <th>score2</th>\n",
       "      <th>score3</th>\n",
       "      <th>score4</th>\n",
       "    </tr>\n",
       "  </thead>\n",
       "  <tbody>\n",
       "    <tr>\n",
       "      <th>680</th>\n",
       "      <td>candles</td>\n",
       "      <td>2508.0</td>\n",
       "      <td>2508.0</td>\n",
       "      <td>1760.0</td>\n",
       "      <td>3388.0</td>\n",
       "      <td>4268.0</td>\n",
       "    </tr>\n",
       "    <tr>\n",
       "      <th>816</th>\n",
       "      <td>chocolate</td>\n",
       "      <td>1102.0</td>\n",
       "      <td>1102.0</td>\n",
       "      <td>871.0</td>\n",
       "      <td>1537.5</td>\n",
       "      <td>1973.0</td>\n",
       "    </tr>\n",
       "    <tr>\n",
       "      <th>285</th>\n",
       "      <td>bath bombs</td>\n",
       "      <td>1026.0</td>\n",
       "      <td>1026.0</td>\n",
       "      <td>805.0</td>\n",
       "      <td>1428.5</td>\n",
       "      <td>1831.0</td>\n",
       "    </tr>\n",
       "    <tr>\n",
       "      <th>3790</th>\n",
       "      <td>tea</td>\n",
       "      <td>979.0</td>\n",
       "      <td>979.0</td>\n",
       "      <td>678.0</td>\n",
       "      <td>1318.0</td>\n",
       "      <td>1657.0</td>\n",
       "    </tr>\n",
       "    <tr>\n",
       "      <th>3532</th>\n",
       "      <td>soap</td>\n",
       "      <td>925.0</td>\n",
       "      <td>925.0</td>\n",
       "      <td>693.0</td>\n",
       "      <td>1271.5</td>\n",
       "      <td>1618.0</td>\n",
       "    </tr>\n",
       "  </tbody>\n",
       "</table>\n",
       "</div>"
      ],
      "text/plain": [
       "           query  total_searches  score1  score2  score3  score4\n",
       "680      candles          2508.0  2508.0  1760.0  3388.0  4268.0\n",
       "816    chocolate          1102.0  1102.0   871.0  1537.5  1973.0\n",
       "285   bath bombs          1026.0  1026.0   805.0  1428.5  1831.0\n",
       "3790         tea           979.0   979.0   678.0  1318.0  1657.0\n",
       "3532        soap           925.0   925.0   693.0  1271.5  1618.0"
      ]
     },
     "execution_count": 97,
     "metadata": {},
     "output_type": "execute_result"
    }
   ],
   "source": [
    "df[['query', 'total_searches', 'score1', 'score2', 'score3', 'score4']].head()"
   ]
  },
  {
   "cell_type": "code",
   "execution_count": 98,
   "metadata": {},
   "outputs": [
    {
     "data": {
      "text/plain": [
       "(3955, 17)"
      ]
     },
     "execution_count": 98,
     "metadata": {},
     "output_type": "execute_result"
    }
   ],
   "source": [
    "df.shape"
   ]
  },
  {
   "cell_type": "code",
   "execution_count": 99,
   "metadata": {},
   "outputs": [
    {
     "data": {
      "text/html": [
       "<div>\n",
       "<style scoped>\n",
       "    .dataframe tbody tr th:only-of-type {\n",
       "        vertical-align: middle;\n",
       "    }\n",
       "\n",
       "    .dataframe tbody tr th {\n",
       "        vertical-align: top;\n",
       "    }\n",
       "\n",
       "    .dataframe thead th {\n",
       "        text-align: right;\n",
       "    }\n",
       "</style>\n",
       "<table border=\"1\" class=\"dataframe\">\n",
       "  <thead>\n",
       "    <tr style=\"text-align: right;\">\n",
       "      <th></th>\n",
       "      <th>query</th>\n",
       "      <th>total_searches</th>\n",
       "    </tr>\n",
       "  </thead>\n",
       "  <tbody>\n",
       "    <tr>\n",
       "      <th>680</th>\n",
       "      <td>candles</td>\n",
       "      <td>2508.0</td>\n",
       "    </tr>\n",
       "    <tr>\n",
       "      <th>816</th>\n",
       "      <td>chocolate</td>\n",
       "      <td>1102.0</td>\n",
       "    </tr>\n",
       "    <tr>\n",
       "      <th>285</th>\n",
       "      <td>bath bombs</td>\n",
       "      <td>1026.0</td>\n",
       "    </tr>\n",
       "    <tr>\n",
       "      <th>3790</th>\n",
       "      <td>tea</td>\n",
       "      <td>979.0</td>\n",
       "    </tr>\n",
       "    <tr>\n",
       "      <th>3532</th>\n",
       "      <td>soap</td>\n",
       "      <td>925.0</td>\n",
       "    </tr>\n",
       "    <tr>\n",
       "      <th>2608</th>\n",
       "      <td>mugs</td>\n",
       "      <td>882.0</td>\n",
       "    </tr>\n",
       "    <tr>\n",
       "      <th>4051</th>\n",
       "      <td>valentine's day</td>\n",
       "      <td>848.0</td>\n",
       "    </tr>\n",
       "    <tr>\n",
       "      <th>2976</th>\n",
       "      <td>pillows</td>\n",
       "      <td>752.0</td>\n",
       "    </tr>\n",
       "    <tr>\n",
       "      <th>3551</th>\n",
       "      <td>socks</td>\n",
       "      <td>695.0</td>\n",
       "    </tr>\n",
       "    <tr>\n",
       "      <th>2000</th>\n",
       "      <td>journal</td>\n",
       "      <td>651.0</td>\n",
       "    </tr>\n",
       "    <tr>\n",
       "      <th>1229</th>\n",
       "      <td>easter</td>\n",
       "      <td>639.0</td>\n",
       "    </tr>\n",
       "    <tr>\n",
       "      <th>1046</th>\n",
       "      <td>crystals</td>\n",
       "      <td>622.0</td>\n",
       "    </tr>\n",
       "    <tr>\n",
       "      <th>893</th>\n",
       "      <td>coffee</td>\n",
       "      <td>613.0</td>\n",
       "    </tr>\n",
       "    <tr>\n",
       "      <th>3810</th>\n",
       "      <td>tea towels</td>\n",
       "      <td>589.0</td>\n",
       "    </tr>\n",
       "    <tr>\n",
       "      <th>3005</th>\n",
       "      <td>planter</td>\n",
       "      <td>569.0</td>\n",
       "    </tr>\n",
       "    <tr>\n",
       "      <th>161</th>\n",
       "      <td>baby</td>\n",
       "      <td>565.0</td>\n",
       "    </tr>\n",
       "    <tr>\n",
       "      <th>761</th>\n",
       "      <td>ceramics</td>\n",
       "      <td>553.0</td>\n",
       "    </tr>\n",
       "    <tr>\n",
       "      <th>514</th>\n",
       "      <td>books</td>\n",
       "      <td>547.0</td>\n",
       "    </tr>\n",
       "    <tr>\n",
       "      <th>2418</th>\n",
       "      <td>matches</td>\n",
       "      <td>542.0</td>\n",
       "    </tr>\n",
       "    <tr>\n",
       "      <th>1290</th>\n",
       "      <td>essential oils</td>\n",
       "      <td>538.0</td>\n",
       "    </tr>\n",
       "    <tr>\n",
       "      <th>277</th>\n",
       "      <td>basket</td>\n",
       "      <td>537.0</td>\n",
       "    </tr>\n",
       "    <tr>\n",
       "      <th>684</th>\n",
       "      <td>candy</td>\n",
       "      <td>534.0</td>\n",
       "    </tr>\n",
       "    <tr>\n",
       "      <th>720</th>\n",
       "      <td>cards</td>\n",
       "      <td>530.0</td>\n",
       "    </tr>\n",
       "    <tr>\n",
       "      <th>1765</th>\n",
       "      <td>hats</td>\n",
       "      <td>514.0</td>\n",
       "    </tr>\n",
       "    <tr>\n",
       "      <th>3006</th>\n",
       "      <td>plants</td>\n",
       "      <td>465.0</td>\n",
       "    </tr>\n",
       "    <tr>\n",
       "      <th>1978</th>\n",
       "      <td>jewelry</td>\n",
       "      <td>454.0</td>\n",
       "    </tr>\n",
       "    <tr>\n",
       "      <th>3107</th>\n",
       "      <td>purse</td>\n",
       "      <td>451.0</td>\n",
       "    </tr>\n",
       "    <tr>\n",
       "      <th>1146</th>\n",
       "      <td>dog</td>\n",
       "      <td>436.0</td>\n",
       "    </tr>\n",
       "    <tr>\n",
       "      <th>448</th>\n",
       "      <td>blanket</td>\n",
       "      <td>435.0</td>\n",
       "    </tr>\n",
       "    <tr>\n",
       "      <th>2230</th>\n",
       "      <td>lip balm</td>\n",
       "      <td>432.0</td>\n",
       "    </tr>\n",
       "    <tr>\n",
       "      <th>...</th>\n",
       "      <td>...</td>\n",
       "      <td>...</td>\n",
       "    </tr>\n",
       "    <tr>\n",
       "      <th>312</th>\n",
       "      <td>beach</td>\n",
       "      <td>246.0</td>\n",
       "    </tr>\n",
       "    <tr>\n",
       "      <th>3312</th>\n",
       "      <td>scarf</td>\n",
       "      <td>245.0</td>\n",
       "    </tr>\n",
       "    <tr>\n",
       "      <th>1226</th>\n",
       "      <td>earrings</td>\n",
       "      <td>243.0</td>\n",
       "    </tr>\n",
       "    <tr>\n",
       "      <th>3359</th>\n",
       "      <td>seeds</td>\n",
       "      <td>240.0</td>\n",
       "    </tr>\n",
       "    <tr>\n",
       "      <th>3796</th>\n",
       "      <td>tea drops</td>\n",
       "      <td>237.0</td>\n",
       "    </tr>\n",
       "    <tr>\n",
       "      <th>3984</th>\n",
       "      <td>tumbler</td>\n",
       "      <td>235.0</td>\n",
       "    </tr>\n",
       "    <tr>\n",
       "      <th>2942</th>\n",
       "      <td>pets</td>\n",
       "      <td>234.0</td>\n",
       "    </tr>\n",
       "    <tr>\n",
       "      <th>2036</th>\n",
       "      <td>kids</td>\n",
       "      <td>230.0</td>\n",
       "    </tr>\n",
       "    <tr>\n",
       "      <th>1433</th>\n",
       "      <td>flowers</td>\n",
       "      <td>230.0</td>\n",
       "    </tr>\n",
       "    <tr>\n",
       "      <th>1135</th>\n",
       "      <td>display</td>\n",
       "      <td>229.0</td>\n",
       "    </tr>\n",
       "    <tr>\n",
       "      <th>2320</th>\n",
       "      <td>macrame</td>\n",
       "      <td>228.0</td>\n",
       "    </tr>\n",
       "    <tr>\n",
       "      <th>2996</th>\n",
       "      <td>planner</td>\n",
       "      <td>226.0</td>\n",
       "    </tr>\n",
       "    <tr>\n",
       "      <th>2459</th>\n",
       "      <td>mermaid</td>\n",
       "      <td>225.0</td>\n",
       "    </tr>\n",
       "    <tr>\n",
       "      <th>1270</th>\n",
       "      <td>enamel pins</td>\n",
       "      <td>224.0</td>\n",
       "    </tr>\n",
       "    <tr>\n",
       "      <th>3605</th>\n",
       "      <td>spring</td>\n",
       "      <td>221.0</td>\n",
       "    </tr>\n",
       "    <tr>\n",
       "      <th>1320</th>\n",
       "      <td>face mask</td>\n",
       "      <td>220.0</td>\n",
       "    </tr>\n",
       "    <tr>\n",
       "      <th>1502</th>\n",
       "      <td>furniture</td>\n",
       "      <td>220.0</td>\n",
       "    </tr>\n",
       "    <tr>\n",
       "      <th>4118</th>\n",
       "      <td>wallet</td>\n",
       "      <td>218.0</td>\n",
       "    </tr>\n",
       "    <tr>\n",
       "      <th>4081</th>\n",
       "      <td>vintage</td>\n",
       "      <td>216.0</td>\n",
       "    </tr>\n",
       "    <tr>\n",
       "      <th>346</th>\n",
       "      <td>bee</td>\n",
       "      <td>213.0</td>\n",
       "    </tr>\n",
       "    <tr>\n",
       "      <th>2355</th>\n",
       "      <td>makeup</td>\n",
       "      <td>212.0</td>\n",
       "    </tr>\n",
       "    <tr>\n",
       "      <th>2929</th>\n",
       "      <td>perfume</td>\n",
       "      <td>210.0</td>\n",
       "    </tr>\n",
       "    <tr>\n",
       "      <th>3313</th>\n",
       "      <td>scarves</td>\n",
       "      <td>210.0</td>\n",
       "    </tr>\n",
       "    <tr>\n",
       "      <th>1953</th>\n",
       "      <td>jade roller</td>\n",
       "      <td>209.0</td>\n",
       "    </tr>\n",
       "    <tr>\n",
       "      <th>1063</th>\n",
       "      <td>cutting board</td>\n",
       "      <td>209.0</td>\n",
       "    </tr>\n",
       "    <tr>\n",
       "      <th>1778</th>\n",
       "      <td>headbands</td>\n",
       "      <td>209.0</td>\n",
       "    </tr>\n",
       "    <tr>\n",
       "      <th>2353</th>\n",
       "      <td>maker market</td>\n",
       "      <td>208.0</td>\n",
       "    </tr>\n",
       "    <tr>\n",
       "      <th>3211</th>\n",
       "      <td>rings</td>\n",
       "      <td>206.0</td>\n",
       "    </tr>\n",
       "    <tr>\n",
       "      <th>4334</th>\n",
       "      <td>wreath</td>\n",
       "      <td>206.0</td>\n",
       "    </tr>\n",
       "    <tr>\n",
       "      <th>634</th>\n",
       "      <td>cactus</td>\n",
       "      <td>203.0</td>\n",
       "    </tr>\n",
       "  </tbody>\n",
       "</table>\n",
       "<p>100 rows × 2 columns</p>\n",
       "</div>"
      ],
      "text/plain": [
       "                query  total_searches\n",
       "680           candles          2508.0\n",
       "816         chocolate          1102.0\n",
       "285        bath bombs          1026.0\n",
       "3790              tea           979.0\n",
       "3532             soap           925.0\n",
       "2608             mugs           882.0\n",
       "4051  valentine's day           848.0\n",
       "2976          pillows           752.0\n",
       "3551            socks           695.0\n",
       "2000          journal           651.0\n",
       "1229           easter           639.0\n",
       "1046         crystals           622.0\n",
       "893            coffee           613.0\n",
       "3810       tea towels           589.0\n",
       "3005          planter           569.0\n",
       "161              baby           565.0\n",
       "761          ceramics           553.0\n",
       "514             books           547.0\n",
       "2418          matches           542.0\n",
       "1290   essential oils           538.0\n",
       "277            basket           537.0\n",
       "684             candy           534.0\n",
       "720             cards           530.0\n",
       "1765             hats           514.0\n",
       "3006           plants           465.0\n",
       "1978          jewelry           454.0\n",
       "3107            purse           451.0\n",
       "1146              dog           436.0\n",
       "448           blanket           435.0\n",
       "2230         lip balm           432.0\n",
       "...               ...             ...\n",
       "312             beach           246.0\n",
       "3312            scarf           245.0\n",
       "1226         earrings           243.0\n",
       "3359            seeds           240.0\n",
       "3796        tea drops           237.0\n",
       "3984          tumbler           235.0\n",
       "2942             pets           234.0\n",
       "2036             kids           230.0\n",
       "1433          flowers           230.0\n",
       "1135          display           229.0\n",
       "2320          macrame           228.0\n",
       "2996          planner           226.0\n",
       "2459          mermaid           225.0\n",
       "1270      enamel pins           224.0\n",
       "3605           spring           221.0\n",
       "1320        face mask           220.0\n",
       "1502        furniture           220.0\n",
       "4118           wallet           218.0\n",
       "4081          vintage           216.0\n",
       "346               bee           213.0\n",
       "2355           makeup           212.0\n",
       "2929          perfume           210.0\n",
       "3313          scarves           210.0\n",
       "1953      jade roller           209.0\n",
       "1063    cutting board           209.0\n",
       "1778        headbands           209.0\n",
       "2353     maker market           208.0\n",
       "3211            rings           206.0\n",
       "4334           wreath           206.0\n",
       "634            cactus           203.0\n",
       "\n",
       "[100 rows x 2 columns]"
      ]
     },
     "execution_count": 99,
     "metadata": {},
     "output_type": "execute_result"
    }
   ],
   "source": [
    "df[['query', 'total_searches']].head(100)"
   ]
  },
  {
   "cell_type": "code",
   "execution_count": 100,
   "metadata": {},
   "outputs": [
    {
     "data": {
      "text/plain": [
       "3    825.0\n",
       "Name: total_searches, dtype: float64"
      ]
     },
     "execution_count": 100,
     "metadata": {},
     "output_type": "execute_result"
    }
   ],
   "source": [
    "df_untouched.loc[df_untouched['query']=='candle', 'total_searches']"
   ]
  },
  {
   "cell_type": "code",
   "execution_count": 101,
   "metadata": {},
   "outputs": [
    {
     "data": {
      "text/plain": [
       "0    1683.0\n",
       "Name: total_searches, dtype: float64"
      ]
     },
     "execution_count": 101,
     "metadata": {},
     "output_type": "execute_result"
    }
   ],
   "source": [
    "df_untouched.loc[df_untouched['query']=='candles', 'total_searches']"
   ]
  },
  {
   "cell_type": "code",
   "execution_count": 102,
   "metadata": {},
   "outputs": [],
   "source": [
    "df[['query', 'total_searches']].sort_values('total_searches', ascending=False).head(100).to_csv(\n",
    "    'top100_suggestions', index=False)"
   ]
  },
  {
   "cell_type": "code",
   "execution_count": null,
   "metadata": {},
   "outputs": [],
   "source": []
  },
  {
   "cell_type": "code",
   "execution_count": 103,
   "metadata": {},
   "outputs": [
    {
     "data": {
      "text/plain": [
       "False"
      ]
     },
     "execution_count": 103,
     "metadata": {},
     "output_type": "execute_result"
    }
   ],
   "source": [
    "'candle' in df['query'].values"
   ]
  },
  {
   "cell_type": "code",
   "execution_count": 104,
   "metadata": {},
   "outputs": [
    {
     "data": {
      "text/plain": [
       "True"
      ]
     },
     "execution_count": 104,
     "metadata": {},
     "output_type": "execute_result"
    }
   ],
   "source": [
    "'candle sticks' in df['query'].values"
   ]
  },
  {
   "cell_type": "code",
   "execution_count": 105,
   "metadata": {},
   "outputs": [
    {
     "data": {
      "text/plain": [
       "False"
      ]
     },
     "execution_count": 105,
     "metadata": {},
     "output_type": "execute_result"
    }
   ],
   "source": [
    "'candle stick' in df['query'].values"
   ]
  },
  {
   "cell_type": "code",
   "execution_count": 106,
   "metadata": {},
   "outputs": [
    {
     "data": {
      "text/plain": [
       "(3955, 17)"
      ]
     },
     "execution_count": 106,
     "metadata": {},
     "output_type": "execute_result"
    }
   ],
   "source": [
    "df.shape"
   ]
  },
  {
   "cell_type": "code",
   "execution_count": 107,
   "metadata": {},
   "outputs": [
    {
     "data": {
      "text/html": [
       "<div>\n",
       "<style scoped>\n",
       "    .dataframe tbody tr th:only-of-type {\n",
       "        vertical-align: middle;\n",
       "    }\n",
       "\n",
       "    .dataframe tbody tr th {\n",
       "        vertical-align: top;\n",
       "    }\n",
       "\n",
       "    .dataframe thead th {\n",
       "        text-align: right;\n",
       "    }\n",
       "</style>\n",
       "<table border=\"1\" class=\"dataframe\">\n",
       "  <thead>\n",
       "    <tr style=\"text-align: right;\">\n",
       "      <th></th>\n",
       "      <th>query</th>\n",
       "      <th>total_searches</th>\n",
       "    </tr>\n",
       "  </thead>\n",
       "  <tbody>\n",
       "    <tr>\n",
       "      <th>243</th>\n",
       "      <td>tshirts</td>\n",
       "      <td>111.0</td>\n",
       "    </tr>\n",
       "    <tr>\n",
       "      <th>312</th>\n",
       "      <td>tshirt</td>\n",
       "      <td>74.0</td>\n",
       "    </tr>\n",
       "    <tr>\n",
       "      <th>645</th>\n",
       "      <td>t-shirts</td>\n",
       "      <td>46.0</td>\n",
       "    </tr>\n",
       "    <tr>\n",
       "      <th>911</th>\n",
       "      <td>t-shirt</td>\n",
       "      <td>36.0</td>\n",
       "    </tr>\n",
       "  </tbody>\n",
       "</table>\n",
       "</div>"
      ],
      "text/plain": [
       "        query  total_searches\n",
       "243   tshirts           111.0\n",
       "312    tshirt            74.0\n",
       "645  t-shirts            46.0\n",
       "911   t-shirt            36.0"
      ]
     },
     "execution_count": 107,
     "metadata": {},
     "output_type": "execute_result"
    }
   ],
   "source": [
    "df_untouched.loc[df_untouched['query'].isin(['t-shirt', 't-shirts', 'tshirts', 'tshirt']), ['query', 'total_searches']]"
   ]
  },
  {
   "cell_type": "code",
   "execution_count": 108,
   "metadata": {},
   "outputs": [
    {
     "data": {
      "text/plain": [
       "False"
      ]
     },
     "execution_count": 108,
     "metadata": {},
     "output_type": "execute_result"
    }
   ],
   "source": [
    "'t-shirt' in df['query'].values"
   ]
  },
  {
   "cell_type": "code",
   "execution_count": 109,
   "metadata": {},
   "outputs": [
    {
     "data": {
      "text/plain": [
       "False"
      ]
     },
     "execution_count": 109,
     "metadata": {},
     "output_type": "execute_result"
    }
   ],
   "source": [
    "'tshirts' in df['query'].values"
   ]
  },
  {
   "cell_type": "code",
   "execution_count": 110,
   "metadata": {},
   "outputs": [
    {
     "data": {
      "text/plain": [
       "False"
      ]
     },
     "execution_count": 110,
     "metadata": {},
     "output_type": "execute_result"
    }
   ],
   "source": [
    "'t-shirts' in df['query'].values"
   ]
  },
  {
   "cell_type": "markdown",
   "metadata": {},
   "source": [
    "# Search for profanity"
   ]
  },
  {
   "cell_type": "code",
   "execution_count": 111,
   "metadata": {},
   "outputs": [],
   "source": [
    "from profanityfilter import ProfanityFilter\n",
    "pf = ProfanityFilter()"
   ]
  },
  {
   "cell_type": "code",
   "execution_count": 112,
   "metadata": {},
   "outputs": [
    {
     "name": "stdout",
     "output_type": "stream",
     "text": [
      "WARNING: is fuck a bad word?\n",
      "WARNING: is fanny pack a bad word?\n",
      "WARNING: is boobs a bad word?\n",
      "WARNING: is bitch a bad word?\n",
      "WARNING: is sex a bad word?\n",
      "WARNING: is knobs a bad word?\n",
      "WARNING: is shit a bad word?\n",
      "WARNING: is penis a bad word?\n",
      "WARNING: is gay a bad word?\n",
      "WARNING: is sexy a bad word?\n",
      "WARNING: is bad ass a bad word?\n",
      "WARNING: is poop a bad word?\n",
      "WARNING: is vagina a bad word?\n",
      "WARNING: is tits a bad word?\n",
      "WARNING: is dick a bad word?\n",
      "WARNING: is queer a bad word?\n",
      "WARNING: is sex toys a bad word?\n"
     ]
    }
   ],
   "source": [
    "for q in df['query'].tolist():\n",
    "    if pf.has_bad_word(q):\n",
    "        print('WARNING: is {} a bad word?'.format(q))"
   ]
  },
  {
   "cell_type": "code",
   "execution_count": 113,
   "metadata": {},
   "outputs": [
    {
     "data": {
      "text/plain": [
       "False"
      ]
     },
     "execution_count": 113,
     "metadata": {},
     "output_type": "execute_result"
    }
   ],
   "source": [
    "pf.has_bad_word('balloon')"
   ]
  },
  {
   "cell_type": "code",
   "execution_count": 114,
   "metadata": {},
   "outputs": [
    {
     "data": {
      "text/plain": [
       "False"
      ]
     },
     "execution_count": 114,
     "metadata": {},
     "output_type": "execute_result"
    }
   ],
   "source": [
    "'candel' in df['query'].tolist()"
   ]
  },
  {
   "cell_type": "markdown",
   "metadata": {},
   "source": [
    "# Blacklist some suggestions"
   ]
  },
  {
   "cell_type": "code",
   "execution_count": 115,
   "metadata": {},
   "outputs": [],
   "source": [
    "blacklist = ['penis', 'vagina', 'poop',  \"valentine\", 'tits', \n",
    "             'boobs', 'sex', 'bitch', 'fuck', 'dick', 'sex toys', 'shit',\n",
    "             'cbd', 'cannabis', 'hemp', 'marijuana'\n",
    "            ]"
   ]
  },
  {
   "cell_type": "code",
   "execution_count": 116,
   "metadata": {},
   "outputs": [],
   "source": [
    "for x in blacklist:\n",
    "    df = df.loc[~df['query'].str.contains(x), :]"
   ]
  },
  {
   "cell_type": "code",
   "execution_count": 117,
   "metadata": {},
   "outputs": [
    {
     "data": {
      "text/plain": [
       "(3924, 17)"
      ]
     },
     "execution_count": 117,
     "metadata": {},
     "output_type": "execute_result"
    }
   ],
   "source": [
    "df.shape"
   ]
  },
  {
   "cell_type": "code",
   "execution_count": 118,
   "metadata": {},
   "outputs": [],
   "source": [
    "df[['query', 'total_searches', 'score1', 'score2', 'score3', 'score4']].to_csv(\n",
    "    '../datascience/data/search_autocomplete.csv', index=False) "
   ]
  },
  {
   "cell_type": "code",
   "execution_count": 119,
   "metadata": {},
   "outputs": [],
   "source": [
    "df['query'] = df['query'].str.strip()"
   ]
  },
  {
   "cell_type": "code",
   "execution_count": 120,
   "metadata": {},
   "outputs": [],
   "source": [
    "df['score_t'] = df['score1'].apply(str).str.strip()"
   ]
  },
  {
   "cell_type": "code",
   "execution_count": 121,
   "metadata": {},
   "outputs": [
    {
     "data": {
      "text/plain": [
       "2508.0"
      ]
     },
     "execution_count": 121,
     "metadata": {},
     "output_type": "execute_result"
    }
   ],
   "source": [
    "df['score1'].head().iloc[0]"
   ]
  },
  {
   "cell_type": "code",
   "execution_count": 122,
   "metadata": {},
   "outputs": [
    {
     "data": {
      "text/plain": [
       "'candles'"
      ]
     },
     "execution_count": 122,
     "metadata": {},
     "output_type": "execute_result"
    }
   ],
   "source": [
    "df['query'].head().iloc[0]"
   ]
  },
  {
   "cell_type": "code",
   "execution_count": 123,
   "metadata": {},
   "outputs": [],
   "source": [
    "df[['query', 'score_t']].to_csv('../datascience/search-suggestions/data/search_autocomplete.tsv'\n",
    "    , sep='\\t', index=False, encoding='utf-8', header=False)"
   ]
  },
  {
   "cell_type": "code",
   "execution_count": 124,
   "metadata": {},
   "outputs": [],
   "source": [
    "df[['query', 'score_t']].to_csv('../datascience/data/search_autocomplete.csv', index=False)"
   ]
  },
  {
   "cell_type": "code",
   "execution_count": null,
   "metadata": {},
   "outputs": [],
   "source": []
  }
 ],
 "metadata": {
  "kernelspec": {
   "display_name": "Python 3",
   "language": "python",
   "name": "python3"
  },
  "language_info": {
   "codemirror_mode": {
    "name": "ipython",
    "version": 3
   },
   "file_extension": ".py",
   "mimetype": "text/x-python",
   "name": "python",
   "nbconvert_exporter": "python",
   "pygments_lexer": "ipython3",
   "version": "3.7.1"
  }
 },
 "nbformat": 4,
 "nbformat_minor": 2
}
